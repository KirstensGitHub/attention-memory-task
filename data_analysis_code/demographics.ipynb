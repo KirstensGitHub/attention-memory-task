{
 "cells": [
  {
   "cell_type": "markdown",
   "metadata": {},
   "source": [
    "# Imports"
   ]
  },
  {
   "cell_type": "code",
   "execution_count": 1,
   "metadata": {},
   "outputs": [],
   "source": [
    "import pandas; import os; import pickle"
   ]
  },
  {
   "cell_type": "markdown",
   "metadata": {},
   "source": [
    "# Pre-Questionnaire Read"
   ]
  },
  {
   "cell_type": "markdown",
   "metadata": {},
   "source": [
    "Read in the data from pre-experiment questionnaire and check age range and participant genders"
   ]
  },
  {
   "cell_type": "code",
   "execution_count": 2,
   "metadata": {},
   "outputs": [
    {
     "name": "stdout",
     "output_type": "stream",
     "text": [
      "../sustained_attention_experiment/data/\n",
      "group1\n",
      "\n",
      "10_2018_Oct_03\n",
      "13_2018_Oct_10\n",
      "02_2018_Sep_26\n",
      "31_2018_Oct_21\n",
      "09_2018_Oct_03\n",
      "24_2018_Oct_17\n",
      "20_2018_Oct_14\n",
      "16_2018_Oct_10\n",
      "36_2018_Oct_24\n",
      "15_2018_Oct_10\n",
      "23_2018_Oct_14\n",
      "27_2018_Oct_17\n",
      "32_2018_Oct_21\n",
      "00_2018_Sep_25\n",
      "17_2018_Oct_10\n",
      "34_2018_Oct_24\n",
      "25_2018_Oct_17\n",
      "08_2018_Oct_03\n",
      "21_2018_Oct_14\n",
      "30_2018_Oct_21\n",
      "06_2018_Sep_28\n",
      "11_2018_Oct_03\n",
      "12_2018_Oct_10\n",
      "07_2018_Oct_03\n",
      "18_2018_Oct_10\n",
      "33_2018_Oct_21\n",
      "22_2018_Oct_14\n",
      "26_2018_Oct_17\n",
      "19_2018_Oct_12\n",
      "14_2018_Oct_10\n",
      "../sustained_attention_experiment/data/\n",
      "group2\n",
      "\n",
      "34_2019_Oct_13\n",
      "40_2019_Oct_17\n",
      "7_2019_Oct_13\n",
      "13_2019_Oct_14\n",
      "39_2019_Oct_17\n",
      "16_2019_Oct_08\n",
      "2_2019_Oct_06\n",
      "8_2019_Oct_13\n",
      "32_2019_Oct_15\n",
      "15_2019_Oct_14\n",
      "5_2019_Oct_17\n",
      "1_2019_Oct_13\n",
      "10_2019_Oct_14\n",
      "19_2019_Oct_15\n",
      "4_2019_Oct_13\n",
      "28_2019_Oct_09\n",
      "7_2019_Oct_13_b\n",
      "14_2019_Oct_07\n",
      "3_2019_Oct_13\n",
      "18_2019_Oct_08\n",
      "38_2019_Oct_17\n",
      "35_2019_Oct_13\n",
      "11_2019_Oct_14_b\n",
      "20_2019_Oct_08\n",
      "36_2019_Oct_13\n",
      "5_2019_Oct_13\n",
      "11_2019_Oct_14\n",
      "0_2019_Oct_13\n",
      "25_2019_Oct_08\n",
      "9_2019_Oct_14\n",
      "../variable_attention_experiment/data/\n",
      "group1\n",
      "\n",
      "8_2019_Feb_28\n",
      "15_2019_Apr_01\n",
      "1_2019_Feb_21\n",
      "25_2019_Apr_16\n",
      "12_2019_Mar_27\n",
      "4_2019_Feb_21\n",
      "28_2019_Apr_23\n",
      "19_2019_Apr_01\n",
      "21_2019_Apr_09\n",
      "33_2019_Apr_26\n",
      "7_2019_Feb_28\n",
      "26_2019_Apr_16\n",
      "14_2019_Mar_29\n",
      "2_2019_Feb_21\n",
      "16_2019_Apr_01\n",
      "27_2019_Apr_22\n",
      "23_2019_Apr_10\n",
      "18_2019_Apr_01\n",
      "29_2019_Apr_23\n",
      "13_2019_Mar_29\n",
      "5_2019_Feb_26\n",
      "24_2019_Apr_11\n",
      "0_2019_Feb_21\n",
      "34_2019_Apr_27\n",
      "22_2019_Apr_10\n",
      "327_2019_Mar_27\n",
      "17_2019_Apr_01\n",
      "3_2019_Feb_21\n",
      "10_2019_Mar_27\n",
      "20_2019_Apr_09\n",
      "../variable_attention_experiment/data/\n",
      "group2\n",
      "\n",
      "56_2020_Feb_21\n",
      "17_2019_Nov_18\n",
      "12_2019_Nov_17\n",
      "20_2019_Nov_19\n",
      "30_2020_Jan_13\n",
      "25_2020_Jan_24\n",
      "11_2019_Nov_17\n",
      "18_2019_Nov_19\n",
      "9_2019_Nov_16\n",
      "29_2020_Jan_13\n",
      "14_2019_Nov_17\n",
      "21_2019_Nov_19\n",
      "27_2020_Jan_15\n",
      "6_2019_Nov_15\n",
      "16_2019_Nov_18\n",
      "26_2020_Jan_16\n",
      "28_2020_Jan_13\n",
      "8_2019_Nov_16\n",
      "15_2019_Nov_18\n",
      "5_2019_Nov_15\n",
      "19_2019_Nov_19\n",
      "10_2019_Nov_16\n",
      "0_2020_Feb_07\n"
     ]
    }
   ],
   "source": [
    "## compile full gaze df's from each subject\n",
    "paths   = ['../sustained_attention_experiment/data/', '../variable_attention_experiment/data/']\n",
    "groups  = ['group1', 'group2'] \n",
    "# ^ can look just at group 1 or group 2, if desired, by shortening this list\n",
    "\n",
    "list_a  = []\n",
    "list_b  = []\n",
    "\n",
    "for exp,l in zip(paths,[list_a,list_b]):\n",
    "    for group in groups:\n",
    "        print(exp); print(group); print()\n",
    "        \n",
    "        subjects = os.listdir(exp+group)\n",
    "        #print(subjects)\n",
    "        \n",
    "        for s in subjects:\n",
    "            \n",
    "            if s != '.DS_Store':\n",
    "                \n",
    "                print(s)\n",
    "                \n",
    "                k = [i for i in os.listdir(exp+group+'/'+s) if 'pre_q' in i] \n",
    "                \n",
    "                if len(k)>0:\n",
    "                    \n",
    "                    res = exp+group+'/'+s+'/'+k[0]\n",
    "                    \n",
    "                    with open(res,'rb') as fp:\n",
    "                        data = pickle.load(fp)\n",
    "                    \n",
    "                    l.append(data)\n",
    "                    \n",
    "                else:\n",
    "                    print(s)\n",
    "                    "
   ]
  },
  {
   "cell_type": "markdown",
   "metadata": {},
   "source": [
    "### Gender breakdown, sustained attention"
   ]
  },
  {
   "cell_type": "code",
   "execution_count": 3,
   "metadata": {},
   "outputs": [
    {
     "ename": "NameError",
     "evalue": "name 'pd' is not defined",
     "output_type": "error",
     "traceback": [
      "\u001b[0;31m---------------------------------------------------------------------------\u001b[0m",
      "\u001b[0;31mNameError\u001b[0m                                 Traceback (most recent call last)",
      "Input \u001b[0;32mIn [3]\u001b[0m, in \u001b[0;36m<cell line: 1>\u001b[0;34m()\u001b[0m\n\u001b[0;32m----> 1\u001b[0m sust_df \u001b[38;5;241m=\u001b[39m pd\u001b[38;5;241m.\u001b[39mDataFrame(list_a)\n\u001b[1;32m      2\u001b[0m sust_df\u001b[38;5;241m.\u001b[39mgroupby([\u001b[38;5;241m1\u001b[39m], as_index\u001b[38;5;241m=\u001b[39m\u001b[38;5;28;01mFalse\u001b[39;00m)\u001b[38;5;241m.\u001b[39mcount()\n",
      "\u001b[0;31mNameError\u001b[0m: name 'pd' is not defined"
     ]
    }
   ],
   "source": [
    "sust_df = pd.DataFrame(list_a)\n",
    "sust_df.groupby([1], as_index=False).count()\n",
    "# note: two participants' gender recorded in writing, one did not identify"
   ]
  },
  {
   "cell_type": "markdown",
   "metadata": {},
   "source": [
    "### Gender breakdown, variable attention"
   ]
  },
  {
   "cell_type": "code",
   "execution_count": null,
   "metadata": {},
   "outputs": [],
   "source": [
    "var_df  = pd.DataFrame(list_b)\n",
    "var_df.groupby([1], as_index=False).count()"
   ]
  },
  {
   "cell_type": "markdown",
   "metadata": {},
   "source": [
    "### check min and max ages of participants"
   ]
  },
  {
   "cell_type": "code",
   "execution_count": null,
   "metadata": {},
   "outputs": [],
   "source": [
    "print('Sustained experiment, min age: '+str(sust_df[0].min()))\n",
    "print('Sustained experiment, max age: '+str(sust_df[0].max()))\n",
    "print()\n",
    "print('Variable experiment, min age: '+str(var_df[0].min()) )\n",
    "print('Variable experiment, max age: '+str(var_df[0].max()) )"
   ]
  },
  {
   "cell_type": "markdown",
   "metadata": {},
   "source": [
    "Minimum reported age of 19, Sustained attention experiment"
   ]
  },
  {
   "cell_type": "code",
   "execution_count": null,
   "metadata": {},
   "outputs": [],
   "source": [
    "list(sust_df[0].unique())"
   ]
  }
 ],
 "metadata": {
  "kernelspec": {
   "display_name": "Python 3 (ipykernel)",
   "language": "python",
   "name": "python3"
  },
  "language_info": {
   "codemirror_mode": {
    "name": "ipython",
    "version": 3
   },
   "file_extension": ".py",
   "mimetype": "text/x-python",
   "name": "python",
   "nbconvert_exporter": "python",
   "pygments_lexer": "ipython3",
   "version": "3.8.2"
  }
 },
 "nbformat": 4,
 "nbformat_minor": 2
}
