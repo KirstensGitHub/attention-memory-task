{
 "cells": [
  {
   "cell_type": "code",
   "execution_count": 1,
   "metadata": {},
   "outputs": [
    {
     "name": "stdout",
     "output_type": "stream",
     "text": [
      "Requirement already satisfied: davos in /Users/jmanning/opt/anaconda3/envs/attention-memory.venv/lib/python3.10/site-packages (0.1.1)\n",
      "Requirement already satisfied: packaging in /Users/jmanning/opt/anaconda3/envs/attention-memory.venv/lib/python3.10/site-packages (from davos) (21.3)\n",
      "Requirement already satisfied: setuptools in /Users/jmanning/opt/anaconda3/envs/attention-memory.venv/lib/python3.10/site-packages (from davos) (65.6.3)\n",
      "Requirement already satisfied: pyparsing!=3.0.5,>=2.0.2 in /Users/jmanning/opt/anaconda3/envs/attention-memory.venv/lib/python3.10/site-packages (from packaging->davos) (3.0.4)\n",
      "Note: you may need to restart the kernel to use updated packages.\n"
     ]
    }
   ],
   "source": [
    "%pip install davos\n",
    "import davos\n",
    "\n",
    "davos.config.suppress_stdout = True"
   ]
  },
  {
   "cell_type": "code",
   "execution_count": 2,
   "metadata": {},
   "outputs": [],
   "source": [
    "smuggle datawrangler as dw        # pip: pydata-wrangler==0.2.2\n",
    "\n",
    "smuggle numpy as np               # pip: numpy==1.24.2\n",
    "smuggle matplotlib.pyplot as plt  # pip: matplotlib==3.7.0\n",
    "from matplotlib.patches smuggle Rectangle\n",
    "from matplotlib.collections smuggle PatchCollection\n",
    "smuggle pandas as pd              # pip: pandas==1.5.3\n",
    "smuggle seaborn as sns            # pip: seaborn==0.12.2\n",
    "from scipy.stats import ttest_1samp, ttest_rel, ttest_ind  # pip: scipy==1.10.1\n",
    "from tqdm smuggle tqdm            # pip: tqdm==4.64.1\n",
    "\n",
    "smuggle requests                  # pip: requests==2.28.2\n",
    "\n",
    "from glob import glob as lsdir\n",
    "from datetime import datetime\n",
    "import time\n",
    "import os\n",
    "import pickle\n",
    "import json\n",
    "import warnings\n"
   ]
  },
  {
   "attachments": {},
   "cell_type": "markdown",
   "metadata": {},
   "source": [
    "Download dataset and set up paths"
   ]
  },
  {
   "cell_type": "code",
   "execution_count": 3,
   "metadata": {},
   "outputs": [],
   "source": [
    "basedir = os.path.split(os.getcwd())[0]\n",
    "datadir = os.path.join(basedir, 'data')\n",
    "figdir = os.path.join(basedir, 'paper', 'figs', 'source')\n",
    "\n",
    "if not os.path.exists(figdir):\n",
    "    os.makedirs(figdir)\n",
    "\n",
    "if not os.path.exists(datadir):\n",
    "    os.makedirs(datadir)\n",
    "\n",
    "data_url = 'https://www.dropbox.com/s/99ty0ok8p4m5ijc/data.zip?dl=1'\n",
    "data_fname = os.path.join(basedir, 'data.zip')\n",
    "checkfile_fname = os.path.join(datadir, 'checkfile.txt')\n",
    "\n",
    "if not os.path.exists(data_fname) and not os.path.exists(checkfile_fname):\n",
    "    print('Downloading data...')\n",
    "    r = requests.get(data_url, allow_redirects=True)\n",
    "    open(data_fname, 'wb').write(r.content)\n",
    "\n",
    "if os.path.exists(data_fname) and not os.path.exists(checkfile_fname):\n",
    "    print('Unzipping data...')\n",
    "    !unzip -q $data_fname -d $basedir\n",
    "    !rm $data_fname\n",
    "    !rm -rf $basedir/__MACOSX\n",
    "\n",
    "    with open(checkfile_fname, 'w') as f:\n",
    "        f.write('download complete.')"
   ]
  },
  {
   "attachments": {},
   "cell_type": "markdown",
   "metadata": {},
   "source": [
    "Parse behavioral and eyetracking data files"
   ]
  },
  {
   "cell_type": "code",
   "execution_count": 4,
   "metadata": {},
   "outputs": [],
   "source": [
    "def parse_behavioral_data(datadir):\n",
    "    def get_pres_time(image, stim_type, log):\n",
    "        if type(image) is str:\n",
    "            image_times = log.loc[log['Info'].apply(lambda x: (image in x) and (stim_type in x) if type(x) is str else False)]\n",
    "            assert image_times.shape[0] == 4, Exception(f'Image {image} appears the wrong number of times')\n",
    "            return image_times.iloc[-2]['Time'], image_times.iloc[-1]['Time']\n",
    "        else:\n",
    "            return np.nan, np.nan\n",
    "        \n",
    "    def add_timing_info(subj_df):\n",
    "        def timing_helper(x, log):\n",
    "            image = np.nan\n",
    "            stim_type = ''\n",
    "            if image is np.nan:\n",
    "                image = x['Cued Composite']\n",
    "                stim_type = 'CUED COMPOSITE'\n",
    "            if image is np.nan:\n",
    "                image = x['Memory Image']\n",
    "                stim_type = 'MEMORY IMAGE'\n",
    "            \n",
    "            return get_pres_time(image, stim_type, log)\n",
    "        \n",
    "        result = []\n",
    "        runs = np.unique(subj_df['Run'])\n",
    "        for i in runs:\n",
    "            log = pd.read_csv(os.path.join(datadir, subj_df['Subject'].values[0], f'-{i}.log'), delimiter='\\t', header=None, names=['Time', 'Event', 'Info'])\n",
    "            start_time = float(log[log['Info'].apply(lambda x: 'current time: ' in x if type(x) is str else False)]['Info'].values[0].split()[-1])\n",
    "            \n",
    "            x = subj_df.query('Run == @i').copy()\n",
    "            next_times = x.apply(lambda y: timing_helper(y, log), axis=1)\n",
    "\n",
    "            x['Stimulus Onset'] = [float(t[0]) + start_time for t in next_times]\n",
    "            x['Stimulus Offset'] = [float(t[1]) + start_time for t in next_times]\n",
    "\n",
    "            result.append(x.drop('Stimulus End', axis=1))\n",
    "        return pd.concat(result, ignore_index=True)\n",
    "\n",
    "    def helper(subjdir):\n",
    "        subj = os.path.basename(subjdir)\n",
    "\n",
    "        pres_fnames = lsdir(os.path.join(subjdir, 'pres*.csv'))\n",
    "        mem_fnames = lsdir(os.path.join(subjdir, 'mem*.csv'))\n",
    "\n",
    "        pres = pd.concat([pd.read_csv(fname) for fname in pres_fnames], ignore_index=True)\n",
    "        mem = pd.concat([pd.read_csv(fname) for fname in mem_fnames], ignore_index=True)\n",
    "        \n",
    "        df = pd.concat([pres, mem], ignore_index=True).sort_values(['Run']).drop('Unnamed: 0', axis=1)\n",
    "        df['Subject'] = subj\n",
    "        df = add_timing_info(df)\n",
    "        return df\n",
    "\n",
    "    subjdirs = lsdir(os.path.join(datadir, '*_20??_*_*'))\n",
    "    data = []\n",
    "    for subjdir in tqdm(subjdirs):\n",
    "        data.append(helper(subjdir))\n",
    "\n",
    "    drop = ['Attention Response Time (s)', 'Attention Level', 'Post Invalid Cue', 'Pre Invalid Cue', 'Attention Button', 'Rating History', 'Category', 'Attention Probe', 'Cue Validity']\n",
    "    return pd.concat(data, ignore_index=True).drop(drop, axis=1).rename({'Cued Side': 'Cued Location'}, axis=1)"
   ]
  },
  {
   "cell_type": "code",
   "execution_count": 5,
   "metadata": {},
   "outputs": [
    {
     "name": "stderr",
     "output_type": "stream",
     "text": [
      "100%|██████████| 30/30 [00:04<00:00,  7.17it/s]\n",
      "100%|██████████| 23/23 [00:03<00:00,  7.23it/s]\n"
     ]
    }
   ],
   "source": [
    "sustained_behavioral = parse_behavioral_data(os.path.join(datadir, 'sustained'))\n",
    "variable_behavioral = parse_behavioral_data(os.path.join(datadir, 'variable'))"
   ]
  },
  {
   "cell_type": "code",
   "execution_count": 6,
   "metadata": {},
   "outputs": [
    {
     "data": {
      "text/html": [
       "<div>\n",
       "<style scoped>\n",
       "    .dataframe tbody tr th:only-of-type {\n",
       "        vertical-align: middle;\n",
       "    }\n",
       "\n",
       "    .dataframe tbody tr th {\n",
       "        vertical-align: top;\n",
       "    }\n",
       "\n",
       "    .dataframe thead th {\n",
       "        text-align: right;\n",
       "    }\n",
       "</style>\n",
       "<table border=\"1\" class=\"dataframe\">\n",
       "  <thead>\n",
       "    <tr style=\"text-align: right;\">\n",
       "      <th></th>\n",
       "      <th>Subject</th>\n",
       "      <th>Trial Type</th>\n",
       "      <th>Run</th>\n",
       "      <th>Cued Composite</th>\n",
       "      <th>Uncued Composite</th>\n",
       "      <th>Cued Face</th>\n",
       "      <th>Cued Place</th>\n",
       "      <th>Uncued Face</th>\n",
       "      <th>Uncued Place</th>\n",
       "      <th>Memory Image</th>\n",
       "      <th>Cued Location</th>\n",
       "      <th>Cued Category</th>\n",
       "      <th>Familiarity Reaction Time (s)</th>\n",
       "      <th>Familiarity Rating</th>\n",
       "      <th>Stimulus Onset</th>\n",
       "      <th>Stimulus Offset</th>\n",
       "    </tr>\n",
       "  </thead>\n",
       "  <tbody>\n",
       "    <tr>\n",
       "      <th>0</th>\n",
       "      <td>34_2019_Oct_13</td>\n",
       "      <td>Memory</td>\n",
       "      <td>0</td>\n",
       "      <td>NaN</td>\n",
       "      <td>NaN</td>\n",
       "      <td>NaN</td>\n",
       "      <td>NaN</td>\n",
       "      <td>NaN</td>\n",
       "      <td>NaN</td>\n",
       "      <td>00753941201fa.jpg</td>\n",
       "      <td>NaN</td>\n",
       "      <td>NaN</td>\n",
       "      <td>1.204</td>\n",
       "      <td>1.0</td>\n",
       "      <td>1.570973e+09</td>\n",
       "      <td>1.570973e+09</td>\n",
       "    </tr>\n",
       "    <tr>\n",
       "      <th>1</th>\n",
       "      <td>34_2019_Oct_13</td>\n",
       "      <td>Memory</td>\n",
       "      <td>0</td>\n",
       "      <td>NaN</td>\n",
       "      <td>NaN</td>\n",
       "      <td>NaN</td>\n",
       "      <td>NaN</td>\n",
       "      <td>NaN</td>\n",
       "      <td>NaN</td>\n",
       "      <td>00754941201fa.jpg</td>\n",
       "      <td>NaN</td>\n",
       "      <td>NaN</td>\n",
       "      <td>0.872</td>\n",
       "      <td>4.0</td>\n",
       "      <td>1.570973e+09</td>\n",
       "      <td>1.570973e+09</td>\n",
       "    </tr>\n",
       "    <tr>\n",
       "      <th>2</th>\n",
       "      <td>34_2019_Oct_13</td>\n",
       "      <td>Memory</td>\n",
       "      <td>0</td>\n",
       "      <td>NaN</td>\n",
       "      <td>NaN</td>\n",
       "      <td>NaN</td>\n",
       "      <td>NaN</td>\n",
       "      <td>NaN</td>\n",
       "      <td>NaN</td>\n",
       "      <td>00779941205fa.jpg</td>\n",
       "      <td>NaN</td>\n",
       "      <td>NaN</td>\n",
       "      <td>1.137</td>\n",
       "      <td>4.0</td>\n",
       "      <td>1.570973e+09</td>\n",
       "      <td>1.570973e+09</td>\n",
       "    </tr>\n",
       "    <tr>\n",
       "      <th>3</th>\n",
       "      <td>34_2019_Oct_13</td>\n",
       "      <td>Memory</td>\n",
       "      <td>0</td>\n",
       "      <td>NaN</td>\n",
       "      <td>NaN</td>\n",
       "      <td>NaN</td>\n",
       "      <td>NaN</td>\n",
       "      <td>NaN</td>\n",
       "      <td>NaN</td>\n",
       "      <td>sunafbwnojpqeyzssoe.jpg</td>\n",
       "      <td>NaN</td>\n",
       "      <td>NaN</td>\n",
       "      <td>1.042</td>\n",
       "      <td>2.0</td>\n",
       "      <td>1.570973e+09</td>\n",
       "      <td>1.570973e+09</td>\n",
       "    </tr>\n",
       "    <tr>\n",
       "      <th>4</th>\n",
       "      <td>34_2019_Oct_13</td>\n",
       "      <td>Memory</td>\n",
       "      <td>0</td>\n",
       "      <td>NaN</td>\n",
       "      <td>NaN</td>\n",
       "      <td>NaN</td>\n",
       "      <td>NaN</td>\n",
       "      <td>NaN</td>\n",
       "      <td>NaN</td>\n",
       "      <td>sunaaeplwsfslcbtojr.jpg</td>\n",
       "      <td>NaN</td>\n",
       "      <td>NaN</td>\n",
       "      <td>1.271</td>\n",
       "      <td>2.0</td>\n",
       "      <td>1.570973e+09</td>\n",
       "      <td>1.570973e+09</td>\n",
       "    </tr>\n",
       "    <tr>\n",
       "      <th>...</th>\n",
       "      <td>...</td>\n",
       "      <td>...</td>\n",
       "      <td>...</td>\n",
       "      <td>...</td>\n",
       "      <td>...</td>\n",
       "      <td>...</td>\n",
       "      <td>...</td>\n",
       "      <td>...</td>\n",
       "      <td>...</td>\n",
       "      <td>...</td>\n",
       "      <td>...</td>\n",
       "      <td>...</td>\n",
       "      <td>...</td>\n",
       "      <td>...</td>\n",
       "      <td>...</td>\n",
       "      <td>...</td>\n",
       "    </tr>\n",
       "    <tr>\n",
       "      <th>11995</th>\n",
       "      <td>9_2019_Oct_14</td>\n",
       "      <td>Memory</td>\n",
       "      <td>7</td>\n",
       "      <td>NaN</td>\n",
       "      <td>NaN</td>\n",
       "      <td>NaN</td>\n",
       "      <td>NaN</td>\n",
       "      <td>NaN</td>\n",
       "      <td>NaN</td>\n",
       "      <td>sunajtrfunvzdfticna.jpg</td>\n",
       "      <td>NaN</td>\n",
       "      <td>NaN</td>\n",
       "      <td>0.865</td>\n",
       "      <td>1.0</td>\n",
       "      <td>1.571074e+09</td>\n",
       "      <td>1.571074e+09</td>\n",
       "    </tr>\n",
       "    <tr>\n",
       "      <th>11996</th>\n",
       "      <td>9_2019_Oct_14</td>\n",
       "      <td>Memory</td>\n",
       "      <td>7</td>\n",
       "      <td>NaN</td>\n",
       "      <td>NaN</td>\n",
       "      <td>NaN</td>\n",
       "      <td>NaN</td>\n",
       "      <td>NaN</td>\n",
       "      <td>NaN</td>\n",
       "      <td>sunagdzlvkqtpnfxfcg.jpg</td>\n",
       "      <td>NaN</td>\n",
       "      <td>NaN</td>\n",
       "      <td>0.687</td>\n",
       "      <td>2.0</td>\n",
       "      <td>1.571074e+09</td>\n",
       "      <td>1.571074e+09</td>\n",
       "    </tr>\n",
       "    <tr>\n",
       "      <th>11997</th>\n",
       "      <td>9_2019_Oct_14</td>\n",
       "      <td>Memory</td>\n",
       "      <td>7</td>\n",
       "      <td>NaN</td>\n",
       "      <td>NaN</td>\n",
       "      <td>NaN</td>\n",
       "      <td>NaN</td>\n",
       "      <td>NaN</td>\n",
       "      <td>NaN</td>\n",
       "      <td>sunayaepykrqvenaqqy.jpg</td>\n",
       "      <td>NaN</td>\n",
       "      <td>NaN</td>\n",
       "      <td>0.988</td>\n",
       "      <td>3.0</td>\n",
       "      <td>1.571074e+09</td>\n",
       "      <td>1.571074e+09</td>\n",
       "    </tr>\n",
       "    <tr>\n",
       "      <th>11998</th>\n",
       "      <td>9_2019_Oct_14</td>\n",
       "      <td>Memory</td>\n",
       "      <td>7</td>\n",
       "      <td>NaN</td>\n",
       "      <td>NaN</td>\n",
       "      <td>NaN</td>\n",
       "      <td>NaN</td>\n",
       "      <td>NaN</td>\n",
       "      <td>NaN</td>\n",
       "      <td>00754941201fa.jpg</td>\n",
       "      <td>NaN</td>\n",
       "      <td>NaN</td>\n",
       "      <td>1.172</td>\n",
       "      <td>2.0</td>\n",
       "      <td>1.571074e+09</td>\n",
       "      <td>1.571074e+09</td>\n",
       "    </tr>\n",
       "    <tr>\n",
       "      <th>11999</th>\n",
       "      <td>9_2019_Oct_14</td>\n",
       "      <td>Memory</td>\n",
       "      <td>7</td>\n",
       "      <td>NaN</td>\n",
       "      <td>NaN</td>\n",
       "      <td>NaN</td>\n",
       "      <td>NaN</td>\n",
       "      <td>NaN</td>\n",
       "      <td>NaN</td>\n",
       "      <td>sunaafynehyrzpsoaml.jpg</td>\n",
       "      <td>NaN</td>\n",
       "      <td>NaN</td>\n",
       "      <td>1.128</td>\n",
       "      <td>3.0</td>\n",
       "      <td>1.571074e+09</td>\n",
       "      <td>1.571074e+09</td>\n",
       "    </tr>\n",
       "  </tbody>\n",
       "</table>\n",
       "<p>12000 rows × 16 columns</p>\n",
       "</div>"
      ],
      "text/plain": [
       "              Subject Trial Type  Run Cued Composite Uncued Composite  \\\n",
       "0      34_2019_Oct_13     Memory    0            NaN              NaN   \n",
       "1      34_2019_Oct_13     Memory    0            NaN              NaN   \n",
       "2      34_2019_Oct_13     Memory    0            NaN              NaN   \n",
       "3      34_2019_Oct_13     Memory    0            NaN              NaN   \n",
       "4      34_2019_Oct_13     Memory    0            NaN              NaN   \n",
       "...               ...        ...  ...            ...              ...   \n",
       "11995   9_2019_Oct_14     Memory    7            NaN              NaN   \n",
       "11996   9_2019_Oct_14     Memory    7            NaN              NaN   \n",
       "11997   9_2019_Oct_14     Memory    7            NaN              NaN   \n",
       "11998   9_2019_Oct_14     Memory    7            NaN              NaN   \n",
       "11999   9_2019_Oct_14     Memory    7            NaN              NaN   \n",
       "\n",
       "      Cued Face Cued Place Uncued Face Uncued Place             Memory Image  \\\n",
       "0           NaN        NaN         NaN          NaN        00753941201fa.jpg   \n",
       "1           NaN        NaN         NaN          NaN        00754941201fa.jpg   \n",
       "2           NaN        NaN         NaN          NaN        00779941205fa.jpg   \n",
       "3           NaN        NaN         NaN          NaN  sunafbwnojpqeyzssoe.jpg   \n",
       "4           NaN        NaN         NaN          NaN  sunaaeplwsfslcbtojr.jpg   \n",
       "...         ...        ...         ...          ...                      ...   \n",
       "11995       NaN        NaN         NaN          NaN  sunajtrfunvzdfticna.jpg   \n",
       "11996       NaN        NaN         NaN          NaN  sunagdzlvkqtpnfxfcg.jpg   \n",
       "11997       NaN        NaN         NaN          NaN  sunayaepykrqvenaqqy.jpg   \n",
       "11998       NaN        NaN         NaN          NaN        00754941201fa.jpg   \n",
       "11999       NaN        NaN         NaN          NaN  sunaafynehyrzpsoaml.jpg   \n",
       "\n",
       "      Cued Location Cued Category  Familiarity Reaction Time (s)  \\\n",
       "0               NaN           NaN                          1.204   \n",
       "1               NaN           NaN                          0.872   \n",
       "2               NaN           NaN                          1.137   \n",
       "3               NaN           NaN                          1.042   \n",
       "4               NaN           NaN                          1.271   \n",
       "...             ...           ...                            ...   \n",
       "11995           NaN           NaN                          0.865   \n",
       "11996           NaN           NaN                          0.687   \n",
       "11997           NaN           NaN                          0.988   \n",
       "11998           NaN           NaN                          1.172   \n",
       "11999           NaN           NaN                          1.128   \n",
       "\n",
       "       Familiarity Rating  Stimulus Onset  Stimulus Offset  \n",
       "0                     1.0    1.570973e+09     1.570973e+09  \n",
       "1                     4.0    1.570973e+09     1.570973e+09  \n",
       "2                     4.0    1.570973e+09     1.570973e+09  \n",
       "3                     2.0    1.570973e+09     1.570973e+09  \n",
       "4                     2.0    1.570973e+09     1.570973e+09  \n",
       "...                   ...             ...              ...  \n",
       "11995                 1.0    1.571074e+09     1.571074e+09  \n",
       "11996                 2.0    1.571074e+09     1.571074e+09  \n",
       "11997                 3.0    1.571074e+09     1.571074e+09  \n",
       "11998                 2.0    1.571074e+09     1.571074e+09  \n",
       "11999                 3.0    1.571074e+09     1.571074e+09  \n",
       "\n",
       "[12000 rows x 16 columns]"
      ]
     },
     "execution_count": 6,
     "metadata": {},
     "output_type": "execute_result"
    }
   ],
   "source": [
    "sustained_behavioral"
   ]
  },
  {
   "cell_type": "code",
   "execution_count": 7,
   "metadata": {},
   "outputs": [
    {
     "data": {
      "text/html": [
       "<div>\n",
       "<style scoped>\n",
       "    .dataframe tbody tr th:only-of-type {\n",
       "        vertical-align: middle;\n",
       "    }\n",
       "\n",
       "    .dataframe tbody tr th {\n",
       "        vertical-align: top;\n",
       "    }\n",
       "\n",
       "    .dataframe thead th {\n",
       "        text-align: right;\n",
       "    }\n",
       "</style>\n",
       "<table border=\"1\" class=\"dataframe\">\n",
       "  <thead>\n",
       "    <tr style=\"text-align: right;\">\n",
       "      <th></th>\n",
       "      <th>Subject</th>\n",
       "      <th>Trial Type</th>\n",
       "      <th>Run</th>\n",
       "      <th>Cued Composite</th>\n",
       "      <th>Uncued Composite</th>\n",
       "      <th>Cued Face</th>\n",
       "      <th>Cued Place</th>\n",
       "      <th>Uncued Face</th>\n",
       "      <th>Uncued Place</th>\n",
       "      <th>Memory Image</th>\n",
       "      <th>Cued Location</th>\n",
       "      <th>Cued Category</th>\n",
       "      <th>Familiarity Reaction Time (s)</th>\n",
       "      <th>Familiarity Rating</th>\n",
       "      <th>Stimulus Onset</th>\n",
       "      <th>Stimulus Offset</th>\n",
       "    </tr>\n",
       "  </thead>\n",
       "  <tbody>\n",
       "    <tr>\n",
       "      <th>0</th>\n",
       "      <td>56_2020_Feb_21</td>\n",
       "      <td>Memory</td>\n",
       "      <td>0</td>\n",
       "      <td>NaN</td>\n",
       "      <td>NaN</td>\n",
       "      <td>NaN</td>\n",
       "      <td>NaN</td>\n",
       "      <td>NaN</td>\n",
       "      <td>NaN</td>\n",
       "      <td>00720960620fa.jpg</td>\n",
       "      <td>NaN</td>\n",
       "      <td>NaN</td>\n",
       "      <td>1.008</td>\n",
       "      <td>1.0</td>\n",
       "      <td>1.582317e+09</td>\n",
       "      <td>1.582317e+09</td>\n",
       "    </tr>\n",
       "    <tr>\n",
       "      <th>1</th>\n",
       "      <td>56_2020_Feb_21</td>\n",
       "      <td>Memory</td>\n",
       "      <td>0</td>\n",
       "      <td>NaN</td>\n",
       "      <td>NaN</td>\n",
       "      <td>NaN</td>\n",
       "      <td>NaN</td>\n",
       "      <td>NaN</td>\n",
       "      <td>NaN</td>\n",
       "      <td>sunagufzbeteqdjxais.jpg</td>\n",
       "      <td>NaN</td>\n",
       "      <td>NaN</td>\n",
       "      <td>0.923</td>\n",
       "      <td>1.0</td>\n",
       "      <td>1.582317e+09</td>\n",
       "      <td>1.582317e+09</td>\n",
       "    </tr>\n",
       "    <tr>\n",
       "      <th>2</th>\n",
       "      <td>56_2020_Feb_21</td>\n",
       "      <td>Memory</td>\n",
       "      <td>0</td>\n",
       "      <td>NaN</td>\n",
       "      <td>NaN</td>\n",
       "      <td>NaN</td>\n",
       "      <td>NaN</td>\n",
       "      <td>NaN</td>\n",
       "      <td>NaN</td>\n",
       "      <td>sunaecpkgfewqqreqwe.jpg</td>\n",
       "      <td>NaN</td>\n",
       "      <td>NaN</td>\n",
       "      <td>0.698</td>\n",
       "      <td>2.0</td>\n",
       "      <td>1.582317e+09</td>\n",
       "      <td>1.582317e+09</td>\n",
       "    </tr>\n",
       "    <tr>\n",
       "      <th>3</th>\n",
       "      <td>56_2020_Feb_21</td>\n",
       "      <td>Memory</td>\n",
       "      <td>0</td>\n",
       "      <td>NaN</td>\n",
       "      <td>NaN</td>\n",
       "      <td>NaN</td>\n",
       "      <td>NaN</td>\n",
       "      <td>NaN</td>\n",
       "      <td>NaN</td>\n",
       "      <td>00146960620fb.jpg</td>\n",
       "      <td>NaN</td>\n",
       "      <td>NaN</td>\n",
       "      <td>0.000</td>\n",
       "      <td>NaN</td>\n",
       "      <td>1.582317e+09</td>\n",
       "      <td>1.582317e+09</td>\n",
       "    </tr>\n",
       "    <tr>\n",
       "      <th>4</th>\n",
       "      <td>56_2020_Feb_21</td>\n",
       "      <td>Memory</td>\n",
       "      <td>0</td>\n",
       "      <td>NaN</td>\n",
       "      <td>NaN</td>\n",
       "      <td>NaN</td>\n",
       "      <td>NaN</td>\n",
       "      <td>NaN</td>\n",
       "      <td>NaN</td>\n",
       "      <td>sunbpflsdaxnddnwcqi.jpg</td>\n",
       "      <td>NaN</td>\n",
       "      <td>NaN</td>\n",
       "      <td>0.718</td>\n",
       "      <td>2.0</td>\n",
       "      <td>1.582317e+09</td>\n",
       "      <td>1.582317e+09</td>\n",
       "    </tr>\n",
       "    <tr>\n",
       "      <th>...</th>\n",
       "      <td>...</td>\n",
       "      <td>...</td>\n",
       "      <td>...</td>\n",
       "      <td>...</td>\n",
       "      <td>...</td>\n",
       "      <td>...</td>\n",
       "      <td>...</td>\n",
       "      <td>...</td>\n",
       "      <td>...</td>\n",
       "      <td>...</td>\n",
       "      <td>...</td>\n",
       "      <td>...</td>\n",
       "      <td>...</td>\n",
       "      <td>...</td>\n",
       "      <td>...</td>\n",
       "      <td>...</td>\n",
       "    </tr>\n",
       "    <tr>\n",
       "      <th>9195</th>\n",
       "      <td>0_2020_Feb_07</td>\n",
       "      <td>Memory</td>\n",
       "      <td>7</td>\n",
       "      <td>NaN</td>\n",
       "      <td>NaN</td>\n",
       "      <td>NaN</td>\n",
       "      <td>NaN</td>\n",
       "      <td>NaN</td>\n",
       "      <td>NaN</td>\n",
       "      <td>00062931230fb.jpg</td>\n",
       "      <td>NaN</td>\n",
       "      <td>NaN</td>\n",
       "      <td>0.945</td>\n",
       "      <td>1.0</td>\n",
       "      <td>1.581101e+09</td>\n",
       "      <td>1.581101e+09</td>\n",
       "    </tr>\n",
       "    <tr>\n",
       "      <th>9196</th>\n",
       "      <td>0_2020_Feb_07</td>\n",
       "      <td>Memory</td>\n",
       "      <td>7</td>\n",
       "      <td>NaN</td>\n",
       "      <td>NaN</td>\n",
       "      <td>NaN</td>\n",
       "      <td>NaN</td>\n",
       "      <td>NaN</td>\n",
       "      <td>NaN</td>\n",
       "      <td>00198940128fb.jpg</td>\n",
       "      <td>NaN</td>\n",
       "      <td>NaN</td>\n",
       "      <td>0.979</td>\n",
       "      <td>3.0</td>\n",
       "      <td>1.581101e+09</td>\n",
       "      <td>1.581101e+09</td>\n",
       "    </tr>\n",
       "    <tr>\n",
       "      <th>9197</th>\n",
       "      <td>0_2020_Feb_07</td>\n",
       "      <td>Memory</td>\n",
       "      <td>7</td>\n",
       "      <td>NaN</td>\n",
       "      <td>NaN</td>\n",
       "      <td>NaN</td>\n",
       "      <td>NaN</td>\n",
       "      <td>NaN</td>\n",
       "      <td>NaN</td>\n",
       "      <td>00184940128fa.jpg</td>\n",
       "      <td>NaN</td>\n",
       "      <td>NaN</td>\n",
       "      <td>1.363</td>\n",
       "      <td>3.0</td>\n",
       "      <td>1.581101e+09</td>\n",
       "      <td>1.581101e+09</td>\n",
       "    </tr>\n",
       "    <tr>\n",
       "      <th>9198</th>\n",
       "      <td>0_2020_Feb_07</td>\n",
       "      <td>Memory</td>\n",
       "      <td>7</td>\n",
       "      <td>NaN</td>\n",
       "      <td>NaN</td>\n",
       "      <td>NaN</td>\n",
       "      <td>NaN</td>\n",
       "      <td>NaN</td>\n",
       "      <td>NaN</td>\n",
       "      <td>sunabcuurugvxwparpk.jpg</td>\n",
       "      <td>NaN</td>\n",
       "      <td>NaN</td>\n",
       "      <td>1.269</td>\n",
       "      <td>2.0</td>\n",
       "      <td>1.581101e+09</td>\n",
       "      <td>1.581101e+09</td>\n",
       "    </tr>\n",
       "    <tr>\n",
       "      <th>9199</th>\n",
       "      <td>0_2020_Feb_07</td>\n",
       "      <td>Memory</td>\n",
       "      <td>7</td>\n",
       "      <td>NaN</td>\n",
       "      <td>NaN</td>\n",
       "      <td>NaN</td>\n",
       "      <td>NaN</td>\n",
       "      <td>NaN</td>\n",
       "      <td>NaN</td>\n",
       "      <td>00768941205fa.jpg</td>\n",
       "      <td>NaN</td>\n",
       "      <td>NaN</td>\n",
       "      <td>0.511</td>\n",
       "      <td>1.0</td>\n",
       "      <td>1.581101e+09</td>\n",
       "      <td>1.581101e+09</td>\n",
       "    </tr>\n",
       "  </tbody>\n",
       "</table>\n",
       "<p>9200 rows × 16 columns</p>\n",
       "</div>"
      ],
      "text/plain": [
       "             Subject Trial Type  Run Cued Composite Uncued Composite  \\\n",
       "0     56_2020_Feb_21     Memory    0            NaN              NaN   \n",
       "1     56_2020_Feb_21     Memory    0            NaN              NaN   \n",
       "2     56_2020_Feb_21     Memory    0            NaN              NaN   \n",
       "3     56_2020_Feb_21     Memory    0            NaN              NaN   \n",
       "4     56_2020_Feb_21     Memory    0            NaN              NaN   \n",
       "...              ...        ...  ...            ...              ...   \n",
       "9195   0_2020_Feb_07     Memory    7            NaN              NaN   \n",
       "9196   0_2020_Feb_07     Memory    7            NaN              NaN   \n",
       "9197   0_2020_Feb_07     Memory    7            NaN              NaN   \n",
       "9198   0_2020_Feb_07     Memory    7            NaN              NaN   \n",
       "9199   0_2020_Feb_07     Memory    7            NaN              NaN   \n",
       "\n",
       "      Cued Face  Cued Place  Uncued Face  Uncued Place  \\\n",
       "0           NaN         NaN          NaN           NaN   \n",
       "1           NaN         NaN          NaN           NaN   \n",
       "2           NaN         NaN          NaN           NaN   \n",
       "3           NaN         NaN          NaN           NaN   \n",
       "4           NaN         NaN          NaN           NaN   \n",
       "...         ...         ...          ...           ...   \n",
       "9195        NaN         NaN          NaN           NaN   \n",
       "9196        NaN         NaN          NaN           NaN   \n",
       "9197        NaN         NaN          NaN           NaN   \n",
       "9198        NaN         NaN          NaN           NaN   \n",
       "9199        NaN         NaN          NaN           NaN   \n",
       "\n",
       "                 Memory Image Cued Location Cued Category  \\\n",
       "0           00720960620fa.jpg           NaN           NaN   \n",
       "1     sunagufzbeteqdjxais.jpg           NaN           NaN   \n",
       "2     sunaecpkgfewqqreqwe.jpg           NaN           NaN   \n",
       "3           00146960620fb.jpg           NaN           NaN   \n",
       "4     sunbpflsdaxnddnwcqi.jpg           NaN           NaN   \n",
       "...                       ...           ...           ...   \n",
       "9195        00062931230fb.jpg           NaN           NaN   \n",
       "9196        00198940128fb.jpg           NaN           NaN   \n",
       "9197        00184940128fa.jpg           NaN           NaN   \n",
       "9198  sunabcuurugvxwparpk.jpg           NaN           NaN   \n",
       "9199        00768941205fa.jpg           NaN           NaN   \n",
       "\n",
       "      Familiarity Reaction Time (s)  Familiarity Rating  Stimulus Onset  \\\n",
       "0                             1.008                 1.0    1.582317e+09   \n",
       "1                             0.923                 1.0    1.582317e+09   \n",
       "2                             0.698                 2.0    1.582317e+09   \n",
       "3                             0.000                 NaN    1.582317e+09   \n",
       "4                             0.718                 2.0    1.582317e+09   \n",
       "...                             ...                 ...             ...   \n",
       "9195                          0.945                 1.0    1.581101e+09   \n",
       "9196                          0.979                 3.0    1.581101e+09   \n",
       "9197                          1.363                 3.0    1.581101e+09   \n",
       "9198                          1.269                 2.0    1.581101e+09   \n",
       "9199                          0.511                 1.0    1.581101e+09   \n",
       "\n",
       "      Stimulus Offset  \n",
       "0        1.582317e+09  \n",
       "1        1.582317e+09  \n",
       "2        1.582317e+09  \n",
       "3        1.582317e+09  \n",
       "4        1.582317e+09  \n",
       "...               ...  \n",
       "9195     1.581101e+09  \n",
       "9196     1.581101e+09  \n",
       "9197     1.581101e+09  \n",
       "9198     1.581101e+09  \n",
       "9199     1.581101e+09  \n",
       "\n",
       "[9200 rows x 16 columns]"
      ]
     },
     "execution_count": 7,
     "metadata": {},
     "output_type": "execute_result"
    }
   ],
   "source": [
    "variable_behavioral"
   ]
  },
  {
   "cell_type": "code",
   "execution_count": 8,
   "metadata": {},
   "outputs": [],
   "source": [
    "def parse_gaze_data(datadir):\n",
    "    def multi_get(d, keys):\n",
    "        if type(d) is list:\n",
    "            x = [multi_get(i, keys) for i in d]\n",
    "            with warnings.catch_warnings():\n",
    "                warnings.simplefilter('ignore')  # ignore typecast deprecation warning\n",
    "                return pd.DataFrame.from_dict(x)\n",
    "\n",
    "        if type(keys) is dict:\n",
    "            return {k: multi_get(d, v) for k, v in keys.items()}\n",
    "\n",
    "        vals = []\n",
    "        for k in keys:\n",
    "            if type(k) is list:\n",
    "                vals.append(multi_get(d, k))\n",
    "            elif k in d:\n",
    "                d = d[k]\n",
    "            else:\n",
    "                return np.nan\n",
    "        if len(vals) == 0:\n",
    "            return d\n",
    "        else:\n",
    "            try:\n",
    "                if len(vals) == 0 or np.isnan(vals).all():\n",
    "                    return np.nan\n",
    "                return np.nanmean(vals)\n",
    "            except:\n",
    "                return vals\n",
    "    \n",
    "    gaze_dict = {'Time': ['values', 'frame', 'timestamp'],\n",
    "             'x': ['values', 'frame', 'avg', 'x'],\n",
    "             'y': ['values', 'frame', 'avg', 'y'],\n",
    "            'Pupil size': [['values', 'frame', 'lefteye', 'psize'], ['values', 'frame', 'righteye', 'psize']]}\n",
    "\n",
    "    str2unix = lambda t: time.mktime(datetime.strptime(t, '%Y-%m-%d %H:%M:%S.%f').timetuple())\n",
    "    \n",
    "    def helper(subjdir):\n",
    "        subj = os.path.basename(subjdir)\n",
    "\n",
    "        gaze_data_files = lsdir(os.path.join(subjdir, 'eye_data', '*_*'))\n",
    "        gaze_data = []\n",
    "        for g in gaze_data_files:\n",
    "            with open(g, 'r') as f:\n",
    "                content = f.readlines()\n",
    "                \n",
    "                data = []\n",
    "                for line in content:\n",
    "                    try:\n",
    "                        data.append(json.loads(line))\n",
    "                    except:\n",
    "                        pass # ignore lines that can't be parsed as json\n",
    "            \n",
    "            df = multi_get(data, gaze_dict)\n",
    "            df['Subject'] = subj\n",
    "            df['Run'] = int(os.path.basename(g).split('_')[1])\n",
    "\n",
    "            # convert x and y values to cm\n",
    "            if df.shape[0] > 0:\n",
    "                df['x'] = df['x'] * (59.8 / 2048)\n",
    "                df['y'] = df['y'] * (33.6 / 1152)            \n",
    "\n",
    "                # drop missing or invalid data (pupil size <= 0, x or y off screen)\n",
    "                gaze_data.append(df.query('`Pupil size` > 0 & x > 0 & y > 0 & x < 59.8 & y < 33.6').dropna(how='all', axis=0))\n",
    "\n",
    "        # drop missing or invalid data (pupil size <= 0, x or y <= 0)\n",
    "        df = pd.concat(gaze_data, axis=0, ignore_index=True).dropna(how='all', axis=0)\n",
    "\n",
    "        try:\n",
    "            df['Time'] = df['Time'].apply(str2unix)\n",
    "        except:\n",
    "            pass\n",
    "        return df\n",
    "\n",
    "    subjdirs = lsdir(os.path.join(datadir, '*_20??_*_*'))\n",
    "    data = []\n",
    "    for subjdir in tqdm(subjdirs):\n",
    "        data.append(helper(subjdir))\n",
    "    return pd.concat(data, ignore_index=True)"
   ]
  },
  {
   "cell_type": "code",
   "execution_count": 9,
   "metadata": {},
   "outputs": [],
   "source": [
    "gaze_fname = os.path.join(datadir, 'gaze_data.pkl')\n",
    "if os.path.exists(gaze_fname):\n",
    "    sustained_gaze, variable_gaze = pd.read_pickle(gaze_fname)\n",
    "else:\n",
    "    sustained_gaze = parse_gaze_data(os.path.join(datadir, 'sustained'))\n",
    "    variable_gaze = parse_gaze_data(os.path.join(datadir, 'variable'))\n",
    "    pd.to_pickle((sustained_gaze, variable_gaze), gaze_fname)"
   ]
  },
  {
   "cell_type": "code",
   "execution_count": 10,
   "metadata": {},
   "outputs": [
    {
     "data": {
      "text/html": [
       "<div>\n",
       "<style scoped>\n",
       "    .dataframe tbody tr th:only-of-type {\n",
       "        vertical-align: middle;\n",
       "    }\n",
       "\n",
       "    .dataframe tbody tr th {\n",
       "        vertical-align: top;\n",
       "    }\n",
       "\n",
       "    .dataframe thead th {\n",
       "        text-align: right;\n",
       "    }\n",
       "</style>\n",
       "<table border=\"1\" class=\"dataframe\">\n",
       "  <thead>\n",
       "    <tr style=\"text-align: right;\">\n",
       "      <th></th>\n",
       "      <th>Time</th>\n",
       "      <th>x</th>\n",
       "      <th>y</th>\n",
       "      <th>Pupil size</th>\n",
       "      <th>Subject</th>\n",
       "      <th>Run</th>\n",
       "    </tr>\n",
       "  </thead>\n",
       "  <tbody>\n",
       "    <tr>\n",
       "      <th>0</th>\n",
       "      <td>1.570973e+09</td>\n",
       "      <td>33.489124</td>\n",
       "      <td>10.306934</td>\n",
       "      <td>16.70270</td>\n",
       "      <td>34_2019_Oct_13</td>\n",
       "      <td>2</td>\n",
       "    </tr>\n",
       "    <tr>\n",
       "      <th>1</th>\n",
       "      <td>1.570973e+09</td>\n",
       "      <td>33.457396</td>\n",
       "      <td>10.330854</td>\n",
       "      <td>16.72500</td>\n",
       "      <td>34_2019_Oct_13</td>\n",
       "      <td>2</td>\n",
       "    </tr>\n",
       "    <tr>\n",
       "      <th>2</th>\n",
       "      <td>1.570973e+09</td>\n",
       "      <td>33.255358</td>\n",
       "      <td>10.486799</td>\n",
       "      <td>16.73945</td>\n",
       "      <td>34_2019_Oct_13</td>\n",
       "      <td>2</td>\n",
       "    </tr>\n",
       "    <tr>\n",
       "      <th>3</th>\n",
       "      <td>1.570973e+09</td>\n",
       "      <td>33.265260</td>\n",
       "      <td>10.478487</td>\n",
       "      <td>16.79585</td>\n",
       "      <td>34_2019_Oct_13</td>\n",
       "      <td>2</td>\n",
       "    </tr>\n",
       "    <tr>\n",
       "      <th>4</th>\n",
       "      <td>1.570973e+09</td>\n",
       "      <td>33.210056</td>\n",
       "      <td>10.520274</td>\n",
       "      <td>16.82780</td>\n",
       "      <td>34_2019_Oct_13</td>\n",
       "      <td>2</td>\n",
       "    </tr>\n",
       "    <tr>\n",
       "      <th>...</th>\n",
       "      <td>...</td>\n",
       "      <td>...</td>\n",
       "      <td>...</td>\n",
       "      <td>...</td>\n",
       "      <td>...</td>\n",
       "      <td>...</td>\n",
       "    </tr>\n",
       "    <tr>\n",
       "      <th>1920643</th>\n",
       "      <td>1.571072e+09</td>\n",
       "      <td>16.626686</td>\n",
       "      <td>28.935629</td>\n",
       "      <td>12.43825</td>\n",
       "      <td>9_2019_Oct_14</td>\n",
       "      <td>1</td>\n",
       "    </tr>\n",
       "    <tr>\n",
       "      <th>1920644</th>\n",
       "      <td>1.571072e+09</td>\n",
       "      <td>5.635703</td>\n",
       "      <td>25.184130</td>\n",
       "      <td>8.77160</td>\n",
       "      <td>9_2019_Oct_14</td>\n",
       "      <td>1</td>\n",
       "    </tr>\n",
       "    <tr>\n",
       "      <th>1920645</th>\n",
       "      <td>1.571072e+09</td>\n",
       "      <td>5.521412</td>\n",
       "      <td>24.949549</td>\n",
       "      <td>8.28955</td>\n",
       "      <td>9_2019_Oct_14</td>\n",
       "      <td>1</td>\n",
       "    </tr>\n",
       "    <tr>\n",
       "      <th>1920646</th>\n",
       "      <td>1.571072e+09</td>\n",
       "      <td>2.779392</td>\n",
       "      <td>24.202658</td>\n",
       "      <td>11.96100</td>\n",
       "      <td>9_2019_Oct_14</td>\n",
       "      <td>1</td>\n",
       "    </tr>\n",
       "    <tr>\n",
       "      <th>1920647</th>\n",
       "      <td>1.571072e+09</td>\n",
       "      <td>10.135951</td>\n",
       "      <td>21.740020</td>\n",
       "      <td>15.55530</td>\n",
       "      <td>9_2019_Oct_14</td>\n",
       "      <td>1</td>\n",
       "    </tr>\n",
       "  </tbody>\n",
       "</table>\n",
       "<p>1920648 rows × 6 columns</p>\n",
       "</div>"
      ],
      "text/plain": [
       "                 Time          x          y  Pupil size         Subject  Run\n",
       "0        1.570973e+09  33.489124  10.306934    16.70270  34_2019_Oct_13    2\n",
       "1        1.570973e+09  33.457396  10.330854    16.72500  34_2019_Oct_13    2\n",
       "2        1.570973e+09  33.255358  10.486799    16.73945  34_2019_Oct_13    2\n",
       "3        1.570973e+09  33.265260  10.478487    16.79585  34_2019_Oct_13    2\n",
       "4        1.570973e+09  33.210056  10.520274    16.82780  34_2019_Oct_13    2\n",
       "...               ...        ...        ...         ...             ...  ...\n",
       "1920643  1.571072e+09  16.626686  28.935629    12.43825   9_2019_Oct_14    1\n",
       "1920644  1.571072e+09   5.635703  25.184130     8.77160   9_2019_Oct_14    1\n",
       "1920645  1.571072e+09   5.521412  24.949549     8.28955   9_2019_Oct_14    1\n",
       "1920646  1.571072e+09   2.779392  24.202658    11.96100   9_2019_Oct_14    1\n",
       "1920647  1.571072e+09  10.135951  21.740020    15.55530   9_2019_Oct_14    1\n",
       "\n",
       "[1920648 rows x 6 columns]"
      ]
     },
     "execution_count": 10,
     "metadata": {},
     "output_type": "execute_result"
    }
   ],
   "source": [
    "sustained_gaze"
   ]
  },
  {
   "cell_type": "code",
   "execution_count": 11,
   "metadata": {},
   "outputs": [
    {
     "data": {
      "text/html": [
       "<div>\n",
       "<style scoped>\n",
       "    .dataframe tbody tr th:only-of-type {\n",
       "        vertical-align: middle;\n",
       "    }\n",
       "\n",
       "    .dataframe tbody tr th {\n",
       "        vertical-align: top;\n",
       "    }\n",
       "\n",
       "    .dataframe thead th {\n",
       "        text-align: right;\n",
       "    }\n",
       "</style>\n",
       "<table border=\"1\" class=\"dataframe\">\n",
       "  <thead>\n",
       "    <tr style=\"text-align: right;\">\n",
       "      <th></th>\n",
       "      <th>Time</th>\n",
       "      <th>x</th>\n",
       "      <th>y</th>\n",
       "      <th>Pupil size</th>\n",
       "      <th>Subject</th>\n",
       "      <th>Run</th>\n",
       "    </tr>\n",
       "  </thead>\n",
       "  <tbody>\n",
       "    <tr>\n",
       "      <th>0</th>\n",
       "      <td>1.582318e+09</td>\n",
       "      <td>40.205193</td>\n",
       "      <td>20.145700</td>\n",
       "      <td>17.87420</td>\n",
       "      <td>56_2020_Feb_21</td>\n",
       "      <td>2</td>\n",
       "    </tr>\n",
       "    <tr>\n",
       "      <th>1</th>\n",
       "      <td>1.582318e+09</td>\n",
       "      <td>32.750250</td>\n",
       "      <td>13.563597</td>\n",
       "      <td>19.89075</td>\n",
       "      <td>56_2020_Feb_21</td>\n",
       "      <td>2</td>\n",
       "    </tr>\n",
       "    <tr>\n",
       "      <th>2</th>\n",
       "      <td>1.582318e+09</td>\n",
       "      <td>32.536114</td>\n",
       "      <td>13.896569</td>\n",
       "      <td>19.31620</td>\n",
       "      <td>56_2020_Feb_21</td>\n",
       "      <td>2</td>\n",
       "    </tr>\n",
       "    <tr>\n",
       "      <th>3</th>\n",
       "      <td>1.582318e+09</td>\n",
       "      <td>32.413656</td>\n",
       "      <td>14.081387</td>\n",
       "      <td>19.59020</td>\n",
       "      <td>56_2020_Feb_21</td>\n",
       "      <td>2</td>\n",
       "    </tr>\n",
       "    <tr>\n",
       "      <th>4</th>\n",
       "      <td>1.582318e+09</td>\n",
       "      <td>32.396244</td>\n",
       "      <td>14.127362</td>\n",
       "      <td>19.00590</td>\n",
       "      <td>56_2020_Feb_21</td>\n",
       "      <td>2</td>\n",
       "    </tr>\n",
       "    <tr>\n",
       "      <th>...</th>\n",
       "      <td>...</td>\n",
       "      <td>...</td>\n",
       "      <td>...</td>\n",
       "      <td>...</td>\n",
       "      <td>...</td>\n",
       "      <td>...</td>\n",
       "    </tr>\n",
       "    <tr>\n",
       "      <th>2778320</th>\n",
       "      <td>1.581100e+09</td>\n",
       "      <td>33.578999</td>\n",
       "      <td>8.434443</td>\n",
       "      <td>9.70405</td>\n",
       "      <td>0_2020_Feb_07</td>\n",
       "      <td>1</td>\n",
       "    </tr>\n",
       "    <tr>\n",
       "      <th>2778321</th>\n",
       "      <td>1.581100e+09</td>\n",
       "      <td>33.582716</td>\n",
       "      <td>8.580510</td>\n",
       "      <td>16.17045</td>\n",
       "      <td>0_2020_Feb_07</td>\n",
       "      <td>1</td>\n",
       "    </tr>\n",
       "    <tr>\n",
       "      <th>2778322</th>\n",
       "      <td>1.581100e+09</td>\n",
       "      <td>33.581367</td>\n",
       "      <td>8.714320</td>\n",
       "      <td>16.37225</td>\n",
       "      <td>0_2020_Feb_07</td>\n",
       "      <td>1</td>\n",
       "    </tr>\n",
       "    <tr>\n",
       "      <th>2778323</th>\n",
       "      <td>1.581100e+09</td>\n",
       "      <td>33.583046</td>\n",
       "      <td>8.801126</td>\n",
       "      <td>16.40765</td>\n",
       "      <td>0_2020_Feb_07</td>\n",
       "      <td>1</td>\n",
       "    </tr>\n",
       "    <tr>\n",
       "      <th>2778324</th>\n",
       "      <td>1.581100e+09</td>\n",
       "      <td>33.557150</td>\n",
       "      <td>8.969275</td>\n",
       "      <td>8.29270</td>\n",
       "      <td>0_2020_Feb_07</td>\n",
       "      <td>1</td>\n",
       "    </tr>\n",
       "  </tbody>\n",
       "</table>\n",
       "<p>2778325 rows × 6 columns</p>\n",
       "</div>"
      ],
      "text/plain": [
       "                 Time          x          y  Pupil size         Subject  Run\n",
       "0        1.582318e+09  40.205193  20.145700    17.87420  56_2020_Feb_21    2\n",
       "1        1.582318e+09  32.750250  13.563597    19.89075  56_2020_Feb_21    2\n",
       "2        1.582318e+09  32.536114  13.896569    19.31620  56_2020_Feb_21    2\n",
       "3        1.582318e+09  32.413656  14.081387    19.59020  56_2020_Feb_21    2\n",
       "4        1.582318e+09  32.396244  14.127362    19.00590  56_2020_Feb_21    2\n",
       "...               ...        ...        ...         ...             ...  ...\n",
       "2778320  1.581100e+09  33.578999   8.434443     9.70405   0_2020_Feb_07    1\n",
       "2778321  1.581100e+09  33.582716   8.580510    16.17045   0_2020_Feb_07    1\n",
       "2778322  1.581100e+09  33.581367   8.714320    16.37225   0_2020_Feb_07    1\n",
       "2778323  1.581100e+09  33.583046   8.801126    16.40765   0_2020_Feb_07    1\n",
       "2778324  1.581100e+09  33.557150   8.969275     8.29270   0_2020_Feb_07    1\n",
       "\n",
       "[2778325 rows x 6 columns]"
      ]
     },
     "execution_count": 11,
     "metadata": {},
     "output_type": "execute_result"
    }
   ],
   "source": [
    "variable_gaze"
   ]
  },
  {
   "cell_type": "code",
   "execution_count": 12,
   "metadata": {},
   "outputs": [
    {
     "data": {
      "image/png": "[encoded data removed]",
      "text/plain": [
       "<Figure size 720x216 with 3 Axes>"
      ]
     },
     "metadata": {
      "needs_background": "light"
     },
     "output_type": "display_data"
    }
   ],
   "source": [
    "fig, ax = plt.subplots(1, 2, figsize=(10, 3), sharex=True, sharey=True)\n",
    "cax = fig.add_axes([0.92, 0.15, 0.01, 0.7])\n",
    "\n",
    "sns.histplot(sustained_gaze, x='x', y='y', cbar=True, stat='probability', cmap='gray_r', bins=(120, 78), ax=ax[0], vmin=0, vmax=0.03, cbar_ax=cax)\n",
    "ax[0].text(59.8 / 2, 33.6 / 2, '+', ha='center', va='center', fontsize=10, color='red', fontweight='bold')\n",
    "\n",
    "im_len = 59.8 / 2 - 9\n",
    "y = (33.6 - im_len) / 2\n",
    "x1 = 4.5\n",
    "x2 = (59.8 / 2) + 4.5\n",
    "\n",
    "images = [Rectangle((x1, y), im_len, im_len, fill=False, color='red', lw=1),\n",
    "          Rectangle((x2, y), im_len, im_len, fill=False, color='red', lw=1)]\n",
    "pc = PatchCollection(images, match_original=True)\n",
    "ax[0].add_collection(pc)\n",
    "\n",
    "ax[0].set_xlabel('x (cm)', fontsize=12)\n",
    "ax[0].set_ylabel('y (cm)', fontsize=12)\n",
    "ax[0].set_title('Sustained', fontsize=12)\n",
    "\n",
    "sns.histplot(variable_gaze, x='x', y='y', cbar=False, stat='probability', cmap='gray_r', bins=(120, 78), ax=ax[1], vmin=0, vmax=0.03)\n",
    "ax[1].text(59.8 / 2, 33.6 / 2, '+', ha='center', va='center', fontsize=10, color='red', fontweight='bold')\n",
    "pc = PatchCollection(images, match_original=True)\n",
    "ax[1].add_collection(pc)\n",
    "\n",
    "ax[1].set_xlim(0, 59.8)\n",
    "ax[1].set_ylim(0, 33.6)\n",
    "ax[1].set_xlabel('x (cm)', fontsize=12)\n",
    "ax[1].set_ylabel('y (cm)', fontsize=12)\n",
    "ax[1].set_title('Variable', fontsize=12)\n",
    "\n",
    "cax.set_yticks([0, 0.01, 0.02, 0.03])\n",
    "\n",
    "plt.subplots_adjust(wspace=0.05)\n",
    "fig.savefig(os.path.join(figdir, 'gaze_distribution.pdf'), bbox_inches='tight')"
   ]
  },
  {
   "attachments": {},
   "cell_type": "markdown",
   "metadata": {},
   "source": [
    "Identify trials where gaze intersected either image"
   ]
  },
  {
   "cell_type": "code",
   "execution_count": 13,
   "metadata": {},
   "outputs": [],
   "source": [
    "def intersect_image(xs, ys):\n",
    "    im_len = 59.8 / 2 - 9\n",
    "    y = (33.6 - im_len) / 2\n",
    "    x1 = 4.5\n",
    "    x2 = (59.8 / 2) + 4.5\n",
    "\n",
    "    xs = np.array(xs)\n",
    "    ys = np.array(ys)\n",
    "\n",
    "    return ((xs > x1) & (xs < x1 + im_len) & (ys > y) & (ys < y + im_len)).any(), ((xs > x2) & (xs < x2 + im_len) & (ys > y) & (ys < y + im_len)).any()"
   ]
  },
  {
   "cell_type": "code",
   "execution_count": 14,
   "metadata": {},
   "outputs": [],
   "source": [
    "def add_intersection(behavioral, gaze):\n",
    "    subjs = behavioral['Subject'].unique()\n",
    "    for subj in tqdm(subjs):\n",
    "        stimuli = behavioral.query('Subject == @subj and `Trial Type` == \"Presentation\"')\n",
    "        for i, stim in stimuli.iterrows():\n",
    "            start = stim['Stimulus Onset']\n",
    "            end = stim['Stimulus Offset']\n",
    "            gz = gaze.query('Subject == @subj and Time >= @start and Time <= @end')\n",
    "            if gz.shape[0] > 0:\n",
    "                behavioral.loc[i, 'Left intersection'], behavioral.loc[i, 'Right intersection']  = intersect_image(gz['x'], gz['y'])\n",
    "                behavioral.loc[i, 'Intersection detected'] = behavioral.loc[i, 'Left intersection'] or behavioral.loc[i, 'Right intersection']\n",
    "                behavioral.loc[i, 'Attended intersection'] = (behavioral.loc[i, 'Left intersection'] and behavioral.loc[i, 'Cued Location'] == '<') or (behavioral.loc[i, 'Right intersection'] and behavioral.loc[i, 'Cued Location'] == '>')\n",
    "    \n",
    "    return behavioral\n"
   ]
  },
  {
   "cell_type": "code",
   "execution_count": 15,
   "metadata": {},
   "outputs": [
    {
     "name": "stderr",
     "output_type": "stream",
     "text": [
      "100%|██████████| 30/30 [00:44<00:00,  1.47s/it]\n",
      "100%|██████████| 23/23 [00:50<00:00,  2.18s/it]\n"
     ]
    }
   ],
   "source": [
    "sustained_behavioral = add_intersection(sustained_behavioral, sustained_gaze)\n",
    "variable_behavioral = add_intersection(variable_behavioral, variable_gaze)"
   ]
  },
  {
   "cell_type": "code",
   "execution_count": 16,
   "metadata": {},
   "outputs": [],
   "source": [
    "gaze_columns = ['Intersection detected', 'Attended intersection', 'Left intersection', 'Right intersection']\n",
    "sustained_behavioral[gaze_columns] = sustained_behavioral[gaze_columns].fillna(False)\n",
    "variable_behavioral[gaze_columns] = variable_behavioral[gaze_columns].fillna(False)"
   ]
  },
  {
   "attachments": {},
   "cell_type": "markdown",
   "metadata": {},
   "source": [
    "Patch up {Cued, Uncued} {Face, Place} columns in the variable_behavioral dataframe"
   ]
  },
  {
   "cell_type": "code",
   "execution_count": 17,
   "metadata": {},
   "outputs": [],
   "source": [
    "variable_behavioral['Cued Face'] = variable_behavioral['Cued Composite'].apply(lambda x: x.split('_')[0] + '.jpg' if type(x) is str else x)\n",
    "variable_behavioral['Cued Place'] = variable_behavioral['Cued Composite'].apply(lambda x: x.split('_')[1] if type(x) is str else x)\n",
    "variable_behavioral['Uncued Face'] = variable_behavioral['Uncued Composite'].apply(lambda x: x.split('_')[0] + '.jpg'  if type(x) is str else x)\n",
    "variable_behavioral['Uncued Place'] = variable_behavioral['Uncued Composite'].apply(lambda x: x.split('_')[1] if type(x) is str else x)"
   ]
  },
  {
   "attachments": {},
   "cell_type": "markdown",
   "metadata": {},
   "source": [
    "Add stimulus order information"
   ]
  },
  {
   "cell_type": "code",
   "execution_count": 18,
   "metadata": {},
   "outputs": [],
   "source": [
    "def add_order_column(df):\n",
    "    df['Order'] = df['Stimulus Onset'].argsort()\n",
    "    return df"
   ]
  },
  {
   "cell_type": "code",
   "execution_count": 19,
   "metadata": {},
   "outputs": [],
   "source": [
    "with warnings.catch_warnings():  # ignore FutureWarning about adding keys\n",
    "    warnings.simplefilter(\"ignore\")\n",
    "    sustained_behavioral = sustained_behavioral.groupby(['Subject', 'Run', 'Trial Type']).apply(add_order_column).reset_index(drop=True)\n",
    "    variable_behavioral = variable_behavioral.groupby(['Subject', 'Run', 'Trial Type']).apply(add_order_column).reset_index(drop=True)"
   ]
  },
  {
   "cell_type": "code",
   "execution_count": 20,
   "metadata": {},
   "outputs": [],
   "source": [
    "def summarize_intersections(df, category='Attended intersection'):\n",
    "    df = df.query('`Trial Type` == \"Presentation\"').fillna(False)\n",
    "    return df[['Subject', 'Run', category]].groupby(['Subject', 'Run']).mean().reset_index().rename({category: 'Intersection'}, axis=1)"
   ]
  },
  {
   "cell_type": "code",
   "execution_count": 21,
   "metadata": {},
   "outputs": [],
   "source": [
    "intersection_type = 'Attended intersection'\n",
    "\n",
    "def plot_intersections(intersection_type, fname=None):\n",
    "    fig, ax = plt.subplots(2, 2, figsize=(8, 6), sharey=True)\n",
    "    # sustained\n",
    "    df = summarize_intersections(sustained_behavioral, category=intersection_type)\n",
    "\n",
    "    with warnings.catch_warnings():\n",
    "        warnings.simplefilter(\"ignore\")\n",
    "        sns.barplot(data=df, x='Run', y='Intersection', ax=ax[0, 0], color='gray')\n",
    "    ax[0, 0].set_title('Sustained', fontsize=12);\n",
    "    ax[0, 0].set_ylabel('Proportion of trials', fontsize=12);\n",
    "    ax[0, 0].set_xlabel('Run', fontsize=12);\n",
    "    sns.despine(ax=ax[0, 0], top=True, right=True)\n",
    "\n",
    "    with warnings.catch_warnings():\n",
    "        warnings.simplefilter(\"ignore\")\n",
    "        sns.barplot(data=df, x='Subject', y='Intersection', ax=ax[1, 0], color='gray')\n",
    "    ax[1, 0].set_ylabel('Proportion of trials', fontsize=12);\n",
    "    ax[1, 0].set_xlabel('Subject', fontsize=12);\n",
    "    ax[1, 0].set_xticklabels([i if i % 5 == 0 else '' for i in range(len(df['Subject'].unique()))]);\n",
    "    sns.despine(ax=ax[1, 0], top=True, right=True)\n",
    "\n",
    "    # variable\n",
    "    df = summarize_intersections(variable_behavioral, category=intersection_type)\n",
    "\n",
    "    with warnings.catch_warnings():\n",
    "        warnings.simplefilter(\"ignore\")\n",
    "        sns.barplot(data=df, x='Run', y='Intersection', ax=ax[0, 1], color='gray')\n",
    "    ax[0, 1].set_title('Variable', fontsize=12);\n",
    "    ax[0, 1].set_xlabel('Run', fontsize=12);\n",
    "    ax[0, 1].set_ylabel('');\n",
    "    sns.despine(ax=ax[0, 1], top=True, right=True)\n",
    "\n",
    "    with warnings.catch_warnings():\n",
    "        warnings.simplefilter(\"ignore\")\n",
    "        sns.barplot(data=df, x='Subject', y='Intersection', ax=ax[1, 1], color='gray')\n",
    "    ax[1, 1].set_ylabel('');\n",
    "    ax[1, 1].set_xlabel('Subject', fontsize=12);\n",
    "    ax[1, 1].set_xticklabels([i if i % 5 == 0 else '' for i in range(len(df['Subject'].unique()))]);\n",
    "    sns.despine(ax=ax[1, 1], top=True, right=True)\n",
    "\n",
    "    ax[0, 0].set_ylim(0, 1)\n",
    "    plt.tight_layout()\n",
    "\n",
    "    if fname is not None:\n",
    "        fig.savefig(os.path.join(figdir, fname + '.pdf'), bbox_inches='tight')\n",
    "    \n",
    "    return fig"
   ]
  },
  {
   "cell_type": "code",
   "execution_count": 22,
   "metadata": {},
   "outputs": [
    {
     "data": {
      "image/png": "[encoded data removed]",
      "text/plain": [
       "<Figure size 576x432 with 4 Axes>"
      ]
     },
     "metadata": {
      "needs_background": "light"
     },
     "output_type": "display_data"
    }
   ],
   "source": [
    "plot_intersections('Attended intersection', 'attended_gaze_intersections');"
   ]
  },
  {
   "cell_type": "code",
   "execution_count": 23,
   "metadata": {},
   "outputs": [
    {
     "data": {
      "image/png": "[encoded data removed]",
      "text/plain": [
       "<Figure size 576x432 with 4 Axes>"
      ]
     },
     "metadata": {
      "needs_background": "light"
     },
     "output_type": "display_data"
    }
   ],
   "source": [
    "plot_intersections('Intersection detected', 'all_gaze_intersections');"
   ]
  },
  {
   "cell_type": "code",
   "execution_count": 24,
   "metadata": {},
   "outputs": [
    {
     "data": {
      "image/png": "[encoded data removed]",
      "text/plain": [
       "<Figure size 576x432 with 4 Axes>"
      ]
     },
     "metadata": {
      "needs_background": "light"
     },
     "output_type": "display_data"
    }
   ],
   "source": [
    "plot_intersections('Left intersection', 'left_gaze_intersections');"
   ]
  },
  {
   "cell_type": "code",
   "execution_count": 25,
   "metadata": {},
   "outputs": [
    {
     "data": {
      "image/png": "[encoded data removed]",
      "text/plain": [
       "<Figure size 576x432 with 4 Axes>"
      ]
     },
     "metadata": {
      "needs_background": "light"
     },
     "output_type": "display_data"
    }
   ],
   "source": [
    "plot_intersections('Right intersection', 'right_gaze_intersections');"
   ]
  },
  {
   "attachments": {},
   "cell_type": "markdown",
   "metadata": {},
   "source": [
    "Behavioral analyses:\n",
    "  - For attended and unattended targets:\n",
    "    - Are attended images rated as more familiar?\n",
    "    - Are attended categories rated as more familiar?\n",
    "    - Are attended locations rated as more familiar?\n",
    "  - For novel images:\n",
    "    - Are attended categories rated as more familiar?  (Response bias)\n",
    "\n",
    "Regress out looking time?\n"
   ]
  },
  {
   "attachments": {},
   "cell_type": "markdown",
   "metadata": {},
   "source": [
    "labels:\n",
    "- 'Category': face, scene\n",
    "- 'Location': left, right\n",
    "- 'Attention': attended, cued location, cued category, novel"
   ]
  },
  {
   "cell_type": "code",
   "execution_count": 26,
   "metadata": {},
   "outputs": [],
   "source": [
    "def image_finder(image, stimuli):\n",
    "    kind = 'Place' if image[:3] == 'sun' else 'Face'\n",
    "    cues = {k: stimuli[k].apply(lambda x: image in x if type(x) is str else False) for k in ['Cued Face', 'Cued Place', 'Uncued Face', 'Uncued Place']}\n",
    "    matches = np.sum([v.values for v in cues.values()], axis=0).astype(bool)\n",
    "    \n",
    "    if len(matches) > 0 and np.any(matches):\n",
    "        side = 'Left' if stimuli.loc[matches]['Cued Location'].values[0] == '<' else 'Right'\n",
    "        category = stimuli.loc[matches]['Cued Category'].values[0]\n",
    "    else:\n",
    "        side = None\n",
    "        category = None\n",
    "    \n",
    "    return kind, cues, matches, side, category"
   ]
  },
  {
   "cell_type": "code",
   "execution_count": 27,
   "metadata": {},
   "outputs": [],
   "source": [
    "def add_behavioral_labels(df):\n",
    "    subjs = df['Subject'].unique()\n",
    "    labled_stimuli = pd.DataFrame(index=df.index, columns=['Attended', 'Attended category', 'Attended location', 'Unattended'], dtype=float)\n",
    "\n",
    "    for subj in tqdm(subjs):\n",
    "        stimuli = df.query('Subject == @subj and `Trial Type` == \"Presentation\"')\n",
    "        probes = df.query('Subject == @subj and `Trial Type` == \"Memory\"')\n",
    "\n",
    "        for i, probe in probes.iterrows():\n",
    "            kind, cues, match, side, category = image_finder(probe['Memory Image'], stimuli)\n",
    "\n",
    "            with warnings.catch_warnings():\n",
    "                warnings.simplefilter(\"ignore\")\n",
    "\n",
    "                df.loc[i, 'Category'] = kind\n",
    "                df.loc[i, 'Cued Location'] = side\n",
    "                df.loc[i, 'Cued Category'] = category\n",
    "\n",
    "                if side is None:\n",
    "                    df.loc[i, 'Attention'] = 'Novel'\n",
    "                elif np.any(cues['Cued Place']):\n",
    "                    if category == 'Place':\n",
    "                        df.loc[i, 'Attention'] = 'Attended'\n",
    "                    else:\n",
    "                        df.loc[i, 'Attention'] = 'Attended location'\n",
    "                elif np.any(cues['Uncued Place']):\n",
    "                    if category == 'Place':\n",
    "                        df.loc[i, 'Attention'] = 'Attended category'\n",
    "                    else:\n",
    "                        df.loc[i, 'Attention'] = 'Unattended'\n",
    "                elif np.any(cues['Cued Face']):\n",
    "                    if category == 'Face':\n",
    "                        df.loc[i, 'Attention'] = 'Attended'\n",
    "                    else:\n",
    "                        df.loc[i, 'Attention'] = 'Attended location'\n",
    "                elif np.any(cues['Uncued Face']):\n",
    "                    if category == 'Face':\n",
    "                        df.loc[i, 'Attention'] = 'Attended category'\n",
    "                    else:\n",
    "                        df.loc[i, 'Attention'] = 'Unattended'\n",
    "                else:\n",
    "                    df.loc[i, 'Attention'] = 'Novel'\n",
    "                \n",
    "                # fill in familiarity rating if there's a match\n",
    "                if np.any(match):\n",
    "                    idx = np.where(match)[0][0]\n",
    "                    labled_stimuli.loc[stimuli.index[idx], df.loc[i, 'Attention']] = probe['Familiarity Rating']\n",
    "\n",
    "    return pd.concat([df, labled_stimuli], axis=1)"
   ]
  },
  {
   "cell_type": "code",
   "execution_count": 28,
   "metadata": {},
   "outputs": [
    {
     "name": "stderr",
     "output_type": "stream",
     "text": [
      "100%|██████████| 30/30 [00:05<00:00,  5.31it/s]\n",
      "100%|██████████| 23/23 [00:04<00:00,  5.68it/s]\n"
     ]
    }
   ],
   "source": [
    "sustained_behavioral = add_behavioral_labels(sustained_behavioral)\n",
    "variable_behavioral = add_behavioral_labels(variable_behavioral)"
   ]
  },
  {
   "attachments": {},
   "cell_type": "markdown",
   "metadata": {},
   "source": [
    "Filter out any trials where participants looked at the attended images"
   ]
  },
  {
   "cell_type": "code",
   "execution_count": 29,
   "metadata": {},
   "outputs": [],
   "source": [
    "sustained = sustained_behavioral[~sustained_behavioral['Attended intersection']]\n",
    "variable = variable_behavioral[~variable_behavioral['Attended intersection']]"
   ]
  },
  {
   "cell_type": "code",
   "execution_count": 30,
   "metadata": {},
   "outputs": [],
   "source": [
    "attention_colors = {\n",
    "    'Attended': '#BE1E2D',\n",
    "    'Attended category': '#F15A29',\n",
    "    'Attended location': '#F9ED32',\n",
    "    'Unattended': '#009444',\n",
    "    'Novel': '#27AAE1',\n",
    "    'Face': '#000000',\n",
    "    'Place': '#000000'\n",
    "}"
   ]
  },
  {
   "cell_type": "code",
   "execution_count": 31,
   "metadata": {},
   "outputs": [],
   "source": [
    "def plot_attention(df, fname=None, palette=attention_colors, ylim=[1.6, 3], **kwargs):\n",
    "    df = df.copy()\n",
    "\n",
    "    fig = plt.figure(figsize=(4, 3))\n",
    "    ax = plt.gca()\n",
    "\n",
    "    order = ['Attended', 'Attended category', 'Attended location', 'Unattended', 'Novel']\n",
    "\n",
    "    id_vars = ['Subject', 'Attention', 'Run']\n",
    "    if 'hue' in kwargs:\n",
    "        id_vars.append(kwargs['hue'])\n",
    "    \n",
    "    sns.barplot(data=df.query('`Trial Type` == \"Memory\"')[[*id_vars, 'Familiarity Rating']].groupby(id_vars).mean().reset_index(), \n",
    "                   x='Attention', y='Familiarity Rating', order=['Attended', 'Attended category', 'Attended location', 'Unattended', 'Novel'],  palette=palette, **kwargs);\n",
    "    ax.set_xlabel('Attention level', fontsize=12);\n",
    "    ax.set_ylabel('Familiarity rating', fontsize=12);\n",
    "    ax.set_xticklabels(['' for _ in range(len(ax.get_xticklabels()))]);\n",
    "    ax.set_ylim(ylim)\n",
    "\n",
    "    if 'hue' in kwargs:                \n",
    "        n = len(df[kwargs['hue']].unique()) - 1  # not sure why this correction is needed...\n",
    "        alphas = np.linspace(1, 0, n + 1)[:-1]\n",
    "\n",
    "        for i in range(n):\n",
    "            for j, bar in enumerate(ax.containers[i]):\n",
    "                bar.set_color(palette[order[j]])\n",
    "                bar.set_alpha(alphas[i])\n",
    "\n",
    "    sns.despine(top=True, right=True)\n",
    "\n",
    "    legend = ax.get_legend()\n",
    "    if legend is not None:\n",
    "        legend.remove()\n",
    "\n",
    "    if fname is not None:\n",
    "        fig.savefig(os.path.join(figdir, fname + '.pdf'), bbox_inches='tight')\n",
    "    \n",
    "    return fig\n"
   ]
  },
  {
   "cell_type": "code",
   "execution_count": 32,
   "metadata": {},
   "outputs": [
    {
     "data": {
      "image/png": "[encoded data removed]",
      "text/plain": [
       "<Figure size 288x216 with 1 Axes>"
      ]
     },
     "metadata": {
      "needs_background": "light"
     },
     "output_type": "display_data"
    }
   ],
   "source": [
    "plot_attention(sustained, fname='sustained_attention');"
   ]
  },
  {
   "cell_type": "code",
   "execution_count": 33,
   "metadata": {},
   "outputs": [
    {
     "data": {
      "image/png": "[encoded data removed]",
      "text/plain": [
       "<Figure size 288x216 with 1 Axes>"
      ]
     },
     "metadata": {
      "needs_background": "light"
     },
     "output_type": "display_data"
    }
   ],
   "source": [
    "plot_attention(sustained, fname='sustained_attention_by_category', hue='Category');"
   ]
  },
  {
   "cell_type": "code",
   "execution_count": 34,
   "metadata": {},
   "outputs": [
    {
     "data": {
      "image/png": "[encoded data removed]",
      "text/plain": [
       "<Figure size 288x216 with 1 Axes>"
      ]
     },
     "metadata": {
      "needs_background": "light"
     },
     "output_type": "display_data"
    }
   ],
   "source": [
    "plot_attention(variable, fname='variable_attention');"
   ]
  },
  {
   "cell_type": "code",
   "execution_count": 35,
   "metadata": {},
   "outputs": [
    {
     "data": {
      "image/png": "[encoded data removed]",
      "text/plain": [
       "<Figure size 288x216 with 1 Axes>"
      ]
     },
     "metadata": {
      "needs_background": "light"
     },
     "output_type": "display_data"
    }
   ],
   "source": [
    "plot_attention(variable, fname='variable_attention_by_category', hue='Category');"
   ]
  },
  {
   "attachments": {},
   "cell_type": "markdown",
   "metadata": {},
   "source": [
    "# Stats!\n",
    "\n",
    "Within-condition comparisons by attention level"
   ]
  },
  {
   "cell_type": "code",
   "execution_count": 36,
   "metadata": {},
   "outputs": [],
   "source": [
    "def ttests_by_attention_level(df, category=None):\n",
    "    def print_ttest_results(results, label1, label2):\n",
    "        if results.pvalue < 0.001:\n",
    "            p_string = 'p < 0.001'\n",
    "        else:\n",
    "            p_string = f'p = {results.pvalue:.3f}'\n",
    "\n",
    "        print(f'{label1} vs. {label2}: $t({results.df}) = {results.statistic:.3f}, {p_string}$')\n",
    "\n",
    "    if category is not None:\n",
    "        if type(category) is str:\n",
    "            category = [category]\n",
    "        for c in category:\n",
    "            print(f'\\nCategory: {c}')\n",
    "            ttests_by_attention_level(df.query('Category == @c'))\n",
    "\n",
    "        print('\\n\\Within-level tests:')\n",
    "        df = df.groupby(['Subject', 'Attention', 'Category']).mean(numeric_only=True)['Familiarity Rating'].reset_index().pivot(index=['Subject', 'Category'], columns='Attention', values='Familiarity Rating').reset_index().set_index('Subject')\n",
    "\n",
    "        for c in df.columns[1:]:\n",
    "            for i, c1 in enumerate(category):\n",
    "                for c2 in category[i + 1:]:\n",
    "                    print_ttest_results(ttest_rel(df.loc[df['Category'] == c1, c], df.loc[df['Category'] == c2, c]), f'{c} {c1}', c2)\n",
    "\n",
    "        return\n",
    "    \n",
    "    # re-organize dataframe-- rows: subjects; columns: attention levels\n",
    "    df = df.groupby(['Subject', 'Attention']).mean(numeric_only=True)['Familiarity Rating'].reset_index().pivot(index='Subject', columns='Attention', values='Familiarity Rating')\n",
    "\n",
    "    # run t-tests\n",
    "    for i, c1 in enumerate(df.columns):\n",
    "        for c2 in df.columns[i + 1:]:\n",
    "            print_ttest_results(ttest_rel(df[c1], df[c2]), c1, c2)            \n",
    "    \n",
    "    print('\\n')\n",
    "\n",
    "    # old vs. new\n",
    "    print_ttest_results(ttest_rel(df[['Attended', 'Attended category', 'Attended location', 'Unattended']].mean(axis=1), df['Novel']), 'Old', 'New')\n",
    "\n",
    "    # location benefit\n",
    "    print_ttest_results(ttest_rel(df[['Attended', 'Attended location']].mean(axis=1), df['Novel']), 'Attended + Attended location', 'Novel')\n",
    "\n",
    "    # category benefit\n",
    "    print_ttest_results(ttest_rel(df[['Attended', 'Attended category']].mean(axis=1), df['Novel']), 'Attended + Attended category', 'Novel')"
   ]
  },
  {
   "cell_type": "code",
   "execution_count": 37,
   "metadata": {},
   "outputs": [
    {
     "name": "stdout",
     "output_type": "stream",
     "text": [
      "Attended vs. Attended category: $t(29) = 6.893, p < 0.001$\n",
      "Attended vs. Attended location: $t(29) = 6.710, p < 0.001$\n",
      "Attended vs. Novel: $t(29) = 10.259, p < 0.001$\n",
      "Attended vs. Unattended: $t(29) = 8.470, p < 0.001$\n",
      "Attended category vs. Attended location: $t(29) = 2.543, p = 0.017$\n",
      "Attended category vs. Novel: $t(29) = 6.205, p < 0.001$\n",
      "Attended category vs. Unattended: $t(29) = 4.893, p < 0.001$\n",
      "Attended location vs. Novel: $t(29) = 0.165, p = 0.870$\n",
      "Attended location vs. Unattended: $t(29) = 2.277, p = 0.030$\n",
      "Novel vs. Unattended: $t(29) = 1.977, p = 0.058$\n",
      "\n",
      "\n",
      "Old vs. New: $t(29) = 8.856, p < 0.001$\n",
      "Attended + Attended location vs. Novel: $t(29) = 8.917, p < 0.001$\n",
      "Attended + Attended category vs. Novel: $t(29) = 10.578, p < 0.001$\n"
     ]
    }
   ],
   "source": [
    "ttests_by_attention_level(sustained)"
   ]
  },
  {
   "cell_type": "code",
   "execution_count": 38,
   "metadata": {},
   "outputs": [
    {
     "name": "stdout",
     "output_type": "stream",
     "text": [
      "\n",
      "Category: Face\n",
      "Attended vs. Attended category: $t(29) = 3.366, p = 0.002$\n",
      "Attended vs. Attended location: $t(29) = 5.886, p < 0.001$\n",
      "Attended vs. Novel: $t(29) = 5.987, p < 0.001$\n",
      "Attended vs. Unattended: $t(29) = 6.628, p < 0.001$\n",
      "Attended category vs. Attended location: $t(29) = 4.469, p < 0.001$\n",
      "Attended category vs. Novel: $t(29) = 4.733, p < 0.001$\n",
      "Attended category vs. Unattended: $t(29) = 5.617, p < 0.001$\n",
      "Attended location vs. Novel: $t(29) = -2.795, p = 0.009$\n",
      "Attended location vs. Unattended: $t(29) = -0.236, p = 0.815$\n",
      "Novel vs. Unattended: $t(29) = 2.459, p = 0.020$\n",
      "\n",
      "\n",
      "Old vs. New: $t(29) = 2.897, p = 0.007$\n",
      "Attended + Attended location vs. Novel: $t(29) = 3.699, p < 0.001$\n",
      "Attended + Attended category vs. Novel: $t(29) = 6.236, p < 0.001$\n",
      "\n",
      "Category: Place\n",
      "Attended vs. Attended category: $t(29) = 7.567, p < 0.001$\n",
      "Attended vs. Attended location: $t(29) = 6.429, p < 0.001$\n",
      "Attended vs. Novel: $t(29) = 11.487, p < 0.001$\n",
      "Attended vs. Unattended: $t(29) = 8.233, p < 0.001$\n",
      "Attended category vs. Attended location: $t(29) = 0.771, p = 0.447$\n",
      "Attended category vs. Novel: $t(29) = 5.795, p < 0.001$\n",
      "Attended category vs. Unattended: $t(29) = 3.404, p = 0.002$\n",
      "Attended location vs. Novel: $t(29) = 2.107, p = 0.044$\n",
      "Attended location vs. Unattended: $t(29) = 3.695, p < 0.001$\n",
      "Novel vs. Unattended: $t(29) = 0.623, p = 0.538$\n",
      "\n",
      "\n",
      "Old vs. New: $t(29) = 10.341, p < 0.001$\n",
      "Attended + Attended location vs. Novel: $t(29) = 10.183, p < 0.001$\n",
      "Attended + Attended category vs. Novel: $t(29) = 12.746, p < 0.001$\n",
      "\n",
      "\\Within-level tests:\n",
      "Attended Face vs. Place: $t(29) = -5.189, p < 0.001$\n",
      "Attended category Face vs. Place: $t(29) = 0.130, p = 0.897$\n",
      "Attended location Face vs. Place: $t(29) = -4.719, p < 0.001$\n",
      "Novel Face vs. Place: $t(29) = 0.476, p = 0.638$\n",
      "Unattended Face vs. Place: $t(29) = -0.964, p = 0.343$\n"
     ]
    }
   ],
   "source": [
    "ttests_by_attention_level(sustained, category=['Face', 'Place'])"
   ]
  },
  {
   "cell_type": "code",
   "execution_count": 39,
   "metadata": {},
   "outputs": [
    {
     "name": "stdout",
     "output_type": "stream",
     "text": [
      "Attended vs. Attended category: $t(22) = 6.938, p < 0.001$\n",
      "Attended vs. Attended location: $t(22) = 7.633, p < 0.001$\n",
      "Attended vs. Novel: $t(22) = 7.874, p < 0.001$\n",
      "Attended vs. Unattended: $t(22) = 7.256, p < 0.001$\n",
      "Attended category vs. Attended location: $t(22) = -2.787, p = 0.011$\n",
      "Attended category vs. Novel: $t(22) = 1.042, p = 0.309$\n",
      "Attended category vs. Unattended: $t(22) = -0.981, p = 0.337$\n",
      "Attended location vs. Novel: $t(22) = 3.026, p = 0.006$\n",
      "Attended location vs. Unattended: $t(22) = 2.503, p = 0.020$\n",
      "Novel vs. Unattended: $t(22) = -1.833, p = 0.080$\n",
      "\n",
      "\n",
      "Old vs. New: $t(22) = 5.144, p < 0.001$\n",
      "Attended + Attended location vs. Novel: $t(22) = 5.726, p < 0.001$\n",
      "Attended + Attended category vs. Novel: $t(22) = 7.354, p < 0.001$\n"
     ]
    }
   ],
   "source": [
    "ttests_by_attention_level(variable)"
   ]
  },
  {
   "cell_type": "code",
   "execution_count": 40,
   "metadata": {},
   "outputs": [
    {
     "name": "stdout",
     "output_type": "stream",
     "text": [
      "\n",
      "Category: Face\n",
      "Attended vs. Attended category: $t(22) = 4.773, p < 0.001$\n",
      "Attended vs. Attended location: $t(22) = 6.835, p < 0.001$\n",
      "Attended vs. Novel: $t(22) = 5.132, p < 0.001$\n",
      "Attended vs. Unattended: $t(22) = 5.624, p < 0.001$\n",
      "Attended category vs. Attended location: $t(22) = -1.546, p = 0.136$\n",
      "Attended category vs. Novel: $t(22) = 0.316, p = 0.755$\n",
      "Attended category vs. Unattended: $t(22) = -0.213, p = 0.833$\n",
      "Attended location vs. Novel: $t(22) = 1.612, p = 0.121$\n",
      "Attended location vs. Unattended: $t(22) = 1.631, p = 0.117$\n",
      "Novel vs. Unattended: $t(22) = -0.503, p = 0.620$\n",
      "\n",
      "\n",
      "Old vs. New: $t(22) = 2.865, p = 0.009$\n",
      "Attended + Attended location vs. Novel: $t(22) = 3.697, p = 0.001$\n",
      "Attended + Attended category vs. Novel: $t(22) = 4.330, p < 0.001$\n",
      "\n",
      "Category: Place\n",
      "Attended vs. Attended category: $t(22) = 6.205, p < 0.001$\n",
      "Attended vs. Attended location: $t(22) = 4.277, p < 0.001$\n",
      "Attended vs. Novel: $t(22) = 7.628, p < 0.001$\n",
      "Attended vs. Unattended: $t(22) = 6.564, p < 0.001$\n",
      "Attended category vs. Attended location: $t(22) = -3.321, p = 0.003$\n",
      "Attended category vs. Novel: $t(22) = 1.628, p = 0.118$\n",
      "Attended category vs. Unattended: $t(22) = -0.828, p = 0.417$\n",
      "Attended location vs. Novel: $t(22) = 3.719, p = 0.001$\n",
      "Attended location vs. Unattended: $t(22) = 2.695, p = 0.013$\n",
      "Novel vs. Unattended: $t(22) = -2.582, p = 0.017$\n",
      "\n",
      "\n",
      "Old vs. New: $t(22) = 6.269, p < 0.001$\n",
      "Attended + Attended location vs. Novel: $t(22) = 6.396, p < 0.001$\n",
      "Attended + Attended category vs. Novel: $t(22) = 7.841, p < 0.001$\n",
      "\n",
      "\\Within-level tests:\n",
      "Attended Face vs. Place: $t(22) = -4.043, p < 0.001$\n",
      "Attended category Face vs. Place: $t(22) = -1.581, p = 0.128$\n",
      "Attended location Face vs. Place: $t(22) = -4.368, p < 0.001$\n",
      "Novel Face vs. Place: $t(22) = -1.093, p = 0.286$\n",
      "Unattended Face vs. Place: $t(22) = -2.468, p = 0.022$\n"
     ]
    }
   ],
   "source": [
    "ttests_by_attention_level(variable, category=['Face', 'Place'])"
   ]
  },
  {
   "attachments": {},
   "cell_type": "markdown",
   "metadata": {},
   "source": [
    "Across-condition comparisons"
   ]
  },
  {
   "cell_type": "code",
   "execution_count": 41,
   "metadata": {},
   "outputs": [],
   "source": [
    "def across_condition_ttests_by_attention_level(df1, df2, category=None, names=['Sustained', 'Variable']):\n",
    "    def print_ttest_results(a, b, prefix):\n",
    "        results = ttest_ind(a, b)\n",
    "        if results.pvalue < 0.001:\n",
    "            p_string = 'p < 0.001'\n",
    "        else:\n",
    "            p_string = f'p = {results.pvalue:.3f}'\n",
    "\n",
    "        df = len(a) + len(b) - 2\n",
    "        label1 = f'{prefix} -- {names[0]}'\n",
    "        label2 = names[1]\n",
    "        print(f'{label1} vs. {label2}: $t({df}) = {results.statistic:.3f}, {p_string}$')\n",
    "\n",
    "    if category is not None:\n",
    "        if type(category) is str:\n",
    "            category = [category]\n",
    "        for c in category:\n",
    "            print(f'\\nCategory: {c}')\n",
    "            across_condition_ttests_by_attention_level(df1.query('Category == @c'), df2.query('Category == @c'), names=names)\n",
    "        \n",
    "        print('\\n\\Within-level tests:')\n",
    "        df1 = df1.groupby(['Subject', 'Attention', 'Category']).mean(numeric_only=True)['Familiarity Rating'].reset_index().pivot(index=['Subject', 'Category'], columns='Attention', values='Familiarity Rating').reset_index().set_index('Subject')\n",
    "        df2 = df2.groupby(['Subject', 'Attention', 'Category']).mean(numeric_only=True)['Familiarity Rating'].reset_index().pivot(index=['Subject', 'Category'], columns='Attention', values='Familiarity Rating').reset_index().set_index('Subject')\n",
    "\n",
    "        for attention in df1.columns[1:]:\n",
    "            for cat in category:\n",
    "                print_ttest_results(df1.loc[df1['Category'] == cat, attention], df2.loc[df2['Category'] == cat, attention], f'{attention} {cat}')\n",
    "\n",
    "        return\n",
    "    \n",
    "    # re-organize dataframe-- rows: subjects; columns: attention levels\n",
    "    df1 = df1.groupby(['Subject', 'Attention']).mean(numeric_only=True)['Familiarity Rating'].reset_index().pivot(index='Subject', columns='Attention', values='Familiarity Rating')\n",
    "    df2 = df2.groupby(['Subject', 'Attention']).mean(numeric_only=True)['Familiarity Rating'].reset_index().pivot(index='Subject', columns='Attention', values='Familiarity Rating')\n",
    "\n",
    "    # run t-tests\n",
    "    for attention in df1.columns:\n",
    "        print_ttest_results(df1[attention], df2[attention], attention)\n",
    "    \n",
    "    print('\\n')\n",
    "\n",
    "    # old\n",
    "    print_ttest_results(df1[['Attended', 'Attended category', 'Attended location', 'Unattended']].mean(axis=1), df2[['Attended', 'Attended category', 'Attended location', 'Unattended']].mean(axis=1), 'Old')\n",
    "\n",
    "    # location benefit\n",
    "    print_ttest_results(df1[['Attended', 'Attended location']].mean(axis=1), df2[['Attended', 'Attended location']].mean(axis=1), 'Attended + Attended location')\n",
    "\n",
    "    # category benefit\n",
    "    print_ttest_results(df1[['Attended', 'Attended category']].mean(axis=1), df2[['Attended', 'Attended category']].mean(axis=1), 'Attended + Attended category')"
   ]
  },
  {
   "cell_type": "code",
   "execution_count": 42,
   "metadata": {},
   "outputs": [
    {
     "name": "stdout",
     "output_type": "stream",
     "text": [
      "Attended -- Sustained vs. Variable: $t(51) = -0.649, p = 0.519$\n",
      "Attended category -- Sustained vs. Variable: $t(51) = 1.163, p = 0.250$\n",
      "Attended location -- Sustained vs. Variable: $t(51) = -2.174, p = 0.034$\n",
      "Novel -- Sustained vs. Variable: $t(51) = -0.435, p = 0.665$\n",
      "Unattended -- Sustained vs. Variable: $t(51) = -1.600, p = 0.116$\n",
      "\n",
      "\n",
      "Old -- Sustained vs. Variable: $t(51) = -1.058, p = 0.295$\n",
      "Attended + Attended location -- Sustained vs. Variable: $t(51) = -1.723, p = 0.091$\n",
      "Attended + Attended category -- Sustained vs. Variable: $t(51) = 0.350, p = 0.728$\n"
     ]
    }
   ],
   "source": [
    "across_condition_ttests_by_attention_level(sustained, variable)"
   ]
  },
  {
   "cell_type": "code",
   "execution_count": 43,
   "metadata": {},
   "outputs": [
    {
     "name": "stdout",
     "output_type": "stream",
     "text": [
      "\n",
      "Category: Face\n",
      "Attended -- Sustained vs. Variable: $t(51) = -0.140, p = 0.889$\n",
      "Attended category -- Sustained vs. Variable: $t(51) = 1.573, p = 0.122$\n",
      "Attended location -- Sustained vs. Variable: $t(51) = -1.796, p = 0.078$\n",
      "Novel -- Sustained vs. Variable: $t(51) = 0.015, p = 0.988$\n",
      "Unattended -- Sustained vs. Variable: $t(51) = -1.125, p = 0.266$\n",
      "\n",
      "\n",
      "Old -- Sustained vs. Variable: $t(51) = -0.444, p = 0.659$\n",
      "Attended + Attended location -- Sustained vs. Variable: $t(51) = -1.036, p = 0.305$\n",
      "Attended + Attended category -- Sustained vs. Variable: $t(51) = 0.714, p = 0.478$\n",
      "\n",
      "Category: Place\n",
      "Attended -- Sustained vs. Variable: $t(51) = -0.729, p = 0.469$\n",
      "Attended category -- Sustained vs. Variable: $t(51) = 0.434, p = 0.666$\n",
      "Attended location -- Sustained vs. Variable: $t(51) = -2.379, p = 0.021$\n",
      "Novel -- Sustained vs. Variable: $t(51) = -0.883, p = 0.381$\n",
      "Unattended -- Sustained vs. Variable: $t(51) = -1.747, p = 0.087$\n",
      "\n",
      "\n",
      "Old -- Sustained vs. Variable: $t(51) = -1.562, p = 0.125$\n",
      "Attended + Attended location -- Sustained vs. Variable: $t(51) = -2.081, p = 0.042$\n",
      "Attended + Attended category -- Sustained vs. Variable: $t(51) = -0.148, p = 0.883$\n",
      "\n",
      "\\Within-level tests:\n",
      "Attended Face -- Sustained vs. Variable: $t(51) = -0.140, p = 0.889$\n",
      "Attended Place -- Sustained vs. Variable: $t(51) = -0.729, p = 0.469$\n",
      "Attended category Face -- Sustained vs. Variable: $t(51) = 1.573, p = 0.122$\n",
      "Attended category Place -- Sustained vs. Variable: $t(51) = 0.434, p = 0.666$\n",
      "Attended location Face -- Sustained vs. Variable: $t(51) = -1.796, p = 0.078$\n",
      "Attended location Place -- Sustained vs. Variable: $t(51) = -2.379, p = 0.021$\n",
      "Novel Face -- Sustained vs. Variable: $t(51) = 0.015, p = 0.988$\n",
      "Novel Place -- Sustained vs. Variable: $t(51) = -0.883, p = 0.381$\n",
      "Unattended Face -- Sustained vs. Variable: $t(51) = -1.125, p = 0.266$\n",
      "Unattended Place -- Sustained vs. Variable: $t(51) = -1.747, p = 0.087$\n"
     ]
    }
   ],
   "source": [
    "across_condition_ttests_by_attention_level(sustained, variable, category=['Face', 'Place'])"
   ]
  },
  {
   "attachments": {},
   "cell_type": "markdown",
   "metadata": {},
   "source": [
    "## Serial position effects during *encoding*\n",
    "\n",
    "Plot familiarity as a function of presentation position:\n",
    "  - $x$-axis: study position\n",
    "  - $y$-axis: familiarity (at recall)\n",
    "  - color: attention level"
   ]
  },
  {
   "cell_type": "code",
   "execution_count": 44,
   "metadata": {},
   "outputs": [],
   "source": [
    "def encoding_df(df):\n",
    "    df = df.query('`Trial Type` == \"Presentation\"')[['Subject', 'Run', 'Order', 'Attended', 'Attended category', 'Attended location', 'Unattended', 'Cued Location', 'Cued Category']]\n",
    "    df = df.drop('Run', axis=1).groupby(['Subject', 'Order']).mean(numeric_only=True).reset_index()\n",
    "    return df.melt(id_vars=['Subject', 'Order'], value_vars=['Attended', 'Attended category', 'Attended location', 'Unattended'], var_name='Attention', value_name='Familiarity Rating')"
   ]
  },
  {
   "cell_type": "code",
   "execution_count": 45,
   "metadata": {},
   "outputs": [
    {
     "data": {
      "image/png": "[encoded data removed]",
      "text/plain": [
       "<Figure size 504x216 with 2 Axes>"
      ]
     },
     "metadata": {
      "needs_background": "light"
     },
     "output_type": "display_data"
    }
   ],
   "source": [
    "fig, ax = plt.subplots(nrows=1, ncols=2, figsize=(7, 3), sharey=True, sharex=True)\n",
    "sns.lineplot(encoding_df(sustained), x='Order', y='Familiarity Rating', hue='Attention', ax=ax[0], legend=False, palette=attention_colors)\n",
    "ax[0].set_xlabel('Presentation position', fontsize=12)\n",
    "ax[0].set_ylabel('Familiarity rating', fontsize=12)\n",
    "ax[0].set_title('Sustained', fontsize=12)\n",
    "sns.despine(top=True, right=True)\n",
    "\n",
    "sns.lineplot(encoding_df(variable), x='Order', y='Familiarity Rating', hue='Attention', ax=ax[1], legend=False, palette=attention_colors)\n",
    "ax[1].set_xlabel('Presentation position', fontsize=12)\n",
    "ax[1].set_ylabel('')\n",
    "ax[1].set_title('Variable', fontsize=12)\n",
    "sns.despine(top=True, right=True)\n",
    "\n",
    "ax[0].set_xlim([0, 9])\n",
    "ax[0].set_ylim([1, 3.5])\n",
    "plt.tight_layout()\n",
    "\n",
    "fig.savefig(os.path.join(figdir, 'encoding_effects.pdf'), bbox_inches='tight')"
   ]
  },
  {
   "attachments": {},
   "cell_type": "markdown",
   "metadata": {},
   "source": [
    "Plot familiarity as a function of recall position:\n",
    "  - $x$-axis: recall position\n",
    "  - $y$-axis: familiarity\n",
    "  - color: attention level"
   ]
  },
  {
   "cell_type": "code",
   "execution_count": 46,
   "metadata": {},
   "outputs": [
    {
     "data": {
      "image/png": "[encoded data removed]",
      "text/plain": [
       "<Figure size 504x216 with 2 Axes>"
      ]
     },
     "metadata": {
      "needs_background": "light"
     },
     "output_type": "display_data"
    }
   ],
   "source": [
    "fig, ax = plt.subplots(nrows=1, ncols=2, figsize=(7, 3), sharey=True, sharex=True)\n",
    "\n",
    "sns.lineplot(sustained.query('`Trial Type` == \"Memory\"'), x='Order', y='Familiarity Rating', hue='Attention', palette=attention_colors, legend=False, ax=ax[0])\n",
    "ax[0].set_xlabel('Probe position', fontsize=12)\n",
    "ax[0].set_ylabel('Familiarity rating', fontsize=12)\n",
    "ax[0].set_title('Sustained', fontsize=12)\n",
    "sns.despine(top=True, right=True)\n",
    "\n",
    "sns.lineplot(variable.query('`Trial Type` == \"Memory\"'), x='Order', y='Familiarity Rating', hue='Attention', palette=attention_colors, legend=False, ax=ax[1])\n",
    "ax[1].set_xlabel('Probe position', fontsize=12)\n",
    "ax[1].set_ylabel('')\n",
    "ax[1].set_title('Variable', fontsize=12)\n",
    "sns.despine(top=True, right=True)\n",
    "\n",
    "ax[0].set_xlim([0, 39])\n",
    "ax[0].set_ylim([1, 3.5])\n",
    "plt.tight_layout()\n",
    "\n",
    "fig.savefig(os.path.join(figdir, 'familiarity_by_probe_position.pdf'), bbox_inches='tight')\n",
    "\n"
   ]
  },
  {
   "attachments": {},
   "cell_type": "markdown",
   "metadata": {},
   "source": [
    "For each item, compute the number of immediately prior items (including the current item) with the same side cue, category cue, and both"
   ]
  },
  {
   "cell_type": "code",
   "execution_count": 63,
   "metadata": {},
   "outputs": [],
   "source": [
    "def count_same_cues(current, all):\n",
    "    previous = all.query('Subject == @current.Subject and `Trial Type` == \"Presentation\" and ((Run == @current.Run and Order <= @current.Order) or Run < @current.Run)').sort_values(by=['Run', 'Order'], ascending=False)\n",
    "    if len(previous) == 0:\n",
    "        return np.nan, np.nan, np.nan\n",
    "    else:\n",
    "        same_location = 0\n",
    "        same_category = 0\n",
    "        same_both = 0\n",
    "\n",
    "        mismatched_location = False\n",
    "        mismatched_category = False\n",
    "        mismatched_both = False\n",
    "\n",
    "        for _, row in previous.iterrows():\n",
    "            if not mismatched_location and row['Cued Location'] == current['Cued Location']:\n",
    "                same_location += 1\n",
    "            else:\n",
    "                mismatched_location = True\n",
    "\n",
    "            if not mismatched_category and row['Cued Category'] == current['Cued Category']:\n",
    "                same_category += 1\n",
    "            else:\n",
    "                mismatched_category = True\n",
    "            \n",
    "            if not mismatched_both and (row['Cued Location'] == current['Cued Location']) and (row['Cued Category'] == current['Cued Category']):\n",
    "                same_both += 1\n",
    "            else:\n",
    "                mismatched_both = True\n",
    "\n",
    "            if mismatched_both and mismatched_category and mismatched_location:\n",
    "                break\n",
    "        \n",
    "        if same_both == 0:\n",
    "            pass\n",
    "        return same_location, same_category, same_both"
   ]
  },
  {
   "attachments": {},
   "cell_type": "markdown",
   "metadata": {},
   "source": [
    "Add in cue sequence information.  Note: this needs to be done on the original dataframes (before filtering out trials where the participants looked at the attended images), but those invalid trials should be filtered out again afterwards."
   ]
  },
  {
   "cell_type": "code",
   "execution_count": 64,
   "metadata": {},
   "outputs": [],
   "source": [
    "def add_cue_counts(df):\n",
    "    df['Location sequence length'] = np.nan\n",
    "    df['Category sequence length'] = np.nan\n",
    "    df['Same cue sequence length'] = np.nan\n",
    "\n",
    "    for i, row in tqdm(df.query('`Trial Type` == \"Presentation\"').iterrows()):\n",
    "        df.loc[i, 'Location sequence length'] , df.loc[i, 'Category sequence length'], df.loc[i, 'Same cue sequence length'] = count_same_cues(row, df)\n",
    "    \n",
    "    return df"
   ]
  },
  {
   "cell_type": "code",
   "execution_count": 65,
   "metadata": {},
   "outputs": [
    {
     "name": "stderr",
     "output_type": "stream",
     "text": [
      "2400it [00:13, 184.32it/s]\n",
      "1840it [00:08, 209.10it/s]\n"
     ]
    }
   ],
   "source": [
    "sustained = add_cue_counts(sustained_behavioral)\n",
    "variable = add_cue_counts(variable_behavioral)\n",
    "\n",
    "sustained = sustained[~sustained['Attended intersection']]\n",
    "variable = variable[~variable['Attended intersection']]"
   ]
  },
  {
   "cell_type": "code",
   "execution_count": 66,
   "metadata": {},
   "outputs": [
    {
     "data": {
      "text/plain": [
       "2.0     161\n",
       "5.0     159\n",
       "7.0     156\n",
       "1.0     155\n",
       "9.0     154\n",
       "10.0    154\n",
       "6.0     153\n",
       "4.0     151\n",
       "3.0     151\n",
       "8.0     150\n",
       "Name: Same cue sequence length, dtype: int64"
      ]
     },
     "execution_count": 66,
     "metadata": {},
     "output_type": "execute_result"
    }
   ],
   "source": [
    "sustained['Same cue sequence length'].value_counts()"
   ]
  },
  {
   "cell_type": "code",
   "execution_count": 67,
   "metadata": {},
   "outputs": [
    {
     "data": {
      "text/plain": [
       "1.0    852\n",
       "2.0    136\n",
       "3.0     21\n",
       "5.0      1\n",
       "Name: Same cue sequence length, dtype: int64"
      ]
     },
     "execution_count": 67,
     "metadata": {},
     "output_type": "execute_result"
    }
   ],
   "source": [
    "variable['Same cue sequence length'].value_counts()"
   ]
  },
  {
   "attachments": {},
   "cell_type": "markdown",
   "metadata": {},
   "source": [
    "Turn this into a 2d histogram?"
   ]
  },
  {
   "cell_type": "code",
   "execution_count": 68,
   "metadata": {},
   "outputs": [
    {
     "data": {
      "image/png": "[encoded data removed]",
      "text/plain": [
       "<Figure size 432x288 with 1 Axes>"
      ]
     },
     "metadata": {
      "needs_background": "light"
     },
     "output_type": "display_data"
    }
   ],
   "source": [
    "for a in ['Attended', 'Attended category', 'Attended location', 'Unattended']:\n",
    "    sns.scatterplot(data=sustained.query('`Trial Type` == \"Presentation\"'), x='Same cue sequence length', y=a, color=attention_colors[a])"
   ]
  },
  {
   "cell_type": "code",
   "execution_count": 69,
   "metadata": {},
   "outputs": [
    {
     "data": {
      "image/png": "[encoded data removed]",
      "text/plain": [
       "<Figure size 432x288 with 1 Axes>"
      ]
     },
     "metadata": {
      "needs_background": "light"
     },
     "output_type": "display_data"
    }
   ],
   "source": [
    "for a in ['Attended', 'Attended category', 'Attended location', 'Unattended']:\n",
    "    sns.scatterplot(data=sustained.query('`Trial Type` == \"Presentation\"').groupby('Subject').mean(numeric_only=True), x='Same cue sequence length', y=a, color=attention_colors[a])"
   ]
  },
  {
   "cell_type": "code",
   "execution_count": 70,
   "metadata": {},
   "outputs": [
    {
     "data": {
      "image/png": "[encoded data removed]",
      "text/plain": [
       "<Figure size 432x288 with 1 Axes>"
      ]
     },
     "metadata": {
      "needs_background": "light"
     },
     "output_type": "display_data"
    }
   ],
   "source": [
    "for a in ['Attended', 'Attended category', 'Attended location', 'Unattended']:\n",
    "    sns.scatterplot(data=variable.query('`Trial Type` == \"Presentation\"').groupby('Subject').mean(numeric_only=True), x='Same cue sequence length', y=a, color=attention_colors[a])"
   ]
  },
  {
   "cell_type": "code",
   "execution_count": 55,
   "metadata": {},
   "outputs": [
    {
     "data": {
      "text/plain": [
       "<Axes: xlabel='Same cue sequence length', ylabel='Unattended'>"
      ]
     },
     "execution_count": 55,
     "metadata": {},
     "output_type": "execute_result"
    },
    {
     "data": {
      "image/png": "[encoded data removed]",
      "text/plain": [
       "<Figure size 432x288 with 1 Axes>"
      ]
     },
     "metadata": {
      "needs_background": "light"
     },
     "output_type": "display_data"
    }
   ],
   "source": [
    "sns.barplot(data=sustained.query('`Trial Type` == \"Presentation\"'), x='Same cue sequence length', y=a)"
   ]
  },
  {
   "attachments": {},
   "cell_type": "markdown",
   "metadata": {},
   "source": [
    "Recency and response biases:\n",
    "  - For each probe, compute the temporal distance (in image presentations) to the nearest same-category cue\n",
    "  - For each probe, compute the number of same-category cues from the current run\n",
    "  - For each probe, compute a recency-weighted average of the number of same-category cues on most recent run, where\n",
    "\n",
    "$w = \\argmax\\left[1 - \\exp\\{-\\frac{x}{\\tau}\\} , \\epsilon \\right]$,\n",
    "\n",
    "and where $w$ is the weight given to the cue at presentation position $x$, $\\tau = 2$, and $\\epsilon = 0.05$."
   ]
  },
  {
   "cell_type": "code",
   "execution_count": 57,
   "metadata": {},
   "outputs": [
    {
     "data": {
      "image/png": "[encoded data removed]",
      "text/plain": [
       "<Figure size 288x216 with 1 Axes>"
      ]
     },
     "metadata": {
      "needs_background": "light"
     },
     "output_type": "display_data"
    }
   ],
   "source": [
    "def recency(x, tau=2, eps=0.05, max_pos=9):\n",
    "    if type(x) is not np.ndarray:\n",
    "        x = np.array(x)\n",
    "\n",
    "    y = 1 - np.exp(-x/tau)\n",
    "\n",
    "    if type(y) is np.ndarray:\n",
    "       y[y <= 0] = eps\n",
    "    elif y <= 0:\n",
    "       y = eps\n",
    "    \n",
    "    return y\n",
    "\n",
    "fig = plt.figure(figsize=(4, 3))\n",
    "\n",
    "x = np.linspace(0, 9, 10)\n",
    "plt.plot(x, recency(x, tau=2, eps=0.05), 'ko-')\n",
    "plt.xlabel('Presentation position', fontsize=12)\n",
    "plt.ylabel('Recency weight', fontsize=12)\n",
    "plt.ylim([0, 1.1])\n",
    "plt.xlim([-0.3, 9.3])\n",
    "sns.despine(top=True, right=True)\n",
    "\n",
    "fig.savefig(os.path.join(figdir, 'recency_weights.pdf'), bbox_inches='tight')"
   ]
  }
 ],
 "metadata": {
  "kernelspec": {
   "display_name": "attention-memory.venv",
   "language": "python",
   "name": "python3"
  },
  "language_info": {
   "codemirror_mode": {
    "name": "ipython",
    "version": 3
   },
   "file_extension": ".py",
   "mimetype": "text/x-python",
   "name": "python",
   "nbconvert_exporter": "python",
   "pygments_lexer": "ipython3",
   "version": "3.10.9"
  },
  "orig_nbformat": 4
 },
 "nbformat": 4,
 "nbformat_minor": 2
}
