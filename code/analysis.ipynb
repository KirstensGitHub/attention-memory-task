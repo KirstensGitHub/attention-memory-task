{
 "cells": [
  {
   "cell_type": "code",
   "execution_count": 3,
   "metadata": {},
   "outputs": [
    {
     "name": "stdout",
     "output_type": "stream",
     "text": [
      "Requirement already satisfied: davos in /Users/jmanning/opt/anaconda3/envs/attention-memory.venv/lib/python3.10/site-packages (0.1.1)\n",
      "Requirement already satisfied: packaging in /Users/jmanning/opt/anaconda3/envs/attention-memory.venv/lib/python3.10/site-packages (from davos) (21.3)\n",
      "Requirement already satisfied: setuptools in /Users/jmanning/opt/anaconda3/envs/attention-memory.venv/lib/python3.10/site-packages (from davos) (65.6.3)\n",
      "Requirement already satisfied: pyparsing!=3.0.5,>=2.0.2 in /Users/jmanning/opt/anaconda3/envs/attention-memory.venv/lib/python3.10/site-packages (from packaging->davos) (3.0.4)\n",
      "Note: you may need to restart the kernel to use updated packages.\n"
     ]
    }
   ],
   "source": [
    "%pip install davos\n",
    "import davos\n",
    "\n",
    "davos.config.suppress_stdout = True"
   ]
  },
  {
   "cell_type": "code",
   "execution_count": 4,
   "metadata": {},
   "outputs": [],
   "source": [
    "smuggle numpy as np               # pip: numpy==1.24.2\n",
    "smuggle matplotlib.pyplot as plt  # pip: matplotlib==3.7.0\n",
    "from matplotlib.patches smuggle Rectangle\n",
    "from matplotlib.collections smuggle PatchCollection\n",
    "smuggle pandas as pd              # pip: pandas==1.5.3\n",
    "smuggle seaborn as sns            # pip: seaborn==0.12.2\n",
    "from scipy.stats smuggle ttest_rel, ttest_ind, pearsonr      # pip: scipy==1.10.1\n",
    "from tqdm smuggle tqdm            # pip: tqdm==4.64.1\n",
    "\n",
    "smuggle requests                  # pip: requests==2.28.2\n",
    "\n",
    "import os\n",
    "import warnings\n",
    "\n",
    "from helpers import load_data, figdir, attention_colors, recency, plot_colorbar"
   ]
  },
  {
   "cell_type": "markdown",
   "metadata": {},
   "source": [
    "Download dataset, set up paths, and load behavioral and gaze data into the current workspace:\n",
    "  - sustained, variable: behavioral data with labels added and all trials removed where participants looked at the attended image (used in most analyses)\n",
    "  - sustained_gaze, variable_gaze: eyetracker data (used to summarize/plot gaze data)\n",
    "  - sustained_unfiltered, variable_unfiltered: behavioral data with no trials removed (used to summarize which trials were filtered)"
   ]
  },
  {
   "cell_type": "code",
   "execution_count": 5,
   "metadata": {},
   "outputs": [
    {
     "name": "stderr",
     "output_type": "stream",
     "text": [
      "100%|██████████| 30/30 [00:03<00:00,  7.61it/s]\n",
      "100%|██████████| 23/23 [00:03<00:00,  7.19it/s]\n",
      "100%|██████████| 30/30 [00:42<00:00,  1.42s/it]\n",
      "100%|██████████| 23/23 [00:49<00:00,  2.14s/it]\n",
      "100%|██████████| 30/30 [00:05<00:00,  5.52it/s]\n",
      "100%|██████████| 23/23 [00:03<00:00,  5.87it/s]\n",
      "2400it [00:05, 454.59it/s]\n",
      "1840it [00:03, 513.02it/s]\n",
      "9600it [00:17, 557.87it/s]\n",
      "7360it [00:13, 565.45it/s]\n"
     ]
    }
   ],
   "source": [
    "sustained, variable, sustained_gaze, variable_gaze, sustained_unfiltered, variable_unfiltered = load_data()"
   ]
  },
  {
   "cell_type": "code",
   "execution_count": 6,
   "metadata": {},
   "outputs": [
    {
     "data": {
      "text/html": [
       "<div>\n",
       "<style scoped>\n",
       "    .dataframe tbody tr th:only-of-type {\n",
       "        vertical-align: middle;\n",
       "    }\n",
       "\n",
       "    .dataframe tbody tr th {\n",
       "        vertical-align: top;\n",
       "    }\n",
       "\n",
       "    .dataframe thead th {\n",
       "        text-align: right;\n",
       "    }\n",
       "</style>\n",
       "<table border=\"1\" class=\"dataframe\">\n",
       "  <thead>\n",
       "    <tr style=\"text-align: right;\">\n",
       "      <th></th>\n",
       "      <th>Subject</th>\n",
       "      <th>Trial Type</th>\n",
       "      <th>Run</th>\n",
       "      <th>Cued Composite</th>\n",
       "      <th>Uncued Composite</th>\n",
       "      <th>Cued Face</th>\n",
       "      <th>Cued Place</th>\n",
       "      <th>Uncued Face</th>\n",
       "      <th>Uncued Place</th>\n",
       "      <th>Memory Image</th>\n",
       "      <th>...</th>\n",
       "      <th>Attended category</th>\n",
       "      <th>Attended location</th>\n",
       "      <th>Unattended</th>\n",
       "      <th>Location sequence length</th>\n",
       "      <th>Category sequence length</th>\n",
       "      <th>Same cue sequence length</th>\n",
       "      <th>Distance to nearest same-category cue</th>\n",
       "      <th>Number of same-category cues</th>\n",
       "      <th>Recency-weighted number of same-category cues</th>\n",
       "      <th>Category-matched recent cue</th>\n",
       "    </tr>\n",
       "  </thead>\n",
       "  <tbody>\n",
       "    <tr>\n",
       "      <th>0</th>\n",
       "      <td>34_2019_Oct_13</td>\n",
       "      <td>Memory</td>\n",
       "      <td>0</td>\n",
       "      <td>NaN</td>\n",
       "      <td>NaN</td>\n",
       "      <td>NaN</td>\n",
       "      <td>NaN</td>\n",
       "      <td>NaN</td>\n",
       "      <td>NaN</td>\n",
       "      <td>00753941201fa.jpg</td>\n",
       "      <td>...</td>\n",
       "      <td>NaN</td>\n",
       "      <td>NaN</td>\n",
       "      <td>NaN</td>\n",
       "      <td>NaN</td>\n",
       "      <td>NaN</td>\n",
       "      <td>NaN</td>\n",
       "      <td>1.0</td>\n",
       "      <td>10.0</td>\n",
       "      <td>1.0</td>\n",
       "      <td>True</td>\n",
       "    </tr>\n",
       "    <tr>\n",
       "      <th>1</th>\n",
       "      <td>34_2019_Oct_13</td>\n",
       "      <td>Memory</td>\n",
       "      <td>0</td>\n",
       "      <td>NaN</td>\n",
       "      <td>NaN</td>\n",
       "      <td>NaN</td>\n",
       "      <td>NaN</td>\n",
       "      <td>NaN</td>\n",
       "      <td>NaN</td>\n",
       "      <td>00754941201fa.jpg</td>\n",
       "      <td>...</td>\n",
       "      <td>NaN</td>\n",
       "      <td>NaN</td>\n",
       "      <td>NaN</td>\n",
       "      <td>NaN</td>\n",
       "      <td>NaN</td>\n",
       "      <td>NaN</td>\n",
       "      <td>1.0</td>\n",
       "      <td>10.0</td>\n",
       "      <td>1.0</td>\n",
       "      <td>True</td>\n",
       "    </tr>\n",
       "    <tr>\n",
       "      <th>2</th>\n",
       "      <td>34_2019_Oct_13</td>\n",
       "      <td>Memory</td>\n",
       "      <td>0</td>\n",
       "      <td>NaN</td>\n",
       "      <td>NaN</td>\n",
       "      <td>NaN</td>\n",
       "      <td>NaN</td>\n",
       "      <td>NaN</td>\n",
       "      <td>NaN</td>\n",
       "      <td>00779941205fa.jpg</td>\n",
       "      <td>...</td>\n",
       "      <td>NaN</td>\n",
       "      <td>NaN</td>\n",
       "      <td>NaN</td>\n",
       "      <td>NaN</td>\n",
       "      <td>NaN</td>\n",
       "      <td>NaN</td>\n",
       "      <td>1.0</td>\n",
       "      <td>10.0</td>\n",
       "      <td>1.0</td>\n",
       "      <td>True</td>\n",
       "    </tr>\n",
       "    <tr>\n",
       "      <th>3</th>\n",
       "      <td>34_2019_Oct_13</td>\n",
       "      <td>Memory</td>\n",
       "      <td>0</td>\n",
       "      <td>NaN</td>\n",
       "      <td>NaN</td>\n",
       "      <td>NaN</td>\n",
       "      <td>NaN</td>\n",
       "      <td>NaN</td>\n",
       "      <td>NaN</td>\n",
       "      <td>sunafbwnojpqeyzssoe.jpg</td>\n",
       "      <td>...</td>\n",
       "      <td>NaN</td>\n",
       "      <td>NaN</td>\n",
       "      <td>NaN</td>\n",
       "      <td>NaN</td>\n",
       "      <td>NaN</td>\n",
       "      <td>NaN</td>\n",
       "      <td>NaN</td>\n",
       "      <td>0.0</td>\n",
       "      <td>0.0</td>\n",
       "      <td>False</td>\n",
       "    </tr>\n",
       "    <tr>\n",
       "      <th>4</th>\n",
       "      <td>34_2019_Oct_13</td>\n",
       "      <td>Memory</td>\n",
       "      <td>0</td>\n",
       "      <td>NaN</td>\n",
       "      <td>NaN</td>\n",
       "      <td>NaN</td>\n",
       "      <td>NaN</td>\n",
       "      <td>NaN</td>\n",
       "      <td>NaN</td>\n",
       "      <td>sunaaeplwsfslcbtojr.jpg</td>\n",
       "      <td>...</td>\n",
       "      <td>NaN</td>\n",
       "      <td>NaN</td>\n",
       "      <td>NaN</td>\n",
       "      <td>NaN</td>\n",
       "      <td>NaN</td>\n",
       "      <td>NaN</td>\n",
       "      <td>NaN</td>\n",
       "      <td>0.0</td>\n",
       "      <td>0.0</td>\n",
       "      <td>False</td>\n",
       "    </tr>\n",
       "    <tr>\n",
       "      <th>...</th>\n",
       "      <td>...</td>\n",
       "      <td>...</td>\n",
       "      <td>...</td>\n",
       "      <td>...</td>\n",
       "      <td>...</td>\n",
       "      <td>...</td>\n",
       "      <td>...</td>\n",
       "      <td>...</td>\n",
       "      <td>...</td>\n",
       "      <td>...</td>\n",
       "      <td>...</td>\n",
       "      <td>...</td>\n",
       "      <td>...</td>\n",
       "      <td>...</td>\n",
       "      <td>...</td>\n",
       "      <td>...</td>\n",
       "      <td>...</td>\n",
       "      <td>...</td>\n",
       "      <td>...</td>\n",
       "      <td>...</td>\n",
       "      <td>...</td>\n",
       "    </tr>\n",
       "    <tr>\n",
       "      <th>11995</th>\n",
       "      <td>9_2019_Oct_14</td>\n",
       "      <td>Memory</td>\n",
       "      <td>7</td>\n",
       "      <td>NaN</td>\n",
       "      <td>NaN</td>\n",
       "      <td>NaN</td>\n",
       "      <td>NaN</td>\n",
       "      <td>NaN</td>\n",
       "      <td>NaN</td>\n",
       "      <td>sunajtrfunvzdfticna.jpg</td>\n",
       "      <td>...</td>\n",
       "      <td>NaN</td>\n",
       "      <td>NaN</td>\n",
       "      <td>NaN</td>\n",
       "      <td>NaN</td>\n",
       "      <td>NaN</td>\n",
       "      <td>NaN</td>\n",
       "      <td>NaN</td>\n",
       "      <td>0.0</td>\n",
       "      <td>0.0</td>\n",
       "      <td>False</td>\n",
       "    </tr>\n",
       "    <tr>\n",
       "      <th>11996</th>\n",
       "      <td>9_2019_Oct_14</td>\n",
       "      <td>Memory</td>\n",
       "      <td>7</td>\n",
       "      <td>NaN</td>\n",
       "      <td>NaN</td>\n",
       "      <td>NaN</td>\n",
       "      <td>NaN</td>\n",
       "      <td>NaN</td>\n",
       "      <td>NaN</td>\n",
       "      <td>sunagdzlvkqtpnfxfcg.jpg</td>\n",
       "      <td>...</td>\n",
       "      <td>NaN</td>\n",
       "      <td>NaN</td>\n",
       "      <td>NaN</td>\n",
       "      <td>NaN</td>\n",
       "      <td>NaN</td>\n",
       "      <td>NaN</td>\n",
       "      <td>NaN</td>\n",
       "      <td>0.0</td>\n",
       "      <td>0.0</td>\n",
       "      <td>False</td>\n",
       "    </tr>\n",
       "    <tr>\n",
       "      <th>11997</th>\n",
       "      <td>9_2019_Oct_14</td>\n",
       "      <td>Memory</td>\n",
       "      <td>7</td>\n",
       "      <td>NaN</td>\n",
       "      <td>NaN</td>\n",
       "      <td>NaN</td>\n",
       "      <td>NaN</td>\n",
       "      <td>NaN</td>\n",
       "      <td>NaN</td>\n",
       "      <td>sunayaepykrqvenaqqy.jpg</td>\n",
       "      <td>...</td>\n",
       "      <td>NaN</td>\n",
       "      <td>NaN</td>\n",
       "      <td>NaN</td>\n",
       "      <td>NaN</td>\n",
       "      <td>NaN</td>\n",
       "      <td>NaN</td>\n",
       "      <td>NaN</td>\n",
       "      <td>0.0</td>\n",
       "      <td>0.0</td>\n",
       "      <td>False</td>\n",
       "    </tr>\n",
       "    <tr>\n",
       "      <th>11998</th>\n",
       "      <td>9_2019_Oct_14</td>\n",
       "      <td>Memory</td>\n",
       "      <td>7</td>\n",
       "      <td>NaN</td>\n",
       "      <td>NaN</td>\n",
       "      <td>NaN</td>\n",
       "      <td>NaN</td>\n",
       "      <td>NaN</td>\n",
       "      <td>NaN</td>\n",
       "      <td>00754941201fa.jpg</td>\n",
       "      <td>...</td>\n",
       "      <td>NaN</td>\n",
       "      <td>NaN</td>\n",
       "      <td>NaN</td>\n",
       "      <td>NaN</td>\n",
       "      <td>NaN</td>\n",
       "      <td>NaN</td>\n",
       "      <td>1.0</td>\n",
       "      <td>10.0</td>\n",
       "      <td>1.0</td>\n",
       "      <td>True</td>\n",
       "    </tr>\n",
       "    <tr>\n",
       "      <th>11999</th>\n",
       "      <td>9_2019_Oct_14</td>\n",
       "      <td>Memory</td>\n",
       "      <td>7</td>\n",
       "      <td>NaN</td>\n",
       "      <td>NaN</td>\n",
       "      <td>NaN</td>\n",
       "      <td>NaN</td>\n",
       "      <td>NaN</td>\n",
       "      <td>NaN</td>\n",
       "      <td>sunaafynehyrzpsoaml.jpg</td>\n",
       "      <td>...</td>\n",
       "      <td>NaN</td>\n",
       "      <td>NaN</td>\n",
       "      <td>NaN</td>\n",
       "      <td>NaN</td>\n",
       "      <td>NaN</td>\n",
       "      <td>NaN</td>\n",
       "      <td>NaN</td>\n",
       "      <td>0.0</td>\n",
       "      <td>0.0</td>\n",
       "      <td>False</td>\n",
       "    </tr>\n",
       "  </tbody>\n",
       "</table>\n",
       "<p>11228 rows × 34 columns</p>\n",
       "</div>"
      ],
      "text/plain": [
       "              Subject Trial Type  Run Cued Composite Uncued Composite  \\\n",
       "0      34_2019_Oct_13     Memory    0            NaN              NaN   \n",
       "1      34_2019_Oct_13     Memory    0            NaN              NaN   \n",
       "2      34_2019_Oct_13     Memory    0            NaN              NaN   \n",
       "3      34_2019_Oct_13     Memory    0            NaN              NaN   \n",
       "4      34_2019_Oct_13     Memory    0            NaN              NaN   \n",
       "...               ...        ...  ...            ...              ...   \n",
       "11995   9_2019_Oct_14     Memory    7            NaN              NaN   \n",
       "11996   9_2019_Oct_14     Memory    7            NaN              NaN   \n",
       "11997   9_2019_Oct_14     Memory    7            NaN              NaN   \n",
       "11998   9_2019_Oct_14     Memory    7            NaN              NaN   \n",
       "11999   9_2019_Oct_14     Memory    7            NaN              NaN   \n",
       "\n",
       "      Cued Face Cued Place Uncued Face Uncued Place             Memory Image  \\\n",
       "0           NaN        NaN         NaN          NaN        00753941201fa.jpg   \n",
       "1           NaN        NaN         NaN          NaN        00754941201fa.jpg   \n",
       "2           NaN        NaN         NaN          NaN        00779941205fa.jpg   \n",
       "3           NaN        NaN         NaN          NaN  sunafbwnojpqeyzssoe.jpg   \n",
       "4           NaN        NaN         NaN          NaN  sunaaeplwsfslcbtojr.jpg   \n",
       "...         ...        ...         ...          ...                      ...   \n",
       "11995       NaN        NaN         NaN          NaN  sunajtrfunvzdfticna.jpg   \n",
       "11996       NaN        NaN         NaN          NaN  sunagdzlvkqtpnfxfcg.jpg   \n",
       "11997       NaN        NaN         NaN          NaN  sunayaepykrqvenaqqy.jpg   \n",
       "11998       NaN        NaN         NaN          NaN        00754941201fa.jpg   \n",
       "11999       NaN        NaN         NaN          NaN  sunaafynehyrzpsoaml.jpg   \n",
       "\n",
       "       ... Attended category Attended location  Unattended  \\\n",
       "0      ...               NaN               NaN         NaN   \n",
       "1      ...               NaN               NaN         NaN   \n",
       "2      ...               NaN               NaN         NaN   \n",
       "3      ...               NaN               NaN         NaN   \n",
       "4      ...               NaN               NaN         NaN   \n",
       "...    ...               ...               ...         ...   \n",
       "11995  ...               NaN               NaN         NaN   \n",
       "11996  ...               NaN               NaN         NaN   \n",
       "11997  ...               NaN               NaN         NaN   \n",
       "11998  ...               NaN               NaN         NaN   \n",
       "11999  ...               NaN               NaN         NaN   \n",
       "\n",
       "       Location sequence length  Category sequence length  \\\n",
       "0                           NaN                       NaN   \n",
       "1                           NaN                       NaN   \n",
       "2                           NaN                       NaN   \n",
       "3                           NaN                       NaN   \n",
       "4                           NaN                       NaN   \n",
       "...                         ...                       ...   \n",
       "11995                       NaN                       NaN   \n",
       "11996                       NaN                       NaN   \n",
       "11997                       NaN                       NaN   \n",
       "11998                       NaN                       NaN   \n",
       "11999                       NaN                       NaN   \n",
       "\n",
       "       Same cue sequence length  Distance to nearest same-category cue  \\\n",
       "0                           NaN                                    1.0   \n",
       "1                           NaN                                    1.0   \n",
       "2                           NaN                                    1.0   \n",
       "3                           NaN                                    NaN   \n",
       "4                           NaN                                    NaN   \n",
       "...                         ...                                    ...   \n",
       "11995                       NaN                                    NaN   \n",
       "11996                       NaN                                    NaN   \n",
       "11997                       NaN                                    NaN   \n",
       "11998                       NaN                                    1.0   \n",
       "11999                       NaN                                    NaN   \n",
       "\n",
       "       Number of same-category cues  \\\n",
       "0                              10.0   \n",
       "1                              10.0   \n",
       "2                              10.0   \n",
       "3                               0.0   \n",
       "4                               0.0   \n",
       "...                             ...   \n",
       "11995                           0.0   \n",
       "11996                           0.0   \n",
       "11997                           0.0   \n",
       "11998                          10.0   \n",
       "11999                           0.0   \n",
       "\n",
       "       Recency-weighted number of same-category cues  \\\n",
       "0                                                1.0   \n",
       "1                                                1.0   \n",
       "2                                                1.0   \n",
       "3                                                0.0   \n",
       "4                                                0.0   \n",
       "...                                              ...   \n",
       "11995                                            0.0   \n",
       "11996                                            0.0   \n",
       "11997                                            0.0   \n",
       "11998                                            1.0   \n",
       "11999                                            0.0   \n",
       "\n",
       "       Category-matched recent cue  \n",
       "0                             True  \n",
       "1                             True  \n",
       "2                             True  \n",
       "3                            False  \n",
       "4                            False  \n",
       "...                            ...  \n",
       "11995                        False  \n",
       "11996                        False  \n",
       "11997                        False  \n",
       "11998                         True  \n",
       "11999                        False  \n",
       "\n",
       "[11228 rows x 34 columns]"
      ]
     },
     "execution_count": 6,
     "metadata": {},
     "output_type": "execute_result"
    }
   ],
   "source": [
    "sustained"
   ]
  },
  {
   "cell_type": "code",
   "execution_count": 7,
   "metadata": {},
   "outputs": [
    {
     "data": {
      "text/html": [
       "<div>\n",
       "<style scoped>\n",
       "    .dataframe tbody tr th:only-of-type {\n",
       "        vertical-align: middle;\n",
       "    }\n",
       "\n",
       "    .dataframe tbody tr th {\n",
       "        vertical-align: top;\n",
       "    }\n",
       "\n",
       "    .dataframe thead th {\n",
       "        text-align: right;\n",
       "    }\n",
       "</style>\n",
       "<table border=\"1\" class=\"dataframe\">\n",
       "  <thead>\n",
       "    <tr style=\"text-align: right;\">\n",
       "      <th></th>\n",
       "      <th>Time</th>\n",
       "      <th>x</th>\n",
       "      <th>y</th>\n",
       "      <th>Pupil size</th>\n",
       "      <th>Subject</th>\n",
       "      <th>Run</th>\n",
       "    </tr>\n",
       "  </thead>\n",
       "  <tbody>\n",
       "    <tr>\n",
       "      <th>0</th>\n",
       "      <td>1.570973e+09</td>\n",
       "      <td>33.489124</td>\n",
       "      <td>10.306934</td>\n",
       "      <td>16.70270</td>\n",
       "      <td>34_2019_Oct_13</td>\n",
       "      <td>2</td>\n",
       "    </tr>\n",
       "    <tr>\n",
       "      <th>1</th>\n",
       "      <td>1.570973e+09</td>\n",
       "      <td>33.457396</td>\n",
       "      <td>10.330854</td>\n",
       "      <td>16.72500</td>\n",
       "      <td>34_2019_Oct_13</td>\n",
       "      <td>2</td>\n",
       "    </tr>\n",
       "    <tr>\n",
       "      <th>2</th>\n",
       "      <td>1.570973e+09</td>\n",
       "      <td>33.255358</td>\n",
       "      <td>10.486799</td>\n",
       "      <td>16.73945</td>\n",
       "      <td>34_2019_Oct_13</td>\n",
       "      <td>2</td>\n",
       "    </tr>\n",
       "    <tr>\n",
       "      <th>3</th>\n",
       "      <td>1.570973e+09</td>\n",
       "      <td>33.265260</td>\n",
       "      <td>10.478487</td>\n",
       "      <td>16.79585</td>\n",
       "      <td>34_2019_Oct_13</td>\n",
       "      <td>2</td>\n",
       "    </tr>\n",
       "    <tr>\n",
       "      <th>4</th>\n",
       "      <td>1.570973e+09</td>\n",
       "      <td>33.210056</td>\n",
       "      <td>10.520274</td>\n",
       "      <td>16.82780</td>\n",
       "      <td>34_2019_Oct_13</td>\n",
       "      <td>2</td>\n",
       "    </tr>\n",
       "    <tr>\n",
       "      <th>...</th>\n",
       "      <td>...</td>\n",
       "      <td>...</td>\n",
       "      <td>...</td>\n",
       "      <td>...</td>\n",
       "      <td>...</td>\n",
       "      <td>...</td>\n",
       "    </tr>\n",
       "    <tr>\n",
       "      <th>1920643</th>\n",
       "      <td>1.571072e+09</td>\n",
       "      <td>16.626686</td>\n",
       "      <td>28.935629</td>\n",
       "      <td>12.43825</td>\n",
       "      <td>9_2019_Oct_14</td>\n",
       "      <td>1</td>\n",
       "    </tr>\n",
       "    <tr>\n",
       "      <th>1920644</th>\n",
       "      <td>1.571072e+09</td>\n",
       "      <td>5.635703</td>\n",
       "      <td>25.184130</td>\n",
       "      <td>8.77160</td>\n",
       "      <td>9_2019_Oct_14</td>\n",
       "      <td>1</td>\n",
       "    </tr>\n",
       "    <tr>\n",
       "      <th>1920645</th>\n",
       "      <td>1.571072e+09</td>\n",
       "      <td>5.521412</td>\n",
       "      <td>24.949549</td>\n",
       "      <td>8.28955</td>\n",
       "      <td>9_2019_Oct_14</td>\n",
       "      <td>1</td>\n",
       "    </tr>\n",
       "    <tr>\n",
       "      <th>1920646</th>\n",
       "      <td>1.571072e+09</td>\n",
       "      <td>2.779392</td>\n",
       "      <td>24.202658</td>\n",
       "      <td>11.96100</td>\n",
       "      <td>9_2019_Oct_14</td>\n",
       "      <td>1</td>\n",
       "    </tr>\n",
       "    <tr>\n",
       "      <th>1920647</th>\n",
       "      <td>1.571072e+09</td>\n",
       "      <td>10.135951</td>\n",
       "      <td>21.740020</td>\n",
       "      <td>15.55530</td>\n",
       "      <td>9_2019_Oct_14</td>\n",
       "      <td>1</td>\n",
       "    </tr>\n",
       "  </tbody>\n",
       "</table>\n",
       "<p>1920648 rows × 6 columns</p>\n",
       "</div>"
      ],
      "text/plain": [
       "                 Time          x          y  Pupil size         Subject  Run\n",
       "0        1.570973e+09  33.489124  10.306934    16.70270  34_2019_Oct_13    2\n",
       "1        1.570973e+09  33.457396  10.330854    16.72500  34_2019_Oct_13    2\n",
       "2        1.570973e+09  33.255358  10.486799    16.73945  34_2019_Oct_13    2\n",
       "3        1.570973e+09  33.265260  10.478487    16.79585  34_2019_Oct_13    2\n",
       "4        1.570973e+09  33.210056  10.520274    16.82780  34_2019_Oct_13    2\n",
       "...               ...        ...        ...         ...             ...  ...\n",
       "1920643  1.571072e+09  16.626686  28.935629    12.43825   9_2019_Oct_14    1\n",
       "1920644  1.571072e+09   5.635703  25.184130     8.77160   9_2019_Oct_14    1\n",
       "1920645  1.571072e+09   5.521412  24.949549     8.28955   9_2019_Oct_14    1\n",
       "1920646  1.571072e+09   2.779392  24.202658    11.96100   9_2019_Oct_14    1\n",
       "1920647  1.571072e+09  10.135951  21.740020    15.55530   9_2019_Oct_14    1\n",
       "\n",
       "[1920648 rows x 6 columns]"
      ]
     },
     "execution_count": 7,
     "metadata": {},
     "output_type": "execute_result"
    }
   ],
   "source": [
    "sustained_gaze"
   ]
  },
  {
   "cell_type": "code",
   "execution_count": 8,
   "metadata": {},
   "outputs": [
    {
     "data": {
      "text/html": [
       "<div>\n",
       "<style scoped>\n",
       "    .dataframe tbody tr th:only-of-type {\n",
       "        vertical-align: middle;\n",
       "    }\n",
       "\n",
       "    .dataframe tbody tr th {\n",
       "        vertical-align: top;\n",
       "    }\n",
       "\n",
       "    .dataframe thead th {\n",
       "        text-align: right;\n",
       "    }\n",
       "</style>\n",
       "<table border=\"1\" class=\"dataframe\">\n",
       "  <thead>\n",
       "    <tr style=\"text-align: right;\">\n",
       "      <th></th>\n",
       "      <th>Subject</th>\n",
       "      <th>Trial Type</th>\n",
       "      <th>Run</th>\n",
       "      <th>Cued Composite</th>\n",
       "      <th>Uncued Composite</th>\n",
       "      <th>Cued Face</th>\n",
       "      <th>Cued Place</th>\n",
       "      <th>Uncued Face</th>\n",
       "      <th>Uncued Place</th>\n",
       "      <th>Memory Image</th>\n",
       "      <th>...</th>\n",
       "      <th>Attended category</th>\n",
       "      <th>Attended location</th>\n",
       "      <th>Unattended</th>\n",
       "      <th>Location sequence length</th>\n",
       "      <th>Category sequence length</th>\n",
       "      <th>Same cue sequence length</th>\n",
       "      <th>Distance to nearest same-category cue</th>\n",
       "      <th>Number of same-category cues</th>\n",
       "      <th>Recency-weighted number of same-category cues</th>\n",
       "      <th>Category-matched recent cue</th>\n",
       "    </tr>\n",
       "  </thead>\n",
       "  <tbody>\n",
       "    <tr>\n",
       "      <th>0</th>\n",
       "      <td>56_2020_Feb_21</td>\n",
       "      <td>Memory</td>\n",
       "      <td>0</td>\n",
       "      <td>NaN</td>\n",
       "      <td>NaN</td>\n",
       "      <td>NaN</td>\n",
       "      <td>NaN</td>\n",
       "      <td>NaN</td>\n",
       "      <td>NaN</td>\n",
       "      <td>00720960620fa.jpg</td>\n",
       "      <td>...</td>\n",
       "      <td>NaN</td>\n",
       "      <td>NaN</td>\n",
       "      <td>NaN</td>\n",
       "      <td>NaN</td>\n",
       "      <td>NaN</td>\n",
       "      <td>NaN</td>\n",
       "      <td>1.0</td>\n",
       "      <td>5.0</td>\n",
       "      <td>0.519331</td>\n",
       "      <td>True</td>\n",
       "    </tr>\n",
       "    <tr>\n",
       "      <th>1</th>\n",
       "      <td>56_2020_Feb_21</td>\n",
       "      <td>Memory</td>\n",
       "      <td>0</td>\n",
       "      <td>NaN</td>\n",
       "      <td>NaN</td>\n",
       "      <td>NaN</td>\n",
       "      <td>NaN</td>\n",
       "      <td>NaN</td>\n",
       "      <td>NaN</td>\n",
       "      <td>sunagufzbeteqdjxais.jpg</td>\n",
       "      <td>...</td>\n",
       "      <td>NaN</td>\n",
       "      <td>NaN</td>\n",
       "      <td>NaN</td>\n",
       "      <td>NaN</td>\n",
       "      <td>NaN</td>\n",
       "      <td>NaN</td>\n",
       "      <td>2.0</td>\n",
       "      <td>5.0</td>\n",
       "      <td>0.480669</td>\n",
       "      <td>True</td>\n",
       "    </tr>\n",
       "    <tr>\n",
       "      <th>2</th>\n",
       "      <td>56_2020_Feb_21</td>\n",
       "      <td>Memory</td>\n",
       "      <td>0</td>\n",
       "      <td>NaN</td>\n",
       "      <td>NaN</td>\n",
       "      <td>NaN</td>\n",
       "      <td>NaN</td>\n",
       "      <td>NaN</td>\n",
       "      <td>NaN</td>\n",
       "      <td>sunaecpkgfewqqreqwe.jpg</td>\n",
       "      <td>...</td>\n",
       "      <td>NaN</td>\n",
       "      <td>NaN</td>\n",
       "      <td>NaN</td>\n",
       "      <td>NaN</td>\n",
       "      <td>NaN</td>\n",
       "      <td>NaN</td>\n",
       "      <td>2.0</td>\n",
       "      <td>5.0</td>\n",
       "      <td>0.480669</td>\n",
       "      <td>True</td>\n",
       "    </tr>\n",
       "    <tr>\n",
       "      <th>3</th>\n",
       "      <td>56_2020_Feb_21</td>\n",
       "      <td>Memory</td>\n",
       "      <td>0</td>\n",
       "      <td>NaN</td>\n",
       "      <td>NaN</td>\n",
       "      <td>NaN</td>\n",
       "      <td>NaN</td>\n",
       "      <td>NaN</td>\n",
       "      <td>NaN</td>\n",
       "      <td>00146960620fb.jpg</td>\n",
       "      <td>...</td>\n",
       "      <td>NaN</td>\n",
       "      <td>NaN</td>\n",
       "      <td>NaN</td>\n",
       "      <td>NaN</td>\n",
       "      <td>NaN</td>\n",
       "      <td>NaN</td>\n",
       "      <td>1.0</td>\n",
       "      <td>5.0</td>\n",
       "      <td>0.519331</td>\n",
       "      <td>True</td>\n",
       "    </tr>\n",
       "    <tr>\n",
       "      <th>4</th>\n",
       "      <td>56_2020_Feb_21</td>\n",
       "      <td>Memory</td>\n",
       "      <td>0</td>\n",
       "      <td>NaN</td>\n",
       "      <td>NaN</td>\n",
       "      <td>NaN</td>\n",
       "      <td>NaN</td>\n",
       "      <td>NaN</td>\n",
       "      <td>NaN</td>\n",
       "      <td>sunbpflsdaxnddnwcqi.jpg</td>\n",
       "      <td>...</td>\n",
       "      <td>NaN</td>\n",
       "      <td>NaN</td>\n",
       "      <td>NaN</td>\n",
       "      <td>NaN</td>\n",
       "      <td>NaN</td>\n",
       "      <td>NaN</td>\n",
       "      <td>2.0</td>\n",
       "      <td>5.0</td>\n",
       "      <td>0.480669</td>\n",
       "      <td>True</td>\n",
       "    </tr>\n",
       "    <tr>\n",
       "      <th>...</th>\n",
       "      <td>...</td>\n",
       "      <td>...</td>\n",
       "      <td>...</td>\n",
       "      <td>...</td>\n",
       "      <td>...</td>\n",
       "      <td>...</td>\n",
       "      <td>...</td>\n",
       "      <td>...</td>\n",
       "      <td>...</td>\n",
       "      <td>...</td>\n",
       "      <td>...</td>\n",
       "      <td>...</td>\n",
       "      <td>...</td>\n",
       "      <td>...</td>\n",
       "      <td>...</td>\n",
       "      <td>...</td>\n",
       "      <td>...</td>\n",
       "      <td>...</td>\n",
       "      <td>...</td>\n",
       "      <td>...</td>\n",
       "      <td>...</td>\n",
       "    </tr>\n",
       "    <tr>\n",
       "      <th>9195</th>\n",
       "      <td>0_2020_Feb_07</td>\n",
       "      <td>Memory</td>\n",
       "      <td>7</td>\n",
       "      <td>NaN</td>\n",
       "      <td>NaN</td>\n",
       "      <td>NaN</td>\n",
       "      <td>NaN</td>\n",
       "      <td>NaN</td>\n",
       "      <td>NaN</td>\n",
       "      <td>00062931230fb.jpg</td>\n",
       "      <td>...</td>\n",
       "      <td>NaN</td>\n",
       "      <td>NaN</td>\n",
       "      <td>NaN</td>\n",
       "      <td>NaN</td>\n",
       "      <td>NaN</td>\n",
       "      <td>NaN</td>\n",
       "      <td>1.0</td>\n",
       "      <td>5.0</td>\n",
       "      <td>0.430737</td>\n",
       "      <td>True</td>\n",
       "    </tr>\n",
       "    <tr>\n",
       "      <th>9196</th>\n",
       "      <td>0_2020_Feb_07</td>\n",
       "      <td>Memory</td>\n",
       "      <td>7</td>\n",
       "      <td>NaN</td>\n",
       "      <td>NaN</td>\n",
       "      <td>NaN</td>\n",
       "      <td>NaN</td>\n",
       "      <td>NaN</td>\n",
       "      <td>NaN</td>\n",
       "      <td>00198940128fb.jpg</td>\n",
       "      <td>...</td>\n",
       "      <td>NaN</td>\n",
       "      <td>NaN</td>\n",
       "      <td>NaN</td>\n",
       "      <td>NaN</td>\n",
       "      <td>NaN</td>\n",
       "      <td>NaN</td>\n",
       "      <td>1.0</td>\n",
       "      <td>5.0</td>\n",
       "      <td>0.430737</td>\n",
       "      <td>True</td>\n",
       "    </tr>\n",
       "    <tr>\n",
       "      <th>9197</th>\n",
       "      <td>0_2020_Feb_07</td>\n",
       "      <td>Memory</td>\n",
       "      <td>7</td>\n",
       "      <td>NaN</td>\n",
       "      <td>NaN</td>\n",
       "      <td>NaN</td>\n",
       "      <td>NaN</td>\n",
       "      <td>NaN</td>\n",
       "      <td>NaN</td>\n",
       "      <td>00184940128fa.jpg</td>\n",
       "      <td>...</td>\n",
       "      <td>NaN</td>\n",
       "      <td>NaN</td>\n",
       "      <td>NaN</td>\n",
       "      <td>NaN</td>\n",
       "      <td>NaN</td>\n",
       "      <td>NaN</td>\n",
       "      <td>1.0</td>\n",
       "      <td>5.0</td>\n",
       "      <td>0.430737</td>\n",
       "      <td>True</td>\n",
       "    </tr>\n",
       "    <tr>\n",
       "      <th>9198</th>\n",
       "      <td>0_2020_Feb_07</td>\n",
       "      <td>Memory</td>\n",
       "      <td>7</td>\n",
       "      <td>NaN</td>\n",
       "      <td>NaN</td>\n",
       "      <td>NaN</td>\n",
       "      <td>NaN</td>\n",
       "      <td>NaN</td>\n",
       "      <td>NaN</td>\n",
       "      <td>sunabcuurugvxwparpk.jpg</td>\n",
       "      <td>...</td>\n",
       "      <td>NaN</td>\n",
       "      <td>NaN</td>\n",
       "      <td>NaN</td>\n",
       "      <td>NaN</td>\n",
       "      <td>NaN</td>\n",
       "      <td>NaN</td>\n",
       "      <td>2.0</td>\n",
       "      <td>5.0</td>\n",
       "      <td>0.569263</td>\n",
       "      <td>True</td>\n",
       "    </tr>\n",
       "    <tr>\n",
       "      <th>9199</th>\n",
       "      <td>0_2020_Feb_07</td>\n",
       "      <td>Memory</td>\n",
       "      <td>7</td>\n",
       "      <td>NaN</td>\n",
       "      <td>NaN</td>\n",
       "      <td>NaN</td>\n",
       "      <td>NaN</td>\n",
       "      <td>NaN</td>\n",
       "      <td>NaN</td>\n",
       "      <td>00768941205fa.jpg</td>\n",
       "      <td>...</td>\n",
       "      <td>NaN</td>\n",
       "      <td>NaN</td>\n",
       "      <td>NaN</td>\n",
       "      <td>NaN</td>\n",
       "      <td>NaN</td>\n",
       "      <td>NaN</td>\n",
       "      <td>1.0</td>\n",
       "      <td>5.0</td>\n",
       "      <td>0.430737</td>\n",
       "      <td>True</td>\n",
       "    </tr>\n",
       "  </tbody>\n",
       "</table>\n",
       "<p>8440 rows × 34 columns</p>\n",
       "</div>"
      ],
      "text/plain": [
       "             Subject Trial Type  Run Cued Composite Uncued Composite  \\\n",
       "0     56_2020_Feb_21     Memory    0            NaN              NaN   \n",
       "1     56_2020_Feb_21     Memory    0            NaN              NaN   \n",
       "2     56_2020_Feb_21     Memory    0            NaN              NaN   \n",
       "3     56_2020_Feb_21     Memory    0            NaN              NaN   \n",
       "4     56_2020_Feb_21     Memory    0            NaN              NaN   \n",
       "...              ...        ...  ...            ...              ...   \n",
       "9195   0_2020_Feb_07     Memory    7            NaN              NaN   \n",
       "9196   0_2020_Feb_07     Memory    7            NaN              NaN   \n",
       "9197   0_2020_Feb_07     Memory    7            NaN              NaN   \n",
       "9198   0_2020_Feb_07     Memory    7            NaN              NaN   \n",
       "9199   0_2020_Feb_07     Memory    7            NaN              NaN   \n",
       "\n",
       "     Cued Face Cued Place Uncued Face Uncued Place             Memory Image  \\\n",
       "0          NaN        NaN         NaN          NaN        00720960620fa.jpg   \n",
       "1          NaN        NaN         NaN          NaN  sunagufzbeteqdjxais.jpg   \n",
       "2          NaN        NaN         NaN          NaN  sunaecpkgfewqqreqwe.jpg   \n",
       "3          NaN        NaN         NaN          NaN        00146960620fb.jpg   \n",
       "4          NaN        NaN         NaN          NaN  sunbpflsdaxnddnwcqi.jpg   \n",
       "...        ...        ...         ...          ...                      ...   \n",
       "9195       NaN        NaN         NaN          NaN        00062931230fb.jpg   \n",
       "9196       NaN        NaN         NaN          NaN        00198940128fb.jpg   \n",
       "9197       NaN        NaN         NaN          NaN        00184940128fa.jpg   \n",
       "9198       NaN        NaN         NaN          NaN  sunabcuurugvxwparpk.jpg   \n",
       "9199       NaN        NaN         NaN          NaN        00768941205fa.jpg   \n",
       "\n",
       "      ... Attended category Attended location  Unattended  \\\n",
       "0     ...               NaN               NaN         NaN   \n",
       "1     ...               NaN               NaN         NaN   \n",
       "2     ...               NaN               NaN         NaN   \n",
       "3     ...               NaN               NaN         NaN   \n",
       "4     ...               NaN               NaN         NaN   \n",
       "...   ...               ...               ...         ...   \n",
       "9195  ...               NaN               NaN         NaN   \n",
       "9196  ...               NaN               NaN         NaN   \n",
       "9197  ...               NaN               NaN         NaN   \n",
       "9198  ...               NaN               NaN         NaN   \n",
       "9199  ...               NaN               NaN         NaN   \n",
       "\n",
       "      Location sequence length  Category sequence length  \\\n",
       "0                          NaN                       NaN   \n",
       "1                          NaN                       NaN   \n",
       "2                          NaN                       NaN   \n",
       "3                          NaN                       NaN   \n",
       "4                          NaN                       NaN   \n",
       "...                        ...                       ...   \n",
       "9195                       NaN                       NaN   \n",
       "9196                       NaN                       NaN   \n",
       "9197                       NaN                       NaN   \n",
       "9198                       NaN                       NaN   \n",
       "9199                       NaN                       NaN   \n",
       "\n",
       "      Same cue sequence length  Distance to nearest same-category cue  \\\n",
       "0                          NaN                                    1.0   \n",
       "1                          NaN                                    2.0   \n",
       "2                          NaN                                    2.0   \n",
       "3                          NaN                                    1.0   \n",
       "4                          NaN                                    2.0   \n",
       "...                        ...                                    ...   \n",
       "9195                       NaN                                    1.0   \n",
       "9196                       NaN                                    1.0   \n",
       "9197                       NaN                                    1.0   \n",
       "9198                       NaN                                    2.0   \n",
       "9199                       NaN                                    1.0   \n",
       "\n",
       "      Number of same-category cues  \\\n",
       "0                              5.0   \n",
       "1                              5.0   \n",
       "2                              5.0   \n",
       "3                              5.0   \n",
       "4                              5.0   \n",
       "...                            ...   \n",
       "9195                           5.0   \n",
       "9196                           5.0   \n",
       "9197                           5.0   \n",
       "9198                           5.0   \n",
       "9199                           5.0   \n",
       "\n",
       "      Recency-weighted number of same-category cues  \\\n",
       "0                                          0.519331   \n",
       "1                                          0.480669   \n",
       "2                                          0.480669   \n",
       "3                                          0.519331   \n",
       "4                                          0.480669   \n",
       "...                                             ...   \n",
       "9195                                       0.430737   \n",
       "9196                                       0.430737   \n",
       "9197                                       0.430737   \n",
       "9198                                       0.569263   \n",
       "9199                                       0.430737   \n",
       "\n",
       "      Category-matched recent cue  \n",
       "0                            True  \n",
       "1                            True  \n",
       "2                            True  \n",
       "3                            True  \n",
       "4                            True  \n",
       "...                           ...  \n",
       "9195                         True  \n",
       "9196                         True  \n",
       "9197                         True  \n",
       "9198                         True  \n",
       "9199                         True  \n",
       "\n",
       "[8440 rows x 34 columns]"
      ]
     },
     "execution_count": 8,
     "metadata": {},
     "output_type": "execute_result"
    }
   ],
   "source": [
    "variable"
   ]
  },
  {
   "cell_type": "code",
   "execution_count": 9,
   "metadata": {},
   "outputs": [
    {
     "data": {
      "text/html": [
       "<div>\n",
       "<style scoped>\n",
       "    .dataframe tbody tr th:only-of-type {\n",
       "        vertical-align: middle;\n",
       "    }\n",
       "\n",
       "    .dataframe tbody tr th {\n",
       "        vertical-align: top;\n",
       "    }\n",
       "\n",
       "    .dataframe thead th {\n",
       "        text-align: right;\n",
       "    }\n",
       "</style>\n",
       "<table border=\"1\" class=\"dataframe\">\n",
       "  <thead>\n",
       "    <tr style=\"text-align: right;\">\n",
       "      <th></th>\n",
       "      <th>Time</th>\n",
       "      <th>x</th>\n",
       "      <th>y</th>\n",
       "      <th>Pupil size</th>\n",
       "      <th>Subject</th>\n",
       "      <th>Run</th>\n",
       "    </tr>\n",
       "  </thead>\n",
       "  <tbody>\n",
       "    <tr>\n",
       "      <th>0</th>\n",
       "      <td>1.582318e+09</td>\n",
       "      <td>40.205193</td>\n",
       "      <td>20.145700</td>\n",
       "      <td>17.87420</td>\n",
       "      <td>56_2020_Feb_21</td>\n",
       "      <td>2</td>\n",
       "    </tr>\n",
       "    <tr>\n",
       "      <th>1</th>\n",
       "      <td>1.582318e+09</td>\n",
       "      <td>32.750250</td>\n",
       "      <td>13.563597</td>\n",
       "      <td>19.89075</td>\n",
       "      <td>56_2020_Feb_21</td>\n",
       "      <td>2</td>\n",
       "    </tr>\n",
       "    <tr>\n",
       "      <th>2</th>\n",
       "      <td>1.582318e+09</td>\n",
       "      <td>32.536114</td>\n",
       "      <td>13.896569</td>\n",
       "      <td>19.31620</td>\n",
       "      <td>56_2020_Feb_21</td>\n",
       "      <td>2</td>\n",
       "    </tr>\n",
       "    <tr>\n",
       "      <th>3</th>\n",
       "      <td>1.582318e+09</td>\n",
       "      <td>32.413656</td>\n",
       "      <td>14.081387</td>\n",
       "      <td>19.59020</td>\n",
       "      <td>56_2020_Feb_21</td>\n",
       "      <td>2</td>\n",
       "    </tr>\n",
       "    <tr>\n",
       "      <th>4</th>\n",
       "      <td>1.582318e+09</td>\n",
       "      <td>32.396244</td>\n",
       "      <td>14.127362</td>\n",
       "      <td>19.00590</td>\n",
       "      <td>56_2020_Feb_21</td>\n",
       "      <td>2</td>\n",
       "    </tr>\n",
       "    <tr>\n",
       "      <th>...</th>\n",
       "      <td>...</td>\n",
       "      <td>...</td>\n",
       "      <td>...</td>\n",
       "      <td>...</td>\n",
       "      <td>...</td>\n",
       "      <td>...</td>\n",
       "    </tr>\n",
       "    <tr>\n",
       "      <th>2778320</th>\n",
       "      <td>1.581100e+09</td>\n",
       "      <td>33.578999</td>\n",
       "      <td>8.434443</td>\n",
       "      <td>9.70405</td>\n",
       "      <td>0_2020_Feb_07</td>\n",
       "      <td>1</td>\n",
       "    </tr>\n",
       "    <tr>\n",
       "      <th>2778321</th>\n",
       "      <td>1.581100e+09</td>\n",
       "      <td>33.582716</td>\n",
       "      <td>8.580510</td>\n",
       "      <td>16.17045</td>\n",
       "      <td>0_2020_Feb_07</td>\n",
       "      <td>1</td>\n",
       "    </tr>\n",
       "    <tr>\n",
       "      <th>2778322</th>\n",
       "      <td>1.581100e+09</td>\n",
       "      <td>33.581367</td>\n",
       "      <td>8.714320</td>\n",
       "      <td>16.37225</td>\n",
       "      <td>0_2020_Feb_07</td>\n",
       "      <td>1</td>\n",
       "    </tr>\n",
       "    <tr>\n",
       "      <th>2778323</th>\n",
       "      <td>1.581100e+09</td>\n",
       "      <td>33.583046</td>\n",
       "      <td>8.801126</td>\n",
       "      <td>16.40765</td>\n",
       "      <td>0_2020_Feb_07</td>\n",
       "      <td>1</td>\n",
       "    </tr>\n",
       "    <tr>\n",
       "      <th>2778324</th>\n",
       "      <td>1.581100e+09</td>\n",
       "      <td>33.557150</td>\n",
       "      <td>8.969275</td>\n",
       "      <td>8.29270</td>\n",
       "      <td>0_2020_Feb_07</td>\n",
       "      <td>1</td>\n",
       "    </tr>\n",
       "  </tbody>\n",
       "</table>\n",
       "<p>2778325 rows × 6 columns</p>\n",
       "</div>"
      ],
      "text/plain": [
       "                 Time          x          y  Pupil size         Subject  Run\n",
       "0        1.582318e+09  40.205193  20.145700    17.87420  56_2020_Feb_21    2\n",
       "1        1.582318e+09  32.750250  13.563597    19.89075  56_2020_Feb_21    2\n",
       "2        1.582318e+09  32.536114  13.896569    19.31620  56_2020_Feb_21    2\n",
       "3        1.582318e+09  32.413656  14.081387    19.59020  56_2020_Feb_21    2\n",
       "4        1.582318e+09  32.396244  14.127362    19.00590  56_2020_Feb_21    2\n",
       "...               ...        ...        ...         ...             ...  ...\n",
       "2778320  1.581100e+09  33.578999   8.434443     9.70405   0_2020_Feb_07    1\n",
       "2778321  1.581100e+09  33.582716   8.580510    16.17045   0_2020_Feb_07    1\n",
       "2778322  1.581100e+09  33.581367   8.714320    16.37225   0_2020_Feb_07    1\n",
       "2778323  1.581100e+09  33.583046   8.801126    16.40765   0_2020_Feb_07    1\n",
       "2778324  1.581100e+09  33.557150   8.969275     8.29270   0_2020_Feb_07    1\n",
       "\n",
       "[2778325 rows x 6 columns]"
      ]
     },
     "execution_count": 9,
     "metadata": {},
     "output_type": "execute_result"
    }
   ],
   "source": [
    "variable_gaze"
   ]
  },
  {
   "cell_type": "markdown",
   "metadata": {},
   "source": [
    "# Figure S1"
   ]
  },
  {
   "cell_type": "code",
   "execution_count": 10,
   "metadata": {},
   "outputs": [
    {
     "data": {
      "image/png": "[encoded data removed]",
      "text/plain": [
       "<Figure size 720x216 with 2 Axes>"
      ]
     },
     "metadata": {
      "needs_background": "light"
     },
     "output_type": "display_data"
    }
   ],
   "source": [
    "fig, ax = plt.subplots(1, 2, figsize=(10, 3), sharex=True, sharey=True)\n",
    "\n",
    "sns.histplot(sustained_gaze, x='x', y='y', cbar=False, stat='probability', cmap='gray_r', bins=(120, 78), ax=ax[0], vmin=0, vmax=0.03)\n",
    "ax[0].text(59.8 / 2, 33.6 / 2, '+', ha='center', va='center', fontsize=10, color='red', fontweight='bold')\n",
    "\n",
    "im_len = 6.7 * (52.96 / 59.8)\n",
    "y = (33.6 - im_len) / 2\n",
    "x1 = (59.8 / 2) - 4.5 - im_len\n",
    "x2 = (59.8 / 2) + 4.5\n",
    "\n",
    "images = [Rectangle((x1, y), im_len, im_len, fill=False, color='red', lw=1),\n",
    "          Rectangle((x2, y), im_len, im_len, fill=False, color='red', lw=1)]\n",
    "pc = PatchCollection(images, match_original=True)\n",
    "ax[0].add_collection(pc)\n",
    "\n",
    "ax[0].set_xlabel('x (cm)', fontsize=12)\n",
    "ax[0].set_ylabel('y (cm)', fontsize=12)\n",
    "ax[0].set_title('Sustained', fontsize=12)\n",
    "\n",
    "sns.histplot(variable_gaze, x='x', y='y', cbar=False, stat='probability', cmap='gray_r', bins=(120, 78), ax=ax[1], vmin=0, vmax=0.03)\n",
    "ax[1].text(59.8 / 2, 33.6 / 2, '+', ha='center', va='center', fontsize=10, color='red', fontweight='bold')\n",
    "pc = PatchCollection(images, match_original=True)\n",
    "ax[1].add_collection(pc)\n",
    "\n",
    "ax[1].set_xlim(0, 59.8)\n",
    "ax[1].set_ylim(0, 33.6)\n",
    "ax[1].set_xlabel('x (cm)', fontsize=12)\n",
    "ax[1].set_ylabel('y (cm)', fontsize=12)\n",
    "ax[1].set_title('Variable', fontsize=12)\n",
    "\n",
    "plt.subplots_adjust(wspace=0.05)\n",
    "fig.savefig(os.path.join(figdir, 'gaze_distribution.pdf'), bbox_inches='tight')"
   ]
  },
  {
   "cell_type": "code",
   "execution_count": 11,
   "metadata": {},
   "outputs": [
    {
     "data": {
      "image/png": "[encoded data removed]",
      "text/plain": [
       "<Figure size 14.4x144 with 1 Axes>"
      ]
     },
     "metadata": {
      "needs_background": "light"
     },
     "output_type": "display_data"
    }
   ],
   "source": [
    "plot_colorbar('gray_r', 'gray_r')"
   ]
  },
  {
   "cell_type": "code",
   "execution_count": 12,
   "metadata": {},
   "outputs": [],
   "source": [
    "def summarize_intersections(df, category='Attended intersection'):\n",
    "    df = df.query('`Trial Type` == \"Presentation\"').fillna(False)\n",
    "    return df[['Subject', 'Run', category]].groupby(['Subject', 'Run']).mean().reset_index().rename({category: 'Intersection'}, axis=1)"
   ]
  },
  {
   "cell_type": "code",
   "execution_count": 13,
   "metadata": {},
   "outputs": [],
   "source": [
    "intersection_type = 'Attended intersection'\n",
    "\n",
    "def plot_intersections(intersection_type, fname=None):\n",
    "    fig, ax = plt.subplots(2, 2, figsize=(8, 6), sharey=True)\n",
    "    # sustained\n",
    "    df = summarize_intersections(sustained_unfiltered, category=intersection_type)\n",
    "\n",
    "    with warnings.catch_warnings():\n",
    "        warnings.simplefilter(\"ignore\")\n",
    "        sns.barplot(data=df, x='Run', y='Intersection', ax=ax[0, 0], color='gray')\n",
    "    ax[0, 0].set_title('Sustained', fontsize=12);\n",
    "    ax[0, 0].set_ylabel('Proportion of trials', fontsize=12);\n",
    "    ax[0, 0].set_xlabel('Trial block', fontsize=12);\n",
    "    sns.despine(ax=ax[0, 0], top=True, right=True)\n",
    "\n",
    "    with warnings.catch_warnings():\n",
    "        warnings.simplefilter(\"ignore\")\n",
    "        sns.barplot(data=df, x='Subject', y='Intersection', ax=ax[1, 0], color='gray')\n",
    "    ax[1, 0].set_ylabel('Proportion of trials', fontsize=12);\n",
    "    ax[1, 0].set_xlabel('Participant', fontsize=12);\n",
    "    ax[1, 0].set_xticklabels([i if i % 5 == 0 else '' for i in range(len(df['Subject'].unique()))]);\n",
    "    sns.despine(ax=ax[1, 0], top=True, right=True)\n",
    "\n",
    "    # variable\n",
    "    df = summarize_intersections(variable_unfiltered, category=intersection_type)\n",
    "\n",
    "    with warnings.catch_warnings():\n",
    "        warnings.simplefilter(\"ignore\")\n",
    "        sns.barplot(data=df, x='Run', y='Intersection', ax=ax[0, 1], color='gray')\n",
    "    ax[0, 1].set_title('Variable', fontsize=12);\n",
    "    ax[0, 1].set_xlabel('Trial block', fontsize=12);\n",
    "    ax[0, 1].set_ylabel('');\n",
    "    sns.despine(ax=ax[0, 1], top=True, right=True)\n",
    "\n",
    "    with warnings.catch_warnings():\n",
    "        warnings.simplefilter(\"ignore\")\n",
    "        sns.barplot(data=df, x='Subject', y='Intersection', ax=ax[1, 1], color='gray')\n",
    "    ax[1, 1].set_ylabel('');\n",
    "    ax[1, 1].set_xlabel('Participant', fontsize=12);\n",
    "    ax[1, 1].set_xticklabels([i if i % 5 == 0 else '' for i in range(len(df['Subject'].unique()))]);\n",
    "    sns.despine(ax=ax[1, 1], top=True, right=True)\n",
    "\n",
    "    ax[0, 0].set_ylim(0, 1.1)\n",
    "    plt.tight_layout()\n",
    "\n",
    "    if fname is not None:\n",
    "        fig.savefig(os.path.join(figdir, fname + '.pdf'), bbox_inches='tight')\n",
    "    \n",
    "    return fig"
   ]
  },
  {
   "cell_type": "markdown",
   "metadata": {},
   "source": [
    "# Figure S2"
   ]
  },
  {
   "cell_type": "code",
   "execution_count": 14,
   "metadata": {},
   "outputs": [
    {
     "data": {
      "image/png": "[encoded data removed]",
      "text/plain": [
       "<Figure size 576x432 with 4 Axes>"
      ]
     },
     "metadata": {
      "needs_background": "light"
     },
     "output_type": "display_data"
    }
   ],
   "source": [
    "plot_intersections(intersection_type, intersection_type.replace(' ', '_'));"
   ]
  },
  {
   "cell_type": "code",
   "execution_count": 15,
   "metadata": {},
   "outputs": [],
   "source": [
    "def plot_attention(df, fname=None, palette=attention_colors, ylim=[1.6, 3], **kwargs):\n",
    "    df = df.copy()\n",
    "\n",
    "    fig = plt.figure(figsize=(4, 3))\n",
    "    ax = plt.gca()\n",
    "\n",
    "    order = ['Attended', 'Attended category', 'Attended location', 'Unattended', 'Novel']\n",
    "\n",
    "    id_vars = ['Subject', 'Attention', 'Run']\n",
    "    if 'hue' in kwargs:\n",
    "        id_vars.append(kwargs['hue'])\n",
    "    \n",
    "    sns.barplot(data=df.query('`Trial Type` == \"Memory\"')[[*id_vars, 'Familiarity Rating']].groupby(id_vars).mean().reset_index(), \n",
    "                   x='Attention', y='Familiarity Rating', order=['Attended', 'Attended category', 'Attended location', 'Unattended', 'Novel'],  palette=palette, **kwargs);\n",
    "    ax.set_xlabel('Attention level', fontsize=12);\n",
    "    ax.set_ylabel('Familiarity rating', fontsize=12);\n",
    "    ax.set_xticklabels(['' for _ in range(len(ax.get_xticklabels()))]);\n",
    "    ax.set_ylim(ylim)\n",
    "\n",
    "    if 'hue' in kwargs:                \n",
    "        n = len(df[kwargs['hue']].unique()) - 1  # not sure why this correction is needed...\n",
    "        alphas = np.linspace(1, 0, n + 1)[:-1]\n",
    "\n",
    "        for i in range(n):\n",
    "            for j, bar in enumerate(ax.containers[i]):\n",
    "                bar.set_color(palette[order[j]])\n",
    "                bar.set_alpha(alphas[i])\n",
    "\n",
    "    sns.despine(top=True, right=True)\n",
    "\n",
    "    legend = ax.get_legend()\n",
    "    if legend is not None:\n",
    "        legend.remove()\n",
    "\n",
    "    if fname is not None:\n",
    "        fig.savefig(os.path.join(figdir, fname + '.pdf'), bbox_inches='tight')\n",
    "    \n",
    "    return fig"
   ]
  },
  {
   "cell_type": "markdown",
   "metadata": {},
   "source": [
    "# Figures 2 and S3"
   ]
  },
  {
   "cell_type": "code",
   "execution_count": 16,
   "metadata": {},
   "outputs": [
    {
     "data": {
      "image/png": "[encoded data removed]",
      "text/plain": [
       "<Figure size 288x216 with 1 Axes>"
      ]
     },
     "metadata": {
      "needs_background": "light"
     },
     "output_type": "display_data"
    }
   ],
   "source": [
    "plot_attention(sustained, fname='sustained_attention');"
   ]
  },
  {
   "cell_type": "code",
   "execution_count": 17,
   "metadata": {},
   "outputs": [
    {
     "data": {
      "image/png": "[encoded data removed]",
      "text/plain": [
       "<Figure size 288x216 with 1 Axes>"
      ]
     },
     "metadata": {
      "needs_background": "light"
     },
     "output_type": "display_data"
    }
   ],
   "source": [
    "plot_attention(sustained, fname='sustained_attention_by_category', hue='Category');"
   ]
  },
  {
   "cell_type": "code",
   "execution_count": 18,
   "metadata": {},
   "outputs": [
    {
     "data": {
      "image/png": "[encoded data removed]",
      "text/plain": [
       "<Figure size 288x216 with 1 Axes>"
      ]
     },
     "metadata": {
      "needs_background": "light"
     },
     "output_type": "display_data"
    }
   ],
   "source": [
    "plot_attention(variable, fname='variable_attention');"
   ]
  },
  {
   "cell_type": "code",
   "execution_count": 19,
   "metadata": {},
   "outputs": [
    {
     "data": {
      "image/png": "[encoded data removed]",
      "text/plain": [
       "<Figure size 288x216 with 1 Axes>"
      ]
     },
     "metadata": {
      "needs_background": "light"
     },
     "output_type": "display_data"
    }
   ],
   "source": [
    "plot_attention(variable, fname='variable_attention_by_category', hue='Category');"
   ]
  },
  {
   "cell_type": "markdown",
   "metadata": {},
   "source": [
    "# Stats!\n",
    "\n",
    "Within-condition comparisons by attention level"
   ]
  },
  {
   "cell_type": "code",
   "execution_count": 20,
   "metadata": {},
   "outputs": [],
   "source": [
    "def ttests_by_attention_level(df, category=None):\n",
    "    def print_ttest_results(results, label1, label2):\n",
    "        if results.pvalue < 0.001:\n",
    "            p_string = 'p < 0.001'\n",
    "        else:\n",
    "            p_string = f'p = {results.pvalue:.3f}'\n",
    "\n",
    "        print(f'{label1} vs. {label2}: $t({results.df}) = {results.statistic:.3f}, {p_string}$')\n",
    "\n",
    "    if category is not None:\n",
    "        if type(category) is str:\n",
    "            category = [category]\n",
    "        for c in category:\n",
    "            print(f'\\nCategory: {c}')\n",
    "            ttests_by_attention_level(df.query('Category == @c'))\n",
    "\n",
    "        print('\\n\\Within-level tests:')\n",
    "        df = df.groupby(['Subject', 'Attention', 'Category']).mean(numeric_only=True)['Familiarity Rating'].reset_index().pivot(index=['Subject', 'Category'], columns='Attention', values='Familiarity Rating').reset_index().set_index('Subject')\n",
    "\n",
    "        for c in df.columns[1:]:\n",
    "            for i, c1 in enumerate(category):\n",
    "                for c2 in category[i + 1:]:\n",
    "                    print_ttest_results(ttest_rel(df.loc[df['Category'] == c1, c], df.loc[df['Category'] == c2, c]), f'{c} {c1}', c2)\n",
    "\n",
    "        return\n",
    "    \n",
    "    # re-organize dataframe-- rows: subjects; columns: attention levels\n",
    "    df = df.groupby(['Subject', 'Attention']).mean(numeric_only=True)['Familiarity Rating'].reset_index().pivot(index='Subject', columns='Attention', values='Familiarity Rating')\n",
    "\n",
    "    # run t-tests\n",
    "    for i, c1 in enumerate(df.columns):\n",
    "        for c2 in df.columns[i + 1:]:\n",
    "            print_ttest_results(ttest_rel(df[c1], df[c2]), c1, c2)            \n",
    "    \n",
    "    print('\\n')\n",
    "\n",
    "    # old vs. new\n",
    "    print_ttest_results(ttest_rel(df[['Attended', 'Attended category', 'Attended location', 'Unattended']].mean(axis=1), df['Novel']), 'Old', 'New')\n",
    "\n",
    "    # location benefit\n",
    "    print_ttest_results(ttest_rel(df[['Attended', 'Attended location']].mean(axis=1), df['Novel']), 'Attended + Attended location', 'Novel')\n",
    "\n",
    "    # category benefit\n",
    "    print_ttest_results(ttest_rel(df[['Attended', 'Attended category']].mean(axis=1), df['Novel']), 'Attended + Attended category', 'Novel')"
   ]
  },
  {
   "cell_type": "code",
   "execution_count": 21,
   "metadata": {},
   "outputs": [
    {
     "name": "stdout",
     "output_type": "stream",
     "text": [
      "Attended vs. Attended category: $t(29) = 6.893, p < 0.001$\n",
      "Attended vs. Attended location: $t(29) = 6.710, p < 0.001$\n",
      "Attended vs. Novel: $t(29) = 10.259, p < 0.001$\n",
      "Attended vs. Unattended: $t(29) = 8.470, p < 0.001$\n",
      "Attended category vs. Attended location: $t(29) = 2.543, p = 0.017$\n",
      "Attended category vs. Novel: $t(29) = 6.205, p < 0.001$\n",
      "Attended category vs. Unattended: $t(29) = 4.893, p < 0.001$\n",
      "Attended location vs. Novel: $t(29) = 0.165, p = 0.870$\n",
      "Attended location vs. Unattended: $t(29) = 2.277, p = 0.030$\n",
      "Novel vs. Unattended: $t(29) = 1.977, p = 0.058$\n",
      "\n",
      "\n",
      "Old vs. New: $t(29) = 8.856, p < 0.001$\n",
      "Attended + Attended location vs. Novel: $t(29) = 8.917, p < 0.001$\n",
      "Attended + Attended category vs. Novel: $t(29) = 10.578, p < 0.001$\n"
     ]
    }
   ],
   "source": [
    "ttests_by_attention_level(sustained)"
   ]
  },
  {
   "cell_type": "code",
   "execution_count": 22,
   "metadata": {},
   "outputs": [
    {
     "name": "stdout",
     "output_type": "stream",
     "text": [
      "\n",
      "Category: Face\n",
      "Attended vs. Attended category: $t(29) = 3.366, p = 0.002$\n",
      "Attended vs. Attended location: $t(29) = 5.886, p < 0.001$\n",
      "Attended vs. Novel: $t(29) = 5.987, p < 0.001$\n",
      "Attended vs. Unattended: $t(29) = 6.628, p < 0.001$\n",
      "Attended category vs. Attended location: $t(29) = 4.469, p < 0.001$\n",
      "Attended category vs. Novel: $t(29) = 4.733, p < 0.001$\n",
      "Attended category vs. Unattended: $t(29) = 5.617, p < 0.001$\n",
      "Attended location vs. Novel: $t(29) = -2.795, p = 0.009$\n",
      "Attended location vs. Unattended: $t(29) = -0.236, p = 0.815$\n",
      "Novel vs. Unattended: $t(29) = 2.459, p = 0.020$\n",
      "\n",
      "\n",
      "Old vs. New: $t(29) = 2.897, p = 0.007$\n",
      "Attended + Attended location vs. Novel: $t(29) = 3.699, p < 0.001$\n",
      "Attended + Attended category vs. Novel: $t(29) = 6.236, p < 0.001$\n",
      "\n",
      "Category: Place\n",
      "Attended vs. Attended category: $t(29) = 7.567, p < 0.001$\n",
      "Attended vs. Attended location: $t(29) = 6.429, p < 0.001$\n",
      "Attended vs. Novel: $t(29) = 11.487, p < 0.001$\n",
      "Attended vs. Unattended: $t(29) = 8.233, p < 0.001$\n",
      "Attended category vs. Attended location: $t(29) = 0.771, p = 0.447$\n",
      "Attended category vs. Novel: $t(29) = 5.795, p < 0.001$\n",
      "Attended category vs. Unattended: $t(29) = 3.404, p = 0.002$\n",
      "Attended location vs. Novel: $t(29) = 2.107, p = 0.044$\n",
      "Attended location vs. Unattended: $t(29) = 3.695, p < 0.001$\n",
      "Novel vs. Unattended: $t(29) = 0.623, p = 0.538$\n",
      "\n",
      "\n",
      "Old vs. New: $t(29) = 10.341, p < 0.001$\n",
      "Attended + Attended location vs. Novel: $t(29) = 10.183, p < 0.001$\n",
      "Attended + Attended category vs. Novel: $t(29) = 12.746, p < 0.001$\n",
      "\n",
      "\\Within-level tests:\n",
      "Attended Face vs. Place: $t(29) = -5.189, p < 0.001$\n",
      "Attended category Face vs. Place: $t(29) = 0.130, p = 0.897$\n",
      "Attended location Face vs. Place: $t(29) = -4.719, p < 0.001$\n",
      "Novel Face vs. Place: $t(29) = 0.476, p = 0.638$\n",
      "Unattended Face vs. Place: $t(29) = -0.964, p = 0.343$\n"
     ]
    }
   ],
   "source": [
    "ttests_by_attention_level(sustained, category=['Face', 'Place'])"
   ]
  },
  {
   "cell_type": "code",
   "execution_count": 23,
   "metadata": {},
   "outputs": [
    {
     "name": "stdout",
     "output_type": "stream",
     "text": [
      "Attended vs. Attended category: $t(22) = 6.938, p < 0.001$\n",
      "Attended vs. Attended location: $t(22) = 7.633, p < 0.001$\n",
      "Attended vs. Novel: $t(22) = 7.874, p < 0.001$\n",
      "Attended vs. Unattended: $t(22) = 7.256, p < 0.001$\n",
      "Attended category vs. Attended location: $t(22) = -2.787, p = 0.011$\n",
      "Attended category vs. Novel: $t(22) = 1.042, p = 0.309$\n",
      "Attended category vs. Unattended: $t(22) = -0.981, p = 0.337$\n",
      "Attended location vs. Novel: $t(22) = 3.026, p = 0.006$\n",
      "Attended location vs. Unattended: $t(22) = 2.503, p = 0.020$\n",
      "Novel vs. Unattended: $t(22) = -1.833, p = 0.080$\n",
      "\n",
      "\n",
      "Old vs. New: $t(22) = 5.144, p < 0.001$\n",
      "Attended + Attended location vs. Novel: $t(22) = 5.726, p < 0.001$\n",
      "Attended + Attended category vs. Novel: $t(22) = 7.354, p < 0.001$\n"
     ]
    }
   ],
   "source": [
    "ttests_by_attention_level(variable)"
   ]
  },
  {
   "cell_type": "code",
   "execution_count": 24,
   "metadata": {},
   "outputs": [
    {
     "name": "stdout",
     "output_type": "stream",
     "text": [
      "\n",
      "Category: Face\n",
      "Attended vs. Attended category: $t(22) = 4.773, p < 0.001$\n",
      "Attended vs. Attended location: $t(22) = 6.835, p < 0.001$\n",
      "Attended vs. Novel: $t(22) = 5.132, p < 0.001$\n",
      "Attended vs. Unattended: $t(22) = 5.624, p < 0.001$\n",
      "Attended category vs. Attended location: $t(22) = -1.546, p = 0.136$\n",
      "Attended category vs. Novel: $t(22) = 0.316, p = 0.755$\n",
      "Attended category vs. Unattended: $t(22) = -0.213, p = 0.833$\n",
      "Attended location vs. Novel: $t(22) = 1.612, p = 0.121$\n",
      "Attended location vs. Unattended: $t(22) = 1.631, p = 0.117$\n",
      "Novel vs. Unattended: $t(22) = -0.503, p = 0.620$\n",
      "\n",
      "\n",
      "Old vs. New: $t(22) = 2.865, p = 0.009$\n",
      "Attended + Attended location vs. Novel: $t(22) = 3.697, p = 0.001$\n",
      "Attended + Attended category vs. Novel: $t(22) = 4.330, p < 0.001$\n",
      "\n",
      "Category: Place\n",
      "Attended vs. Attended category: $t(22) = 6.205, p < 0.001$\n",
      "Attended vs. Attended location: $t(22) = 4.277, p < 0.001$\n",
      "Attended vs. Novel: $t(22) = 7.628, p < 0.001$\n",
      "Attended vs. Unattended: $t(22) = 6.564, p < 0.001$\n",
      "Attended category vs. Attended location: $t(22) = -3.321, p = 0.003$\n",
      "Attended category vs. Novel: $t(22) = 1.628, p = 0.118$\n",
      "Attended category vs. Unattended: $t(22) = -0.828, p = 0.417$\n",
      "Attended location vs. Novel: $t(22) = 3.719, p = 0.001$\n",
      "Attended location vs. Unattended: $t(22) = 2.695, p = 0.013$\n",
      "Novel vs. Unattended: $t(22) = -2.582, p = 0.017$\n",
      "\n",
      "\n",
      "Old vs. New: $t(22) = 6.269, p < 0.001$\n",
      "Attended + Attended location vs. Novel: $t(22) = 6.396, p < 0.001$\n",
      "Attended + Attended category vs. Novel: $t(22) = 7.841, p < 0.001$\n",
      "\n",
      "\\Within-level tests:\n",
      "Attended Face vs. Place: $t(22) = -4.043, p < 0.001$\n",
      "Attended category Face vs. Place: $t(22) = -1.581, p = 0.128$\n",
      "Attended location Face vs. Place: $t(22) = -4.368, p < 0.001$\n",
      "Novel Face vs. Place: $t(22) = -1.093, p = 0.286$\n",
      "Unattended Face vs. Place: $t(22) = -2.468, p = 0.022$\n"
     ]
    }
   ],
   "source": [
    "ttests_by_attention_level(variable, category=['Face', 'Place'])"
   ]
  },
  {
   "cell_type": "markdown",
   "metadata": {},
   "source": [
    "Across-condition comparisons"
   ]
  },
  {
   "cell_type": "code",
   "execution_count": 25,
   "metadata": {},
   "outputs": [],
   "source": [
    "def across_condition_ttests_by_attention_level(df1, df2, category=None, names=['Sustained', 'Variable']):\n",
    "    def print_ttest_results(a, b, prefix):\n",
    "        results = ttest_ind(a, b)\n",
    "        if results.pvalue < 0.001:\n",
    "            p_string = 'p < 0.001'\n",
    "        else:\n",
    "            p_string = f'p = {results.pvalue:.3f}'\n",
    "\n",
    "        df = len(a) + len(b) - 2\n",
    "        label1 = f'{prefix} -- {names[0]}'\n",
    "        label2 = names[1]\n",
    "        print(f'{label1} vs. {label2}: $t({df}) = {results.statistic:.3f}, {p_string}$')\n",
    "\n",
    "    if category is not None:\n",
    "        if type(category) is str:\n",
    "            category = [category]\n",
    "        for c in category:\n",
    "            print(f'\\nCategory: {c}')\n",
    "            across_condition_ttests_by_attention_level(df1.query('Category == @c'), df2.query('Category == @c'), names=names)\n",
    "        \n",
    "        print('\\nWithin-level tests:')\n",
    "        df1 = df1.groupby(['Subject', 'Attention', 'Category']).mean(numeric_only=True)['Familiarity Rating'].reset_index().pivot(index=['Subject', 'Category'], columns='Attention', values='Familiarity Rating').reset_index().set_index('Subject')\n",
    "        df2 = df2.groupby(['Subject', 'Attention', 'Category']).mean(numeric_only=True)['Familiarity Rating'].reset_index().pivot(index=['Subject', 'Category'], columns='Attention', values='Familiarity Rating').reset_index().set_index('Subject')\n",
    "\n",
    "        for attention in df1.columns[1:]:\n",
    "            for cat in category:\n",
    "                print_ttest_results(df1.loc[df1['Category'] == cat, attention], df2.loc[df2['Category'] == cat, attention], f'{attention} {cat}')\n",
    "\n",
    "        return\n",
    "    \n",
    "    # re-organize dataframe-- rows: subjects; columns: attention levels\n",
    "    df1 = df1.groupby(['Subject', 'Attention']).mean(numeric_only=True)['Familiarity Rating'].reset_index().pivot(index='Subject', columns='Attention', values='Familiarity Rating')\n",
    "    df2 = df2.groupby(['Subject', 'Attention']).mean(numeric_only=True)['Familiarity Rating'].reset_index().pivot(index='Subject', columns='Attention', values='Familiarity Rating')\n",
    "\n",
    "    # run t-tests\n",
    "    for attention in df1.columns:\n",
    "        print_ttest_results(df1[attention], df2[attention], attention)\n",
    "    \n",
    "    print('\\n')\n",
    "\n",
    "    # old\n",
    "    print_ttest_results(df1[['Attended', 'Attended category', 'Attended location', 'Unattended']].mean(axis=1), df2[['Attended', 'Attended category', 'Attended location', 'Unattended']].mean(axis=1), 'Old')\n",
    "\n",
    "    # location benefit\n",
    "    print_ttest_results(df1[['Attended', 'Attended location']].mean(axis=1), df2[['Attended', 'Attended location']].mean(axis=1), 'Attended + Attended location')\n",
    "\n",
    "    # category benefit\n",
    "    print_ttest_results(df1[['Attended', 'Attended category']].mean(axis=1), df2[['Attended', 'Attended category']].mean(axis=1), 'Attended + Attended category')"
   ]
  },
  {
   "cell_type": "code",
   "execution_count": 26,
   "metadata": {},
   "outputs": [
    {
     "name": "stdout",
     "output_type": "stream",
     "text": [
      "Attended -- Sustained vs. Variable: $t(51) = -0.649, p = 0.519$\n",
      "Attended category -- Sustained vs. Variable: $t(51) = 1.163, p = 0.250$\n",
      "Attended location -- Sustained vs. Variable: $t(51) = -2.174, p = 0.034$\n",
      "Novel -- Sustained vs. Variable: $t(51) = -0.435, p = 0.665$\n",
      "Unattended -- Sustained vs. Variable: $t(51) = -1.600, p = 0.116$\n",
      "\n",
      "\n",
      "Old -- Sustained vs. Variable: $t(51) = -1.058, p = 0.295$\n",
      "Attended + Attended location -- Sustained vs. Variable: $t(51) = -1.723, p = 0.091$\n",
      "Attended + Attended category -- Sustained vs. Variable: $t(51) = 0.350, p = 0.728$\n"
     ]
    }
   ],
   "source": [
    "across_condition_ttests_by_attention_level(sustained, variable)"
   ]
  },
  {
   "cell_type": "code",
   "execution_count": 27,
   "metadata": {},
   "outputs": [
    {
     "name": "stdout",
     "output_type": "stream",
     "text": [
      "\n",
      "Category: Face\n",
      "Attended -- Sustained vs. Variable: $t(51) = -0.140, p = 0.889$\n",
      "Attended category -- Sustained vs. Variable: $t(51) = 1.573, p = 0.122$\n",
      "Attended location -- Sustained vs. Variable: $t(51) = -1.796, p = 0.078$\n",
      "Novel -- Sustained vs. Variable: $t(51) = 0.015, p = 0.988$\n",
      "Unattended -- Sustained vs. Variable: $t(51) = -1.125, p = 0.266$\n",
      "\n",
      "\n",
      "Old -- Sustained vs. Variable: $t(51) = -0.444, p = 0.659$\n",
      "Attended + Attended location -- Sustained vs. Variable: $t(51) = -1.036, p = 0.305$\n",
      "Attended + Attended category -- Sustained vs. Variable: $t(51) = 0.714, p = 0.478$\n",
      "\n",
      "Category: Place\n",
      "Attended -- Sustained vs. Variable: $t(51) = -0.729, p = 0.469$\n",
      "Attended category -- Sustained vs. Variable: $t(51) = 0.434, p = 0.666$\n",
      "Attended location -- Sustained vs. Variable: $t(51) = -2.379, p = 0.021$\n",
      "Novel -- Sustained vs. Variable: $t(51) = -0.883, p = 0.381$\n",
      "Unattended -- Sustained vs. Variable: $t(51) = -1.747, p = 0.087$\n",
      "\n",
      "\n",
      "Old -- Sustained vs. Variable: $t(51) = -1.562, p = 0.125$\n",
      "Attended + Attended location -- Sustained vs. Variable: $t(51) = -2.081, p = 0.042$\n",
      "Attended + Attended category -- Sustained vs. Variable: $t(51) = -0.148, p = 0.883$\n",
      "\n",
      "Within-level tests:\n",
      "Attended Face -- Sustained vs. Variable: $t(51) = -0.140, p = 0.889$\n",
      "Attended Place -- Sustained vs. Variable: $t(51) = -0.729, p = 0.469$\n",
      "Attended category Face -- Sustained vs. Variable: $t(51) = 1.573, p = 0.122$\n",
      "Attended category Place -- Sustained vs. Variable: $t(51) = 0.434, p = 0.666$\n",
      "Attended location Face -- Sustained vs. Variable: $t(51) = -1.796, p = 0.078$\n",
      "Attended location Place -- Sustained vs. Variable: $t(51) = -2.379, p = 0.021$\n",
      "Novel Face -- Sustained vs. Variable: $t(51) = 0.015, p = 0.988$\n",
      "Novel Place -- Sustained vs. Variable: $t(51) = -0.883, p = 0.381$\n",
      "Unattended Face -- Sustained vs. Variable: $t(51) = -1.125, p = 0.266$\n",
      "Unattended Place -- Sustained vs. Variable: $t(51) = -1.747, p = 0.087$\n"
     ]
    }
   ],
   "source": [
    "across_condition_ttests_by_attention_level(sustained, variable, category=['Face', 'Place'])"
   ]
  },
  {
   "attachments": {},
   "cell_type": "markdown",
   "metadata": {},
   "source": [
    "Face vs. place differences by condition"
   ]
  },
  {
   "cell_type": "code",
   "execution_count": 28,
   "metadata": {},
   "outputs": [],
   "source": [
    "def face_vs_place_ttest(df):\n",
    "    df = df.groupby(['Subject', 'Category']).mean(numeric_only=True)['Familiarity Rating'].reset_index().pivot(index='Subject', columns='Category', values='Familiarity Rating')\n",
    "    results = ttest_rel(df['Place'], df['Face'])\n",
    "    if results.pvalue < 0.001:\n",
    "        p_string = 'p < 0.001'\n",
    "    else:\n",
    "        p_string = f'p = {results.pvalue:.3f}'\n",
    "    print(f'$t({results.df}) = {results.statistic:.3f}, {p_string}$')"
   ]
  },
  {
   "cell_type": "code",
   "execution_count": 29,
   "metadata": {},
   "outputs": [
    {
     "name": "stdout",
     "output_type": "stream",
     "text": [
      "Sustained condition: place vs. face familiarity\n",
      "$t(29) = 1.746, p = 0.091$\n"
     ]
    }
   ],
   "source": [
    "print('Sustained condition: place vs. face familiarity')\n",
    "face_vs_place_ttest(sustained)"
   ]
  },
  {
   "cell_type": "code",
   "execution_count": 30,
   "metadata": {},
   "outputs": [
    {
     "name": "stdout",
     "output_type": "stream",
     "text": [
      "Variable condition: place vs. face familiarity\n",
      "$t(22) = 2.660, p = 0.014$\n"
     ]
    }
   ],
   "source": [
    "print('Variable condition: place vs. face familiarity')\n",
    "face_vs_place_ttest(variable)"
   ]
  },
  {
   "cell_type": "markdown",
   "metadata": {},
   "source": [
    "## Serial position effects during *encoding*\n",
    "\n",
    "Plot familiarity as a function of presentation position:\n",
    "  - $x$-axis: study position\n",
    "  - $y$-axis: familiarity (at recall)\n",
    "  - color: attention level"
   ]
  },
  {
   "cell_type": "code",
   "execution_count": 31,
   "metadata": {},
   "outputs": [],
   "source": [
    "def encoding_df(df):\n",
    "    df = df.query('`Trial Type` == \"Presentation\"')[['Subject', 'Run', 'Order', 'Attended', 'Attended category', 'Attended location', 'Unattended', 'Cued Location', 'Cued Category']]\n",
    "    df = df.drop('Run', axis=1).groupby(['Subject', 'Order']).mean(numeric_only=True).reset_index()\n",
    "    return df.melt(id_vars=['Subject', 'Order'], value_vars=['Attended', 'Attended category', 'Attended location', 'Unattended'], var_name='Attention', value_name='Familiarity Rating')"
   ]
  },
  {
   "cell_type": "markdown",
   "metadata": {},
   "source": [
    "# Figure 4A and B"
   ]
  },
  {
   "cell_type": "code",
   "execution_count": 32,
   "metadata": {},
   "outputs": [
    {
     "data": {
      "image/png": "[encoded data removed]",
      "text/plain": [
       "<Figure size 504x216 with 2 Axes>"
      ]
     },
     "metadata": {
      "needs_background": "light"
     },
     "output_type": "display_data"
    }
   ],
   "source": [
    "fig, ax = plt.subplots(nrows=1, ncols=2, figsize=(7, 3), sharey=True, sharex=True)\n",
    "sns.lineplot(encoding_df(sustained), x='Order', y='Familiarity Rating', hue='Attention', ax=ax[0], legend=False, palette=attention_colors)\n",
    "ax[0].set_xlabel('Presentation position', fontsize=12)\n",
    "ax[0].set_ylabel('Familiarity rating', fontsize=12)\n",
    "ax[0].set_title('Sustained', fontsize=12)\n",
    "sns.despine(top=True, right=True)\n",
    "\n",
    "sns.lineplot(encoding_df(variable), x='Order', y='Familiarity Rating', hue='Attention', ax=ax[1], legend=False, palette=attention_colors)\n",
    "ax[1].set_xlabel('Presentation position', fontsize=12)\n",
    "ax[1].set_ylabel('')\n",
    "ax[1].set_title('Variable', fontsize=12)\n",
    "sns.despine(top=True, right=True)\n",
    "\n",
    "ax[0].set_xlim([0, 9])\n",
    "ax[0].set_ylim([1, 3.5])\n",
    "plt.tight_layout()\n",
    "\n",
    "fig.savefig(os.path.join(figdir, 'encoding_effects.pdf'), bbox_inches='tight')"
   ]
  },
  {
   "cell_type": "markdown",
   "metadata": {},
   "source": [
    "Plot familiarity as a function of recall position:\n",
    "  - $x$-axis: recall position\n",
    "  - $y$-axis: familiarity\n",
    "  - color: attention level"
   ]
  },
  {
   "cell_type": "markdown",
   "metadata": {},
   "source": [
    "# Figure 4C and D"
   ]
  },
  {
   "cell_type": "code",
   "execution_count": 33,
   "metadata": {},
   "outputs": [
    {
     "data": {
      "image/png": "[encoded data removed]",
      "text/plain": [
       "<Figure size 504x216 with 2 Axes>"
      ]
     },
     "metadata": {
      "needs_background": "light"
     },
     "output_type": "display_data"
    }
   ],
   "source": [
    "fig, ax = plt.subplots(nrows=1, ncols=2, figsize=(7, 3), sharey=True, sharex=True)\n",
    "\n",
    "sns.lineplot(sustained.query('`Trial Type` == \"Memory\"'), x='Order', y='Familiarity Rating', hue='Attention', palette=attention_colors, legend=False, ax=ax[0])\n",
    "ax[0].set_xlabel('Probe position', fontsize=12)\n",
    "ax[0].set_ylabel('Familiarity rating', fontsize=12)\n",
    "ax[0].set_title('Sustained', fontsize=12)\n",
    "sns.despine(top=True, right=True)\n",
    "\n",
    "sns.lineplot(variable.query('`Trial Type` == \"Memory\"'), x='Order', y='Familiarity Rating', hue='Attention', palette=attention_colors, legend=False, ax=ax[1])\n",
    "ax[1].set_xlabel('Probe position', fontsize=12)\n",
    "ax[1].set_ylabel('')\n",
    "ax[1].set_title('Variable', fontsize=12)\n",
    "sns.despine(top=True, right=True)\n",
    "\n",
    "ax[0].set_xlim([0, 39])\n",
    "ax[0].set_ylim([1, 3.5])\n",
    "plt.tight_layout()\n",
    "\n",
    "fig.savefig(os.path.join(figdir, 'familiarity_by_probe_position.pdf'), bbox_inches='tight')\n",
    "\n"
   ]
  },
  {
   "cell_type": "code",
   "execution_count": 34,
   "metadata": {},
   "outputs": [],
   "source": [
    "def cue_effect_heatmaps(df, fname=None):\n",
    "\n",
    "    attention_levels = ['Attended', 'Attended category', 'Attended location', 'Unattended']\n",
    "\n",
    "    cue_matches = ['Same cue sequence length', 'Category sequence length', 'Location sequence length']\n",
    "\n",
    "    fig, ax = plt.subplots(nrows=len(cue_matches), ncols=len(attention_levels), figsize=(12, 9), sharey=True, sharex='row')\n",
    "    x = df.query('`Trial Type` == \"Presentation\"')\n",
    "\n",
    "    for j, c in enumerate(cue_matches):\n",
    "        for i, a in enumerate(attention_levels):            \n",
    "            sns.histplot(data=x, x=c, y=a, discrete=True, cmap=sns.light_palette(attention_colors[a], as_cmap=True), stat='probability', common_norm=True, cbar=False, ax=ax[j, i], vmin=0, vmax=0.05)\n",
    "            sns.regplot(data=x, x=c, y=a, color='k', scatter=False, ax=ax[j, i])\n",
    "            ax[j, i].set_xlabel(c, fontsize=12)\n",
    "\n",
    "            if j == 0:\n",
    "                ax[j, i].set_title(a, fontsize=14)\n",
    "            if i == 0:\n",
    "                ax[j, i].set_ylabel('Familiarity rating', fontsize=12)\n",
    "            else:\n",
    "                ax[j, i].set_ylabel('')\n",
    "            \n",
    "            ax[j, i].set_yticks([1, 2, 3, 4])\n",
    "            \n",
    "            ax[j, i].set_xlim([0.5, x[c].max() + 0.5])\n",
    "            ax[j, i].set_ylim([0.5, 4.5])\n",
    "\n",
    "            vals = x[[a, c]].dropna(how='any', axis=0)\n",
    "            r = pearsonr(vals[c], vals[a])\n",
    "            if r.pvalue < 0.001:\n",
    "                p_string = 'p < 0.001'\n",
    "            else:\n",
    "                p_string = f'p = {r.pvalue:.3f}'\n",
    "\n",
    "            print(f'{a} {c} $r = {r.statistic:.3f}, {p_string}$')\n",
    "\n",
    "    plt.tight_layout()\n",
    "\n",
    "    if fname is not None:\n",
    "        fig.savefig(os.path.join(figdir, fname + '.pdf'), bbox_inches='tight')\n",
    "    \n",
    "    return fig"
   ]
  },
  {
   "cell_type": "markdown",
   "metadata": {},
   "source": [
    "# Figure S4"
   ]
  },
  {
   "cell_type": "code",
   "execution_count": 35,
   "metadata": {},
   "outputs": [
    {
     "name": "stdout",
     "output_type": "stream",
     "text": [
      "Attended Same cue sequence length $r = 0.006, p = 0.859$\n",
      "Attended category Same cue sequence length $r = -0.008, p = 0.823$\n",
      "Attended location Same cue sequence length $r = 0.000, p = 0.996$\n",
      "Unattended Same cue sequence length $r = 0.000, p = 0.996$\n",
      "Attended Category sequence length $r = 0.011, p = 0.751$\n",
      "Attended category Category sequence length $r = -0.000, p = 0.998$\n",
      "Attended location Category sequence length $r = 0.042, p = 0.237$\n",
      "Unattended Category sequence length $r = 0.013, p = 0.709$\n",
      "Attended Location sequence length $r = 0.029, p = 0.416$\n",
      "Attended category Location sequence length $r = -0.017, p = 0.633$\n",
      "Attended location Location sequence length $r = -0.029, p = 0.410$\n",
      "Unattended Location sequence length $r = 0.005, p = 0.883$\n"
     ]
    },
    {
     "data": {
      "image/png": "[encoded data removed]",
      "text/plain": [
       "<Figure size 864x648 with 12 Axes>"
      ]
     },
     "metadata": {
      "needs_background": "light"
     },
     "output_type": "display_data"
    }
   ],
   "source": [
    "cue_effect_heatmaps(sustained, fname='sustained_cue_effects');"
   ]
  },
  {
   "cell_type": "code",
   "execution_count": 36,
   "metadata": {},
   "outputs": [
    {
     "data": {
      "image/png": "[encoded data removed]",
      "text/plain": [
       "<Figure size 14.4x144 with 1 Axes>"
      ]
     },
     "metadata": {
      "needs_background": "light"
     },
     "output_type": "display_data"
    },
    {
     "data": {
      "image/png": "[encoded data removed]",
      "text/plain": [
       "<Figure size 14.4x144 with 1 Axes>"
      ]
     },
     "metadata": {
      "needs_background": "light"
     },
     "output_type": "display_data"
    },
    {
     "data": {
      "image/png": "[encoded data removed]",
      "text/plain": [
       "<Figure size 14.4x144 with 1 Axes>"
      ]
     },
     "metadata": {
      "needs_background": "light"
     },
     "output_type": "display_data"
    },
    {
     "data": {
      "image/png": "[encoded data removed]",
      "text/plain": [
       "<Figure size 14.4x144 with 1 Axes>"
      ]
     },
     "metadata": {
      "needs_background": "light"
     },
     "output_type": "display_data"
    },
    {
     "data": {
      "image/png": "[encoded data removed]",
      "text/plain": [
       "<Figure size 14.4x144 with 1 Axes>"
      ]
     },
     "metadata": {
      "needs_background": "light"
     },
     "output_type": "display_data"
    },
    {
     "data": {
      "image/png": "[encoded data removed]",
      "text/plain": [
       "<Figure size 14.4x144 with 1 Axes>"
      ]
     },
     "metadata": {
      "needs_background": "light"
     },
     "output_type": "display_data"
    },
    {
     "data": {
      "image/png": "[encoded data removed]",
      "text/plain": [
       "<Figure size 14.4x144 with 1 Axes>"
      ]
     },
     "metadata": {
      "needs_background": "light"
     },
     "output_type": "display_data"
    }
   ],
   "source": [
    "for k, v in attention_colors.items():\n",
    "    plot_colorbar(sns.light_palette(v, as_cmap=True), f'{k.lower()}_light_colorbar')"
   ]
  },
  {
   "cell_type": "code",
   "execution_count": 37,
   "metadata": {},
   "outputs": [
    {
     "name": "stdout",
     "output_type": "stream",
     "text": [
      "Attended Same cue sequence length $r = -0.030, p = 0.497$\n",
      "Attended category Same cue sequence length $r = 0.056, p = 0.196$\n",
      "Attended location Same cue sequence length $r = 0.046, p = 0.304$\n",
      "Unattended Same cue sequence length $r = 0.081, p = 0.060$\n",
      "Attended Category sequence length $r = -0.039, p = 0.380$\n",
      "Attended category Category sequence length $r = 0.066, p = 0.129$\n",
      "Attended location Category sequence length $r = 0.084, p = 0.057$\n",
      "Unattended Category sequence length $r = 0.100, p = 0.021$\n",
      "Attended Location sequence length $r = 0.004, p = 0.929$\n",
      "Attended category Location sequence length $r = 0.011, p = 0.804$\n",
      "Attended location Location sequence length $r = 0.010, p = 0.814$\n",
      "Unattended Location sequence length $r = 0.009, p = 0.841$\n"
     ]
    },
    {
     "data": {
      "image/png": "[encoded data removed]",
      "text/plain": [
       "<Figure size 864x648 with 12 Axes>"
      ]
     },
     "metadata": {
      "needs_background": "light"
     },
     "output_type": "display_data"
    }
   ],
   "source": [
    "cue_effect_heatmaps(variable, fname='variable_cue_effects');"
   ]
  },
  {
   "cell_type": "markdown",
   "metadata": {},
   "source": [
    "Recency and response biases:\n",
    "  - For each probe, compute the temporal distance (in image presentations) to the nearest same-category cue\n",
    "  - For each probe, compute the number of same-category cues from the current run\n",
    "  - For each probe, compute a recency-weighted average of the number of same-category cues on most recent run, where\n",
    "\n",
    "$w = \\argmax\\left[1 - \\exp\\{-\\frac{x}{\\tau}\\} , \\epsilon \\right]$,\n",
    "\n",
    "and where $w$ is the weight given to the cue at presentation position $x$, $\\tau = 2$, and $\\epsilon = 0.05$."
   ]
  },
  {
   "cell_type": "markdown",
   "metadata": {},
   "source": [
    "# Figure S5C"
   ]
  },
  {
   "cell_type": "code",
   "execution_count": 38,
   "metadata": {},
   "outputs": [
    {
     "data": {
      "image/png": "[encoded data removed]",
      "text/plain": [
       "<Figure size 288x201.6 with 1 Axes>"
      ]
     },
     "metadata": {
      "needs_background": "light"
     },
     "output_type": "display_data"
    }
   ],
   "source": [
    "fig = plt.figure(figsize=(4, 2.8))\n",
    "\n",
    "x = np.linspace(0, 9, 10)\n",
    "plt.plot(x, recency(x, tau=2, eps=0.05) / sum(recency(x, tau=2, eps=0.05)), 'ko-')\n",
    "plt.xlabel('Presentation position', fontsize=12)\n",
    "plt.ylabel('Recency weight', fontsize=12)\n",
    "plt.ylim([0, 0.14])\n",
    "plt.xlim([-0.3, 9.3])\n",
    "sns.despine(top=True, right=True)\n",
    "\n",
    "fig.savefig(os.path.join(figdir, 'recency_weights.pdf'), bbox_inches='tight')"
   ]
  },
  {
   "cell_type": "markdown",
   "metadata": {},
   "source": [
    "# Figure S5A"
   ]
  },
  {
   "cell_type": "code",
   "execution_count": 39,
   "metadata": {},
   "outputs": [
    {
     "data": {
      "image/png": "[encoded data removed]",
      "text/plain": [
       "<Figure size 288x201.6 with 1 Axes>"
      ]
     },
     "metadata": {
      "needs_background": "light"
     },
     "output_type": "display_data"
    }
   ],
   "source": [
    "fig = plt.figure(figsize=(4, 2.8))\n",
    "sns.barplot(sustained.query('`Trial Type` == \"Memory\" and Attention == \"Novel\"'), x='Category-matched recent cue', y='Familiarity Rating', color=attention_colors['Novel'])\n",
    "plt.xlabel('Category-matched recent cue', fontsize=12)\n",
    "plt.ylabel('Familiarity rating', fontsize=12)\n",
    "plt.ylim([1.6, 3])\n",
    "plt.tight_layout()\n",
    "sns.despine(top=True, right=True)\n",
    "\n",
    "# statistical test\n",
    "vals = sustained.query('`Trial Type` == \"Memory\" and Attention == \"Novel\"').groupby(['Subject', 'Category-matched recent cue']).mean(numeric_only=True).reset_index().set_index('Subject')[['Category-matched recent cue', 'Familiarity Rating']].dropna(how='any', axis=0)\n",
    "\n",
    "fig.savefig(os.path.join(figdir, 'sustained_category_match_recent_cue.pdf'), bbox_inches='tight')"
   ]
  },
  {
   "attachments": {},
   "cell_type": "markdown",
   "metadata": {},
   "source": [
    "Look for familiarity differences (in the sustained condition) between attended vs. unattended category novel images:"
   ]
  },
  {
   "cell_type": "code",
   "execution_count": 41,
   "metadata": {},
   "outputs": [
    {
     "name": "stdout",
     "output_type": "stream",
     "text": [
      "Response bias (increase in familiarity for novel images from the most recently cued category): $t(29) = 4.371, p < 0.001$\n"
     ]
    }
   ],
   "source": [
    "result = ttest_rel(vals.query('`Category-matched recent cue` == True')['Familiarity Rating'], vals.query('`Category-matched recent cue` == False')['Familiarity Rating'])\n",
    "if result.pvalue < 0.001:\n",
    "    p_string = 'p < 0.001'\n",
    "else:\n",
    "    p_string = f'p = {result.pvalue:.3f}'\n",
    "print(f'Response bias (increase in familiarity for novel images from the most recently cued category): $t({result.df}) = {result.statistic:.3f}, {p_string}$')"
   ]
  },
  {
   "attachments": {},
   "cell_type": "markdown",
   "metadata": {},
   "source": [
    "Look for familiarity differences (in the sustained condition) between attended category *targets* vs. attended category *lures*:"
   ]
  },
  {
   "cell_type": "code",
   "execution_count": 55,
   "metadata": {},
   "outputs": [
    {
     "name": "stdout",
     "output_type": "stream",
     "text": [
      "Familiarity for attended category targets vs lures: $t(29) = 2.645, p = 0.013$\n"
     ]
    }
   ],
   "source": [
    "attended_category_targets = sustained.query('`Trial Type` == \"Memory\" and Attention == \"Attended category\"').groupby(['Subject', 'Category-matched recent cue']).mean(numeric_only=True).reset_index().set_index('Subject')[['Familiarity Rating']].dropna(how='any', axis=0)\n",
    "attended_category_lures = sustained.query('`Trial Type` == \"Memory\" and Attention == \"Novel\" and `Category-matched recent cue`').groupby(['Subject']).mean(numeric_only=True).reset_index().set_index('Subject')[['Familiarity Rating']].dropna(how='any', axis=0)\n",
    "\n",
    "result = ttest_rel(attended_category_targets['Familiarity Rating'], attended_category_lures['Familiarity Rating'])\n",
    "if result.pvalue < 0.001:\n",
    "    p_string = 'p < 0.001'\n",
    "else:\n",
    "    p_string = f'p = {result.pvalue:.3f}'\n",
    "print(f'Familiarity for attended category targets vs lures: $t({result.df}) = {result.statistic:.3f}, {p_string}$')"
   ]
  },
  {
   "cell_type": "code",
   "execution_count": null,
   "metadata": {},
   "outputs": [],
   "source": [
    "def cue_recency_heatmaps(df, metrics=None, fname=None):\n",
    "\n",
    "    attention_levels = ['Attended', 'Attended category', 'Attended location', 'Unattended', 'Novel']\n",
    "\n",
    "    if metrics is None:\n",
    "        metrics = ['Distance to nearest same-category cue', 'Recency-weighted number of same-category cues']\n",
    "\n",
    "    fig, ax = plt.subplots(nrows=len(metrics), ncols=len(attention_levels), figsize=(15, 6), sharey=True, sharex='row')\n",
    "    x = df.query('`Trial Type` == \"Memory\"')\n",
    "\n",
    "    for j, c in enumerate(metrics):\n",
    "        for i, a in enumerate(attention_levels):\n",
    "            xa = x.query('Attention == @a').sort_values(by=[c])\n",
    "\n",
    "            if xa.shape[0] == 0:\n",
    "                ax[j, i].set_axis_off()\n",
    "                continue\n",
    "\n",
    "            if c == 'Recency-weighted number of same-category cues':\n",
    "                bins = np.histogram(xa[c], bins=25)[1]\n",
    "                xa['Digitized recency-weighted number of same-category cues'] = np.digitize(xa[c], bins)\n",
    "                cx = 'Digitized recency-weighted number of same-category cues'\n",
    "                vmax = 0.025\n",
    "            else:\n",
    "                vmax = 0.15\n",
    "                cx = c\n",
    "\n",
    "\n",
    "            sns.histplot(data=xa, x=cx, y='Familiarity Rating', discrete=True, cmap=sns.light_palette(attention_colors[a], as_cmap=True), stat='probability', vmin=0, vmax=vmax, common_norm=True, cbar=False, ax=ax[j, i])\n",
    "            sns.regplot(data=xa, x=cx, y='Familiarity Rating', color='k', scatter=False, ax=ax[j, i])\n",
    "            ax[j, i].set_xlabel(c.replace('same-', '\\nsame-'), fontsize=12)\n",
    "\n",
    "            if j == 0:\n",
    "                ax[j, i].set_title(a, fontsize=14)\n",
    "            if i == 0:\n",
    "                ax[j, i].set_ylabel('Familiarity rating', fontsize=12)\n",
    "            else:\n",
    "                ax[j, i].set_ylabel('')\n",
    "            \n",
    "            ax[j, i].set_yticks([1, 2, 3, 4])\n",
    "\n",
    "            ax[j, i].set_xlim([0.5, xa[cx].max() + 0.5])\n",
    "            ax[j, i].set_ylim([0.5, 4.5])                                                \n",
    "\n",
    "            vals = xa[['Familiarity Rating', c]].dropna(how='any', axis=0)\n",
    "            r = pearsonr(vals[c], vals['Familiarity Rating'])\n",
    "            if r.pvalue < 0.001:\n",
    "                p_string = 'p < 0.001'\n",
    "            else:\n",
    "                p_string = f'p = {r.pvalue:.3f}'\n",
    "\n",
    "            print(f'{a} {c} $r = {r.statistic:.3f}, {p_string}$')\n",
    "\n",
    "    plt.tight_layout()\n",
    "\n",
    "    # fix up recency-weighted labels\n",
    "    for j, c in enumerate(metrics):\n",
    "        if c == 'Recency-weighted number of same-category cues':\n",
    "            with warnings.catch_warnings():\n",
    "                warnings.simplefilter(\"ignore\")  # ignore FixedLocator warning\n",
    "                ax[j, 0].set_xticklabels([f'{bins[int(i) - 1] + bins[int(i)] / 2:0.2f}' if (i > 1 and i < len(bins)) else '' for i in ax[j, 0].get_xticks()])\n",
    "\n",
    "    if fname is not None:\n",
    "        fig.savefig(os.path.join(figdir, fname + '.pdf'), bbox_inches='tight')\n",
    "    \n",
    "    return fig"
   ]
  },
  {
   "cell_type": "markdown",
   "metadata": {},
   "source": [
    "# Figure S5B"
   ]
  },
  {
   "cell_type": "code",
   "execution_count": null,
   "metadata": {},
   "outputs": [
    {
     "name": "stdout",
     "output_type": "stream",
     "text": [
      "Attended Distance to nearest same-category cue $r = -0.001, p = 0.982$\n",
      "Attended category Distance to nearest same-category cue $r = 0.034, p = 0.315$\n",
      "Attended location Distance to nearest same-category cue $r = 0.038, p = 0.254$\n",
      "Unattended Distance to nearest same-category cue $r = -0.044, p = 0.189$\n",
      "Novel Distance to nearest same-category cue $r = -0.029, p = 0.085$\n",
      "Attended Recency-weighted number of same-category cues $r = -0.008, p = 0.810$\n",
      "Attended category Recency-weighted number of same-category cues $r = 0.044, p = 0.190$\n",
      "Attended location Recency-weighted number of same-category cues $r = 0.069, p = 0.041$\n",
      "Unattended Recency-weighted number of same-category cues $r = -0.061, p = 0.069$\n",
      "Novel Recency-weighted number of same-category cues $r = -0.027, p = 0.107$\n"
     ]
    },
    {
     "data": {
      "image/png": "[encoded data removed]",
      "text/plain": [
       "<Figure size 1080x432 with 10 Axes>"
      ]
     },
     "metadata": {
      "needs_background": "light"
     },
     "output_type": "display_data"
    }
   ],
   "source": [
    "cue_recency_heatmaps(variable, fname='cue_recency_heatmaps_variable');"
   ]
  }
 ],
 "metadata": {
  "kernelspec": {
   "display_name": "attention-memory.venv",
   "language": "python",
   "name": "python3"
  },
  "language_info": {
   "codemirror_mode": {
    "name": "ipython",
    "version": 3
   },
   "file_extension": ".py",
   "mimetype": "text/x-python",
   "name": "python",
   "nbconvert_exporter": "python",
   "pygments_lexer": "ipython3",
   "version": "3.10.9"
  },
  "vscode": {
   "interpreter": {
    "hash": "3b93b121883a728af7993b526ff0ee0b093293365821a185a02e3143a72feb1b"
   }
  }
 },
 "nbformat": 4,
 "nbformat_minor": 2
}
